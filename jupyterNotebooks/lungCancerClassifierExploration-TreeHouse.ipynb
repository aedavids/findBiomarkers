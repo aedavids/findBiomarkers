{
 "cells": [
  {
   "cell_type": "markdown",
   "metadata": {},
   "source": [
    "# Tree House Lung Cancer Binary Classifier exploration\n",
    "- Andrew E. Davidson\n",
    "- [aedavids@ucsc.edu](mailto:aedavids@edu?subject=lungCancerClassificationExploration.ipynb)\n",
    "- lab attribution\n",
    "\n",
    "\n",
    "\n",
    "## Overview\n",
    "Explore TCGA cancer samples. Surprisingly all example appear to be from people that are sick. Examples labeled as as normal does not imply the person was healthy.  Notice figure 1 does not have a \"health class\". It might be very useful to create a data set that contains both health and sick people\n",
    "\n",
    "<span style=\"color=red\"> AEDWIP double check meaning of health. does it mean benign cancer? never found a data dictionary </span>\n",
    "\n",
    "Rows with NA where dropped by data clean up pipe line\n",
    "\n",
    "references:\n",
    "- [https://ucsc-xena.gitbook.io/project/public-data-we-host/tcga](https://ucsc-xena.gitbook.io/project/public-data-we-host/tcga)\n",
    "- [https://xenabrowser.net/datapages/?hub=https://toil.xenahubs.net:443](https://xenabrowser.net/datapages/?hub=https://toil.xenahubs.net:443)\n",
    "- [https://github.com/rcurrie/tumornormal/blob/master/ingest.ipynb](https://github.com/rcurrie/tumornormal/blob/master/ingest.ipynb)"
   ]
  },
  {
   "cell_type": "code",
   "execution_count": 17,
   "metadata": {},
   "outputs": [],
   "source": [
    "import matplotlib.pyplot as plt\n",
    "import matplotlib.patches as mplpatches\n",
    "\n",
    "from matplotlibUtilities.histogram import Histogram as muHistogram\n",
    "import matplotlibUtilities.utilities as mu\n",
    "import numpy as np\n",
    "import pandas as pd\n",
    "\n",
    "# fix random seed for reproducibility\n",
    "theMeaningOfLife = 42\n",
    "np.random.seed(theMeaningOfLife)"
   ]
  },
  {
   "cell_type": "markdown",
   "metadata": {},
   "source": [
    "## Load Data"
   ]
  },
  {
   "cell_type": "code",
   "execution_count": 2,
   "metadata": {},
   "outputs": [
    {
     "name": "stdout",
     "output_type": "stream",
     "text": [
      "store.info():<class 'pandas.io.pytables.HDFStore'>\n",
      "File path: ../data/tcga_target_gtex.h5\n",
      "/expression            frame        (shape->[19126,58581])\n",
      "/labels                frame        (shape->[1,7])        \n",
      "store.keys():['/expression', '/labels']\n",
      "CPU times: user 77.5 ms, sys: 34 ms, total: 111 ms\n",
      "Wall time: 208 ms\n"
     ]
    }
   ],
   "source": [
    "%%time\n",
    "\n",
    "rootDir = \"..\"\n",
    "dataFile = \"{}/data/tcga_target_gtex.h5\".format(rootDir)\n",
    "\n",
    "# https://en.wikipedia.org/wiki/Hierarchical_Data_Format\n",
    "store = pd.HDFStore(dataFile, mode=\"r\")\n",
    "print(\"store.info():{}\".format(store.info()))\n",
    "print(\"store.keys():{}\".format(store.keys()))"
   ]
  },
  {
   "cell_type": "code",
   "execution_count": 3,
   "metadata": {},
   "outputs": [
    {
     "name": "stdout",
     "output_type": "stream",
     "text": [
      "CPU times: user 13.6 s, sys: 6.39 s, total: 20 s\n",
      "Wall time: 20.1 s\n"
     ]
    }
   ],
   "source": [
    "%%time\n",
    "# Load data set\n",
    "X = pd.read_hdf(dataFile, \"expression\") # RNA Sequence data\n",
    "Y = pd.read_hdf(dataFile, \"labels\")"
   ]
  },
  {
   "cell_type": "markdown",
   "metadata": {},
   "source": [
    "## Explore RNA Sequence data\n",
    "- ref [https://xenabrowser.net/datapages/?hub=https://toil.xenahubs.net:443](https://xenabrowser.net/datapages/?hub=https://toil.xenahubs.net:443)\n",
    "- RNA Sequence values are log. what is base? \n",
    "- Was anything else done to make the data sets comparable?"
   ]
  },
  {
   "cell_type": "code",
   "execution_count": 4,
   "metadata": {},
   "outputs": [
    {
     "data": {
      "text/html": [
       "<div>\n",
       "<style scoped>\n",
       "    .dataframe tbody tr th:only-of-type {\n",
       "        vertical-align: middle;\n",
       "    }\n",
       "\n",
       "    .dataframe tbody tr th {\n",
       "        vertical-align: top;\n",
       "    }\n",
       "\n",
       "    .dataframe thead th {\n",
       "        text-align: right;\n",
       "    }\n",
       "</style>\n",
       "<table border=\"1\" class=\"dataframe\">\n",
       "  <thead>\n",
       "    <tr style=\"text-align: right;\">\n",
       "      <th></th>\n",
       "      <th>5_8S_rRNA</th>\n",
       "      <th>7SK</th>\n",
       "      <th>A1BG</th>\n",
       "      <th>A1BG-AS1</th>\n",
       "    </tr>\n",
       "  </thead>\n",
       "  <tbody>\n",
       "    <tr>\n",
       "      <th>GTEX-1117F-0226-SM-5GZZ7</th>\n",
       "      <td>-9.965816</td>\n",
       "      <td>-9.965881</td>\n",
       "      <td>4.4595</td>\n",
       "      <td>0.9343</td>\n",
       "    </tr>\n",
       "    <tr>\n",
       "      <th>GTEX-1117F-0426-SM-5EGHI</th>\n",
       "      <td>-9.965816</td>\n",
       "      <td>-9.965881</td>\n",
       "      <td>1.1512</td>\n",
       "      <td>-1.2828</td>\n",
       "    </tr>\n",
       "    <tr>\n",
       "      <th>GTEX-1117F-0526-SM-5EGHJ</th>\n",
       "      <td>-9.965816</td>\n",
       "      <td>-9.965881</td>\n",
       "      <td>5.2411</td>\n",
       "      <td>0.8488</td>\n",
       "    </tr>\n",
       "    <tr>\n",
       "      <th>GTEX-1117F-0626-SM-5N9CS</th>\n",
       "      <td>-9.965816</td>\n",
       "      <td>-9.965881</td>\n",
       "      <td>5.4758</td>\n",
       "      <td>2.6325</td>\n",
       "    </tr>\n",
       "    <tr>\n",
       "      <th>GTEX-1117F-0726-SM-5GIEN</th>\n",
       "      <td>-9.965816</td>\n",
       "      <td>-0.833902</td>\n",
       "      <td>4.5534</td>\n",
       "      <td>1.3051</td>\n",
       "    </tr>\n",
       "  </tbody>\n",
       "</table>\n",
       "</div>"
      ],
      "text/plain": [
       "                          5_8S_rRNA       7SK    A1BG  A1BG-AS1\n",
       "GTEX-1117F-0226-SM-5GZZ7  -9.965816 -9.965881  4.4595    0.9343\n",
       "GTEX-1117F-0426-SM-5EGHI  -9.965816 -9.965881  1.1512   -1.2828\n",
       "GTEX-1117F-0526-SM-5EGHJ  -9.965816 -9.965881  5.2411    0.8488\n",
       "GTEX-1117F-0626-SM-5N9CS  -9.965816 -9.965881  5.4758    2.6325\n",
       "GTEX-1117F-0726-SM-5GIEN  -9.965816 -0.833902  4.5534    1.3051"
      ]
     },
     "execution_count": 4,
     "metadata": {},
     "output_type": "execute_result"
    }
   ],
   "source": [
    "X.head().iloc[:, 1:5]"
   ]
  },
  {
   "cell_type": "code",
   "execution_count": 5,
   "metadata": {},
   "outputs": [
    {
     "name": "stdout",
     "output_type": "stream",
     "text": [
      "X.shape:(19126, 58581)\n",
      "first 5 genes\n"
     ]
    },
    {
     "data": {
      "text/html": [
       "<div>\n",
       "<style scoped>\n",
       "    .dataframe tbody tr th:only-of-type {\n",
       "        vertical-align: middle;\n",
       "    }\n",
       "\n",
       "    .dataframe tbody tr th {\n",
       "        vertical-align: top;\n",
       "    }\n",
       "\n",
       "    .dataframe thead th {\n",
       "        text-align: right;\n",
       "    }\n",
       "</style>\n",
       "<table border=\"1\" class=\"dataframe\">\n",
       "  <thead>\n",
       "    <tr style=\"text-align: right;\">\n",
       "      <th></th>\n",
       "      <th>5_8S_rRNA</th>\n",
       "      <th>7SK</th>\n",
       "      <th>A1BG</th>\n",
       "      <th>A1BG-AS1</th>\n",
       "    </tr>\n",
       "  </thead>\n",
       "  <tbody>\n",
       "    <tr>\n",
       "      <th>count</th>\n",
       "      <td>19126.000000</td>\n",
       "      <td>19126.000000</td>\n",
       "      <td>19126.000000</td>\n",
       "      <td>19126.000000</td>\n",
       "    </tr>\n",
       "    <tr>\n",
       "      <th>mean</th>\n",
       "      <td>-9.962880</td>\n",
       "      <td>-7.613990</td>\n",
       "      <td>3.624465</td>\n",
       "      <td>1.158016</td>\n",
       "    </tr>\n",
       "    <tr>\n",
       "      <th>std</th>\n",
       "      <td>0.182181</td>\n",
       "      <td>3.946099</td>\n",
       "      <td>1.991185</td>\n",
       "      <td>1.561282</td>\n",
       "    </tr>\n",
       "    <tr>\n",
       "      <th>min</th>\n",
       "      <td>-9.965816</td>\n",
       "      <td>-9.965881</td>\n",
       "      <td>-9.965800</td>\n",
       "      <td>-9.965800</td>\n",
       "    </tr>\n",
       "    <tr>\n",
       "      <th>25%</th>\n",
       "      <td>-9.965816</td>\n",
       "      <td>-9.965881</td>\n",
       "      <td>2.441200</td>\n",
       "      <td>0.215400</td>\n",
       "    </tr>\n",
       "    <tr>\n",
       "      <th>50%</th>\n",
       "      <td>-9.965816</td>\n",
       "      <td>-9.965881</td>\n",
       "      <td>3.645100</td>\n",
       "      <td>1.313800</td>\n",
       "    </tr>\n",
       "    <tr>\n",
       "      <th>75%</th>\n",
       "      <td>-9.965816</td>\n",
       "      <td>-2.826196</td>\n",
       "      <td>4.725150</td>\n",
       "      <td>2.321475</td>\n",
       "    </tr>\n",
       "    <tr>\n",
       "      <th>max</th>\n",
       "      <td>2.702900</td>\n",
       "      <td>6.704600</td>\n",
       "      <td>13.798300</td>\n",
       "      <td>5.608800</td>\n",
       "    </tr>\n",
       "  </tbody>\n",
       "</table>\n",
       "</div>"
      ],
      "text/plain": [
       "          5_8S_rRNA           7SK          A1BG      A1BG-AS1\n",
       "count  19126.000000  19126.000000  19126.000000  19126.000000\n",
       "mean      -9.962880     -7.613990      3.624465      1.158016\n",
       "std        0.182181      3.946099      1.991185      1.561282\n",
       "min       -9.965816     -9.965881     -9.965800     -9.965800\n",
       "25%       -9.965816     -9.965881      2.441200      0.215400\n",
       "50%       -9.965816     -9.965881      3.645100      1.313800\n",
       "75%       -9.965816     -2.826196      4.725150      2.321475\n",
       "max        2.702900      6.704600     13.798300      5.608800"
      ]
     },
     "execution_count": 5,
     "metadata": {},
     "output_type": "execute_result"
    }
   ],
   "source": [
    "print(\"X.shape:{}\".format(X.shape))\n",
    "first5GenesDf = X.iloc[:, 1:5]\n",
    "print(\"first 5 genes\")\n",
    "first5GenesDf.describe()"
   ]
  },
  {
   "cell_type": "markdown",
   "metadata": {},
   "source": [
    "## Explore meta data"
   ]
  },
  {
   "cell_type": "code",
   "execution_count": 6,
   "metadata": {},
   "outputs": [
    {
     "data": {
      "text/html": [
       "<div>\n",
       "<style scoped>\n",
       "    .dataframe tbody tr th:only-of-type {\n",
       "        vertical-align: middle;\n",
       "    }\n",
       "\n",
       "    .dataframe tbody tr th {\n",
       "        vertical-align: top;\n",
       "    }\n",
       "\n",
       "    .dataframe thead th {\n",
       "        text-align: right;\n",
       "    }\n",
       "</style>\n",
       "<table border=\"1\" class=\"dataframe\">\n",
       "  <thead>\n",
       "    <tr style=\"text-align: right;\">\n",
       "      <th></th>\n",
       "      <th>category</th>\n",
       "      <th>disease</th>\n",
       "      <th>primary_site</th>\n",
       "      <th>sample_type</th>\n",
       "      <th>gender</th>\n",
       "      <th>study</th>\n",
       "      <th>tumor_normal</th>\n",
       "    </tr>\n",
       "    <tr>\n",
       "      <th>id</th>\n",
       "      <th></th>\n",
       "      <th></th>\n",
       "      <th></th>\n",
       "      <th></th>\n",
       "      <th></th>\n",
       "      <th></th>\n",
       "      <th></th>\n",
       "    </tr>\n",
       "  </thead>\n",
       "  <tbody>\n",
       "    <tr>\n",
       "      <th>GTEX-1117F-0226-SM-5GZZ7</th>\n",
       "      <td>Adipose - Subcutaneous</td>\n",
       "      <td>Adipose - Subcutaneous</td>\n",
       "      <td>Adipose Tissue</td>\n",
       "      <td>Normal Tissue</td>\n",
       "      <td>Female</td>\n",
       "      <td>GTEX</td>\n",
       "      <td>Normal</td>\n",
       "    </tr>\n",
       "    <tr>\n",
       "      <th>GTEX-1117F-0426-SM-5EGHI</th>\n",
       "      <td>Muscle - Skeletal</td>\n",
       "      <td>Muscle - Skeletal</td>\n",
       "      <td>Muscle</td>\n",
       "      <td>Normal Tissue</td>\n",
       "      <td>Female</td>\n",
       "      <td>GTEX</td>\n",
       "      <td>Normal</td>\n",
       "    </tr>\n",
       "    <tr>\n",
       "      <th>GTEX-1117F-0526-SM-5EGHJ</th>\n",
       "      <td>Artery - Tibial</td>\n",
       "      <td>Artery - Tibial</td>\n",
       "      <td>Blood Vessel</td>\n",
       "      <td>Normal Tissue</td>\n",
       "      <td>Female</td>\n",
       "      <td>GTEX</td>\n",
       "      <td>Normal</td>\n",
       "    </tr>\n",
       "    <tr>\n",
       "      <th>GTEX-1117F-0626-SM-5N9CS</th>\n",
       "      <td>Artery - Coronary</td>\n",
       "      <td>Artery - Coronary</td>\n",
       "      <td>Blood Vessel</td>\n",
       "      <td>Normal Tissue</td>\n",
       "      <td>Female</td>\n",
       "      <td>GTEX</td>\n",
       "      <td>Normal</td>\n",
       "    </tr>\n",
       "    <tr>\n",
       "      <th>GTEX-1117F-0726-SM-5GIEN</th>\n",
       "      <td>Heart - Atrial Appendage</td>\n",
       "      <td>Heart - Atrial Appendage</td>\n",
       "      <td>Heart</td>\n",
       "      <td>Normal Tissue</td>\n",
       "      <td>Female</td>\n",
       "      <td>GTEX</td>\n",
       "      <td>Normal</td>\n",
       "    </tr>\n",
       "  </tbody>\n",
       "</table>\n",
       "</div>"
      ],
      "text/plain": [
       "                                          category                   disease  \\\n",
       "id                                                                             \n",
       "GTEX-1117F-0226-SM-5GZZ7    Adipose - Subcutaneous    Adipose - Subcutaneous   \n",
       "GTEX-1117F-0426-SM-5EGHI         Muscle - Skeletal         Muscle - Skeletal   \n",
       "GTEX-1117F-0526-SM-5EGHJ           Artery - Tibial           Artery - Tibial   \n",
       "GTEX-1117F-0626-SM-5N9CS         Artery - Coronary         Artery - Coronary   \n",
       "GTEX-1117F-0726-SM-5GIEN  Heart - Atrial Appendage  Heart - Atrial Appendage   \n",
       "\n",
       "                            primary_site    sample_type  gender study  \\\n",
       "id                                                                      \n",
       "GTEX-1117F-0226-SM-5GZZ7  Adipose Tissue  Normal Tissue  Female  GTEX   \n",
       "GTEX-1117F-0426-SM-5EGHI          Muscle  Normal Tissue  Female  GTEX   \n",
       "GTEX-1117F-0526-SM-5EGHJ    Blood Vessel  Normal Tissue  Female  GTEX   \n",
       "GTEX-1117F-0626-SM-5N9CS    Blood Vessel  Normal Tissue  Female  GTEX   \n",
       "GTEX-1117F-0726-SM-5GIEN           Heart  Normal Tissue  Female  GTEX   \n",
       "\n",
       "                         tumor_normal  \n",
       "id                                     \n",
       "GTEX-1117F-0226-SM-5GZZ7       Normal  \n",
       "GTEX-1117F-0426-SM-5EGHI       Normal  \n",
       "GTEX-1117F-0526-SM-5EGHJ       Normal  \n",
       "GTEX-1117F-0626-SM-5N9CS       Normal  \n",
       "GTEX-1117F-0726-SM-5GIEN       Normal  "
      ]
     },
     "execution_count": 6,
     "metadata": {},
     "output_type": "execute_result"
    }
   ],
   "source": [
    "Y.head() #.iloc[:, 1:5]"
   ]
  },
  {
   "cell_type": "code",
   "execution_count": 7,
   "metadata": {},
   "outputs": [
    {
     "name": "stdout",
     "output_type": "stream",
     "text": [
      "Y.shape:(19126, 7)\n"
     ]
    },
    {
     "data": {
      "text/html": [
       "<div>\n",
       "<style scoped>\n",
       "    .dataframe tbody tr th:only-of-type {\n",
       "        vertical-align: middle;\n",
       "    }\n",
       "\n",
       "    .dataframe tbody tr th {\n",
       "        vertical-align: top;\n",
       "    }\n",
       "\n",
       "    .dataframe thead th {\n",
       "        text-align: right;\n",
       "    }\n",
       "</style>\n",
       "<table border=\"1\" class=\"dataframe\">\n",
       "  <thead>\n",
       "    <tr style=\"text-align: right;\">\n",
       "      <th></th>\n",
       "      <th>category</th>\n",
       "      <th>disease</th>\n",
       "      <th>primary_site</th>\n",
       "      <th>sample_type</th>\n",
       "      <th>gender</th>\n",
       "      <th>study</th>\n",
       "      <th>tumor_normal</th>\n",
       "    </tr>\n",
       "  </thead>\n",
       "  <tbody>\n",
       "    <tr>\n",
       "      <th>count</th>\n",
       "      <td>19126</td>\n",
       "      <td>19126</td>\n",
       "      <td>19126</td>\n",
       "      <td>19126</td>\n",
       "      <td>19126</td>\n",
       "      <td>19126</td>\n",
       "      <td>19126</td>\n",
       "    </tr>\n",
       "    <tr>\n",
       "      <th>unique</th>\n",
       "      <td>93</td>\n",
       "      <td>93</td>\n",
       "      <td>46</td>\n",
       "      <td>16</td>\n",
       "      <td>3</td>\n",
       "      <td>3</td>\n",
       "      <td>2</td>\n",
       "    </tr>\n",
       "    <tr>\n",
       "      <th>top</th>\n",
       "      <td>Breast Invasive Carcinoma</td>\n",
       "      <td>Breast Invasive Carcinoma</td>\n",
       "      <td>Brain</td>\n",
       "      <td>Primary Tumor</td>\n",
       "      <td>Male</td>\n",
       "      <td>TCGA</td>\n",
       "      <td>Tumor</td>\n",
       "    </tr>\n",
       "    <tr>\n",
       "      <th>freq</th>\n",
       "      <td>1212</td>\n",
       "      <td>1212</td>\n",
       "      <td>1846</td>\n",
       "      <td>9185</td>\n",
       "      <td>10453</td>\n",
       "      <td>10534</td>\n",
       "      <td>10530</td>\n",
       "    </tr>\n",
       "  </tbody>\n",
       "</table>\n",
       "</div>"
      ],
      "text/plain": [
       "                         category                    disease primary_site  \\\n",
       "count                       19126                      19126        19126   \n",
       "unique                         93                         93           46   \n",
       "top     Breast Invasive Carcinoma  Breast Invasive Carcinoma        Brain   \n",
       "freq                         1212                       1212         1846   \n",
       "\n",
       "          sample_type gender  study tumor_normal  \n",
       "count           19126  19126  19126        19126  \n",
       "unique             16      3      3            2  \n",
       "top     Primary Tumor   Male   TCGA        Tumor  \n",
       "freq             9185  10453  10534        10530  "
      ]
     },
     "execution_count": 7,
     "metadata": {},
     "output_type": "execute_result"
    }
   ],
   "source": [
    "print(\"Y.shape:{}\".format(Y.shape))\n",
    "Y.describe()"
   ]
  },
  {
   "cell_type": "code",
   "execution_count": 8,
   "metadata": {},
   "outputs": [
    {
     "data": {
      "text/plain": [
       "Index(['category', 'disease', 'primary_site', 'sample_type', 'gender', 'study',\n",
       "       'tumor_normal'],\n",
       "      dtype='object')"
      ]
     },
     "execution_count": 8,
     "metadata": {},
     "output_type": "execute_result"
    }
   ],
   "source": [
    "Y.columns"
   ]
  },
  {
   "cell_type": "markdown",
   "metadata": {},
   "source": [
    "### Explore the distrubtion of 'categories'\n",
    "what is the difference between category, disease, primary_site\tmeta data? Values seem like they are the same? Is there a bug in the data clean up pipeline?"
   ]
  },
  {
   "cell_type": "code",
   "execution_count": 9,
   "metadata": {},
   "outputs": [
    {
     "data": {
      "text/plain": [
       "Text(0.5, 1.0, 'Fig. 1 Category counts')"
      ]
     },
     "execution_count": 9,
     "metadata": {},
     "output_type": "execute_result"
    },
    {
     "data": {
      "image/png": "[encoded data removed]",
      "text/plain": [
       "<Figure size 360x1296 with 1 Axes>"
      ]
     },
     "metadata": {
      "needs_background": "light"
     },
     "output_type": "display_data"
    }
   ],
   "source": [
    "def plotCategoryCounts(df, colNameStr):\n",
    "    '''\n",
    "    TODO: make this more generic\n",
    "    argument \n",
    "        df: a pandas data frame \n",
    "        colNameStr: \n",
    "        \n",
    "    returns:\n",
    "        (fix, axis)\n",
    "    '''\n",
    "    # countDF is series\n",
    "    countDF = df[colNameStr].value_counts()\n",
    "    fig, ax = plt.subplots()\n",
    "    fig.set_size_inches(5, 18)\n",
    "    ax.barh(countDF.index, countDF)\n",
    "\n",
    "    return (fig, ax)\n",
    "\n",
    "\n",
    "fig, ax = plotCategoryCounts(Y, \"category\")\n",
    "ax.set_title(\"Fig. 1 Category counts\")"
   ]
  },
  {
   "cell_type": "code",
   "execution_count": 10,
   "metadata": {},
   "outputs": [
    {
     "name": "stdout",
     "output_type": "stream",
     "text": [
      "<class 'numpy.ndarray'>\n"
     ]
    },
    {
     "data": {
      "text/plain": [
       "array(['Adipose - Subcutaneous', 'Muscle - Skeletal', 'Artery - Tibial',\n",
       "       'Artery - Coronary', 'Heart - Atrial Appendage',\n",
       "       'Adipose - Visceral (Omentum)', 'Ovary', 'Uterus',\n",
       "       'Breast - Mammary Tissue', 'Minor Salivary Gland',\n",
       "       'Brain - Cortex', 'Adrenal Gland', 'Thyroid', 'Lung', 'Pancreas',\n",
       "       'Esophagus - Muscularis', 'Esophagus - Mucosa', 'Stomach',\n",
       "       'Skin - Not Sun Exposed (Suprapubic)', 'Colon - Sigmoid',\n",
       "       'Small Intestine - Terminal Ileum', 'Colon - Transverse',\n",
       "       'Prostate', 'Testis', 'Skin - Sun Exposed (Lower Leg)',\n",
       "       'Nerve - Tibial', 'Heart - Left Ventricle', 'Spleen', 'Pituitary',\n",
       "       'Brain - Cerebellum', 'Cells - Transformed Fibroblasts',\n",
       "       'Whole Blood', 'Esophagus - Gastroesophageal Junction',\n",
       "       'Cells - Ebv-Transformed Lymphocytes', 'Artery - Aorta', 'Vagina',\n",
       "       'Liver', 'Brain - Substantia Nigra',\n",
       "       'Brain - Anterior Cingulate Cortex (Ba24)',\n",
       "       'Brain - Frontal Cortex (Ba9)', 'Brain - Cerebellar Hemisphere',\n",
       "       'Brain - Caudate (Basal Ganglia)',\n",
       "       'Brain - Nucleus Accumbens (Basal Ganglia)',\n",
       "       'Brain - Putamen (Basal Ganglia)', 'Brain - Hypothalamus',\n",
       "       'Kidney - Cortex', 'Brain - Hippocampus',\n",
       "       'Brain - Spinal Cord (Cervical C-1)', 'Brain - Amygdala',\n",
       "       'Bladder', 'Fallopian Tube', 'Cervix - Ectocervix',\n",
       "       'Cervix - Endocervix', 'Cells - Leukemia Cell Line (Cml)',\n",
       "       'Acute Lymphoblastic Leukemia', 'Acute Myeloid Leukemia',\n",
       "       'Acute Myeloid Leukemia, Induction Failure Subproject',\n",
       "       'Neuroblastoma', 'Wilms Tumor', 'Clear Cell Sarcoma Of The Kidney',\n",
       "       'Kidney, Rhabdoid Tumor', 'Glioblastoma Multiforme',\n",
       "       'Ovarian Serous Cystadenocarcinoma', 'Lung Adenocarcinoma',\n",
       "       'Lung Squamous Cell Carcinoma', 'Prostate Adenocarcinoma',\n",
       "       'Uterine Corpus Endometrioid Carcinoma',\n",
       "       'Bladder Urothelial Carcinoma', 'Testicular Germ Cell Tumor',\n",
       "       'Esophageal Carcinoma', 'Pancreatic Adenocarcinoma',\n",
       "       'Kidney Papillary Cell Carcinoma',\n",
       "       'Liver Hepatocellular Carcinoma', 'Cervical & Endocervical Cancer',\n",
       "       'Sarcoma', 'Breast Invasive Carcinoma', 'Thymoma', 'Mesothelioma',\n",
       "       'Colon Adenocarcinoma', 'Stomach Adenocarcinoma',\n",
       "       'Skin Cutaneous Melanoma', 'Cholangiocarcinoma',\n",
       "       'Kidney Clear Cell Carcinoma', 'Thyroid Carcinoma',\n",
       "       'Head & Neck Squamous Cell Carcinoma', 'Rectum Adenocarcinoma',\n",
       "       'Brain Lower Grade Glioma', 'Diffuse Large B-Cell Lymphoma',\n",
       "       'Kidney Chromophobe', 'Uterine Carcinosarcoma',\n",
       "       'Adrenocortical Cancer', 'Pheochromocytoma & Paraganglioma',\n",
       "       'Uveal Melanoma'], dtype=object)"
      ]
     },
     "execution_count": 10,
     "metadata": {},
     "output_type": "execute_result"
    }
   ],
   "source": [
    "uniqueCategoriesArray =  pd.unique(  Y.loc[:, 'category' ] )\n",
    "print(type(uniqueCategoriesArray))\n",
    "uniqueCategoriesArray"
   ]
  },
  {
   "cell_type": "code",
   "execution_count": 11,
   "metadata": {},
   "outputs": [
    {
     "name": "stdout",
     "output_type": "stream",
     "text": [
      "<class 'numpy.ndarray'>\n"
     ]
    },
    {
     "data": {
      "text/plain": [
       "array(['Adipose - Subcutaneous', 'Muscle - Skeletal', 'Artery - Tibial',\n",
       "       'Artery - Coronary', 'Heart - Atrial Appendage',\n",
       "       'Adipose - Visceral (Omentum)', 'Ovary', 'Uterus',\n",
       "       'Breast - Mammary Tissue', 'Minor Salivary Gland',\n",
       "       'Brain - Cortex', 'Adrenal Gland', 'Thyroid', 'Lung', 'Pancreas',\n",
       "       'Esophagus - Muscularis', 'Esophagus - Mucosa', 'Stomach',\n",
       "       'Skin - Not Sun Exposed (Suprapubic)', 'Colon - Sigmoid',\n",
       "       'Small Intestine - Terminal Ileum', 'Colon - Transverse',\n",
       "       'Prostate', 'Testis', 'Skin - Sun Exposed (Lower Leg)',\n",
       "       'Nerve - Tibial', 'Heart - Left Ventricle', 'Spleen', 'Pituitary',\n",
       "       'Brain - Cerebellum', 'Cells - Transformed Fibroblasts',\n",
       "       'Whole Blood', 'Esophagus - Gastroesophageal Junction',\n",
       "       'Cells - Ebv-Transformed Lymphocytes', 'Artery - Aorta', 'Vagina',\n",
       "       'Liver', 'Brain - Substantia Nigra',\n",
       "       'Brain - Anterior Cingulate Cortex (Ba24)',\n",
       "       'Brain - Frontal Cortex (Ba9)', 'Brain - Cerebellar Hemisphere',\n",
       "       'Brain - Caudate (Basal Ganglia)',\n",
       "       'Brain - Nucleus Accumbens (Basal Ganglia)',\n",
       "       'Brain - Putamen (Basal Ganglia)', 'Brain - Hypothalamus',\n",
       "       'Kidney - Cortex', 'Brain - Hippocampus',\n",
       "       'Brain - Spinal Cord (Cervical C-1)', 'Brain - Amygdala',\n",
       "       'Bladder', 'Fallopian Tube', 'Cervix - Ectocervix',\n",
       "       'Cervix - Endocervix', 'Cells - Leukemia Cell Line (Cml)',\n",
       "       'Acute Lymphoblastic Leukemia', 'Acute Myeloid Leukemia',\n",
       "       'Acute Myeloid Leukemia, Induction Failure Subproject',\n",
       "       'Neuroblastoma', 'Wilms Tumor', 'Clear Cell Sarcoma Of The Kidney',\n",
       "       'Kidney, Rhabdoid Tumor', 'Glioblastoma Multiforme',\n",
       "       'Ovarian Serous Cystadenocarcinoma', 'Lung Adenocarcinoma',\n",
       "       'Lung Squamous Cell Carcinoma', 'Prostate Adenocarcinoma',\n",
       "       'Uterine Corpus Endometrioid Carcinoma',\n",
       "       'Bladder Urothelial Carcinoma', 'Testicular Germ Cell Tumor',\n",
       "       'Esophageal Carcinoma', 'Pancreatic Adenocarcinoma',\n",
       "       'Kidney Papillary Cell Carcinoma',\n",
       "       'Liver Hepatocellular Carcinoma', 'Cervical & Endocervical Cancer',\n",
       "       'Sarcoma', 'Breast Invasive Carcinoma', 'Thymoma', 'Mesothelioma',\n",
       "       'Colon Adenocarcinoma', 'Stomach Adenocarcinoma',\n",
       "       'Skin Cutaneous Melanoma', 'Cholangiocarcinoma',\n",
       "       'Kidney Clear Cell Carcinoma', 'Thyroid Carcinoma',\n",
       "       'Head & Neck Squamous Cell Carcinoma', 'Rectum Adenocarcinoma',\n",
       "       'Brain Lower Grade Glioma', 'Diffuse Large B-Cell Lymphoma',\n",
       "       'Kidney Chromophobe', 'Uterine Carcinosarcoma',\n",
       "       'Adrenocortical Cancer', 'Pheochromocytoma & Paraganglioma',\n",
       "       'Uveal Melanoma'], dtype=object)"
      ]
     },
     "execution_count": 11,
     "metadata": {},
     "output_type": "execute_result"
    }
   ],
   "source": [
    "uniquediseasesArray =  pd.unique(  Y.loc[:, 'disease' ] )\n",
    "print(type(uniquediseasesArray))\n",
    "uniquediseasesArray"
   ]
  },
  {
   "cell_type": "code",
   "execution_count": 12,
   "metadata": {},
   "outputs": [
    {
     "name": "stdout",
     "output_type": "stream",
     "text": [
      "<class 'numpy.ndarray'>\n"
     ]
    },
    {
     "data": {
      "text/plain": [
       "array(['Adipose Tissue', 'Muscle', 'Blood Vessel', 'Heart', 'Ovary',\n",
       "       'Uterus', 'Breast', 'Salivary Gland', 'Brain', 'Adrenal Gland',\n",
       "       'Thyroid', 'Lung', 'Pancreas', 'Esophagus', 'Stomach', 'Skin',\n",
       "       'Colon', 'Small Intestine', 'Prostate', 'Testis', 'Nerve',\n",
       "       'Spleen', 'Pituitary', 'Blood', 'Vagina', 'Liver', 'Kidney',\n",
       "       'Bladder', 'Fallopian Tube', 'Cervix Uteri', 'Bone Marrow',\n",
       "       'White blood cell', 'SympatheticÊNervous System', 'Endometrium',\n",
       "       'Cervix', 'Soft tissue,Bone', 'Thymus', 'Lining of body cavities',\n",
       "       'Bile duct', 'Thyroid Gland', 'Head and Neck region', 'Rectum',\n",
       "       'Lymphatic tissue', 'Adrenal gland', 'Paraganglia', 'Eye'],\n",
       "      dtype=object)"
      ]
     },
     "execution_count": 12,
     "metadata": {},
     "output_type": "execute_result"
    }
   ],
   "source": [
    "uniquePrimarySiteArray =  pd.unique(  Y.loc[:, 'primary_site' ] )\n",
    "print(type(uniquePrimarySiteArray))\n",
    "uniquePrimarySiteArray"
   ]
  },
  {
   "cell_type": "markdown",
   "metadata": {},
   "source": [
    "### How many lung cancer samples are there?"
   ]
  },
  {
   "cell_type": "code",
   "execution_count": 13,
   "metadata": {},
   "outputs": [
    {
     "data": {
      "text/html": [
       "<div>\n",
       "<style scoped>\n",
       "    .dataframe tbody tr th:only-of-type {\n",
       "        vertical-align: middle;\n",
       "    }\n",
       "\n",
       "    .dataframe tbody tr th {\n",
       "        vertical-align: top;\n",
       "    }\n",
       "\n",
       "    .dataframe thead th {\n",
       "        text-align: right;\n",
       "    }\n",
       "</style>\n",
       "<table border=\"1\" class=\"dataframe\">\n",
       "  <thead>\n",
       "    <tr style=\"text-align: right;\">\n",
       "      <th></th>\n",
       "      <th>category</th>\n",
       "      <th>disease</th>\n",
       "      <th>primary_site</th>\n",
       "      <th>sample_type</th>\n",
       "      <th>gender</th>\n",
       "      <th>study</th>\n",
       "      <th>tumor_normal</th>\n",
       "    </tr>\n",
       "    <tr>\n",
       "      <th>id</th>\n",
       "      <th></th>\n",
       "      <th></th>\n",
       "      <th></th>\n",
       "      <th></th>\n",
       "      <th></th>\n",
       "      <th></th>\n",
       "      <th></th>\n",
       "    </tr>\n",
       "  </thead>\n",
       "  <tbody>\n",
       "    <tr>\n",
       "      <th>GTEX-111CU-0326-SM-5GZXO</th>\n",
       "      <td>Lung</td>\n",
       "      <td>Lung</td>\n",
       "      <td>Lung</td>\n",
       "      <td>Normal Tissue</td>\n",
       "      <td>Male</td>\n",
       "      <td>GTEX</td>\n",
       "      <td>Normal</td>\n",
       "    </tr>\n",
       "    <tr>\n",
       "      <th>GTEX-111FC-1126-SM-5GZWU</th>\n",
       "      <td>Lung</td>\n",
       "      <td>Lung</td>\n",
       "      <td>Lung</td>\n",
       "      <td>Normal Tissue</td>\n",
       "      <td>Male</td>\n",
       "      <td>GTEX</td>\n",
       "      <td>Normal</td>\n",
       "    </tr>\n",
       "    <tr>\n",
       "      <th>GTEX-111VG-0726-SM-5GIDC</th>\n",
       "      <td>Lung</td>\n",
       "      <td>Lung</td>\n",
       "      <td>Lung</td>\n",
       "      <td>Normal Tissue</td>\n",
       "      <td>Male</td>\n",
       "      <td>GTEX</td>\n",
       "      <td>Normal</td>\n",
       "    </tr>\n",
       "    <tr>\n",
       "      <th>GTEX-111YS-0626-SM-5GZXV</th>\n",
       "      <td>Lung</td>\n",
       "      <td>Lung</td>\n",
       "      <td>Lung</td>\n",
       "      <td>Normal Tissue</td>\n",
       "      <td>Male</td>\n",
       "      <td>GTEX</td>\n",
       "      <td>Normal</td>\n",
       "    </tr>\n",
       "    <tr>\n",
       "      <th>GTEX-1122O-0126-SM-5GICA</th>\n",
       "      <td>Lung</td>\n",
       "      <td>Lung</td>\n",
       "      <td>Lung</td>\n",
       "      <td>Normal Tissue</td>\n",
       "      <td>Female</td>\n",
       "      <td>GTEX</td>\n",
       "      <td>Normal</td>\n",
       "    </tr>\n",
       "    <tr>\n",
       "      <th>...</th>\n",
       "      <td>...</td>\n",
       "      <td>...</td>\n",
       "      <td>...</td>\n",
       "      <td>...</td>\n",
       "      <td>...</td>\n",
       "      <td>...</td>\n",
       "      <td>...</td>\n",
       "    </tr>\n",
       "    <tr>\n",
       "      <th>TCGA-O2-A52V-01</th>\n",
       "      <td>Lung Squamous Cell Carcinoma</td>\n",
       "      <td>Lung Squamous Cell Carcinoma</td>\n",
       "      <td>Lung</td>\n",
       "      <td>Primary Tumor</td>\n",
       "      <td>Female</td>\n",
       "      <td>TCGA</td>\n",
       "      <td>Tumor</td>\n",
       "    </tr>\n",
       "    <tr>\n",
       "      <th>TCGA-O2-A52W-01</th>\n",
       "      <td>Lung Squamous Cell Carcinoma</td>\n",
       "      <td>Lung Squamous Cell Carcinoma</td>\n",
       "      <td>Lung</td>\n",
       "      <td>Primary Tumor</td>\n",
       "      <td>Male</td>\n",
       "      <td>TCGA</td>\n",
       "      <td>Tumor</td>\n",
       "    </tr>\n",
       "    <tr>\n",
       "      <th>TCGA-O2-A5IB-01</th>\n",
       "      <td>Lung Squamous Cell Carcinoma</td>\n",
       "      <td>Lung Squamous Cell Carcinoma</td>\n",
       "      <td>Lung</td>\n",
       "      <td>Primary Tumor</td>\n",
       "      <td>Female</td>\n",
       "      <td>TCGA</td>\n",
       "      <td>Tumor</td>\n",
       "    </tr>\n",
       "    <tr>\n",
       "      <th>TCGA-S2-AA1A-01</th>\n",
       "      <td>Lung Adenocarcinoma</td>\n",
       "      <td>Lung Adenocarcinoma</td>\n",
       "      <td>Lung</td>\n",
       "      <td>Primary Tumor</td>\n",
       "      <td>Female</td>\n",
       "      <td>TCGA</td>\n",
       "      <td>Tumor</td>\n",
       "    </tr>\n",
       "    <tr>\n",
       "      <th>TCGA-XC-AA0X-01</th>\n",
       "      <td>Lung Squamous Cell Carcinoma</td>\n",
       "      <td>Lung Squamous Cell Carcinoma</td>\n",
       "      <td>Lung</td>\n",
       "      <td>Primary Tumor</td>\n",
       "      <td>Female</td>\n",
       "      <td>TCGA</td>\n",
       "      <td>Tumor</td>\n",
       "    </tr>\n",
       "  </tbody>\n",
       "</table>\n",
       "<p>1410 rows × 7 columns</p>\n",
       "</div>"
      ],
      "text/plain": [
       "                                              category  \\\n",
       "id                                                       \n",
       "GTEX-111CU-0326-SM-5GZXO                          Lung   \n",
       "GTEX-111FC-1126-SM-5GZWU                          Lung   \n",
       "GTEX-111VG-0726-SM-5GIDC                          Lung   \n",
       "GTEX-111YS-0626-SM-5GZXV                          Lung   \n",
       "GTEX-1122O-0126-SM-5GICA                          Lung   \n",
       "...                                                ...   \n",
       "TCGA-O2-A52V-01           Lung Squamous Cell Carcinoma   \n",
       "TCGA-O2-A52W-01           Lung Squamous Cell Carcinoma   \n",
       "TCGA-O2-A5IB-01           Lung Squamous Cell Carcinoma   \n",
       "TCGA-S2-AA1A-01                    Lung Adenocarcinoma   \n",
       "TCGA-XC-AA0X-01           Lung Squamous Cell Carcinoma   \n",
       "\n",
       "                                               disease primary_site  \\\n",
       "id                                                                    \n",
       "GTEX-111CU-0326-SM-5GZXO                          Lung         Lung   \n",
       "GTEX-111FC-1126-SM-5GZWU                          Lung         Lung   \n",
       "GTEX-111VG-0726-SM-5GIDC                          Lung         Lung   \n",
       "GTEX-111YS-0626-SM-5GZXV                          Lung         Lung   \n",
       "GTEX-1122O-0126-SM-5GICA                          Lung         Lung   \n",
       "...                                                ...          ...   \n",
       "TCGA-O2-A52V-01           Lung Squamous Cell Carcinoma         Lung   \n",
       "TCGA-O2-A52W-01           Lung Squamous Cell Carcinoma         Lung   \n",
       "TCGA-O2-A5IB-01           Lung Squamous Cell Carcinoma         Lung   \n",
       "TCGA-S2-AA1A-01                    Lung Adenocarcinoma         Lung   \n",
       "TCGA-XC-AA0X-01           Lung Squamous Cell Carcinoma         Lung   \n",
       "\n",
       "                            sample_type  gender study tumor_normal  \n",
       "id                                                                  \n",
       "GTEX-111CU-0326-SM-5GZXO  Normal Tissue    Male  GTEX       Normal  \n",
       "GTEX-111FC-1126-SM-5GZWU  Normal Tissue    Male  GTEX       Normal  \n",
       "GTEX-111VG-0726-SM-5GIDC  Normal Tissue    Male  GTEX       Normal  \n",
       "GTEX-111YS-0626-SM-5GZXV  Normal Tissue    Male  GTEX       Normal  \n",
       "GTEX-1122O-0126-SM-5GICA  Normal Tissue  Female  GTEX       Normal  \n",
       "...                                 ...     ...   ...          ...  \n",
       "TCGA-O2-A52V-01           Primary Tumor  Female  TCGA        Tumor  \n",
       "TCGA-O2-A52W-01           Primary Tumor    Male  TCGA        Tumor  \n",
       "TCGA-O2-A5IB-01           Primary Tumor  Female  TCGA        Tumor  \n",
       "TCGA-S2-AA1A-01           Primary Tumor  Female  TCGA        Tumor  \n",
       "TCGA-XC-AA0X-01           Primary Tumor  Female  TCGA        Tumor  \n",
       "\n",
       "[1410 rows x 7 columns]"
      ]
     },
     "execution_count": 13,
     "metadata": {},
     "output_type": "execute_result"
    }
   ],
   "source": [
    "LungCancerRows = Y['primary_site'].str.contains('un', case=False)\n",
    "lungMetaDF = Y.loc[LungCancerRows, :] \n",
    "lungMetaDF"
   ]
  },
  {
   "cell_type": "markdown",
   "metadata": {},
   "source": [
    "### How any examples are there for each kind of lung cancer"
   ]
  },
  {
   "cell_type": "code",
   "execution_count": 14,
   "metadata": {},
   "outputs": [
    {
     "data": {
      "text/html": [
       "<div>\n",
       "<style scoped>\n",
       "    .dataframe tbody tr th:only-of-type {\n",
       "        vertical-align: middle;\n",
       "    }\n",
       "\n",
       "    .dataframe tbody tr th {\n",
       "        vertical-align: top;\n",
       "    }\n",
       "\n",
       "    .dataframe thead th {\n",
       "        text-align: right;\n",
       "    }\n",
       "</style>\n",
       "<table border=\"1\" class=\"dataframe\">\n",
       "  <thead>\n",
       "    <tr style=\"text-align: right;\">\n",
       "      <th></th>\n",
       "      <th>disease</th>\n",
       "      <th>primary_site</th>\n",
       "      <th>sample_type</th>\n",
       "      <th>gender</th>\n",
       "      <th>study</th>\n",
       "      <th>tumor_normal</th>\n",
       "    </tr>\n",
       "    <tr>\n",
       "      <th>category</th>\n",
       "      <th></th>\n",
       "      <th></th>\n",
       "      <th></th>\n",
       "      <th></th>\n",
       "      <th></th>\n",
       "      <th></th>\n",
       "    </tr>\n",
       "  </thead>\n",
       "  <tbody>\n",
       "    <tr>\n",
       "      <th>Lung</th>\n",
       "      <td>288</td>\n",
       "      <td>288</td>\n",
       "      <td>288</td>\n",
       "      <td>288</td>\n",
       "      <td>288</td>\n",
       "      <td>288</td>\n",
       "    </tr>\n",
       "    <tr>\n",
       "      <th>Lung Adenocarcinoma</th>\n",
       "      <td>574</td>\n",
       "      <td>574</td>\n",
       "      <td>574</td>\n",
       "      <td>574</td>\n",
       "      <td>574</td>\n",
       "      <td>574</td>\n",
       "    </tr>\n",
       "    <tr>\n",
       "      <th>Lung Squamous Cell Carcinoma</th>\n",
       "      <td>548</td>\n",
       "      <td>548</td>\n",
       "      <td>548</td>\n",
       "      <td>548</td>\n",
       "      <td>548</td>\n",
       "      <td>548</td>\n",
       "    </tr>\n",
       "  </tbody>\n",
       "</table>\n",
       "</div>"
      ],
      "text/plain": [
       "                              disease  primary_site  sample_type  gender  \\\n",
       "category                                                                   \n",
       "Lung                              288           288          288     288   \n",
       "Lung Adenocarcinoma               574           574          574     574   \n",
       "Lung Squamous Cell Carcinoma      548           548          548     548   \n",
       "\n",
       "                              study  tumor_normal  \n",
       "category                                           \n",
       "Lung                            288           288  \n",
       "Lung Adenocarcinoma             574           574  \n",
       "Lung Squamous Cell Carcinoma    548           548  "
      ]
     },
     "execution_count": 14,
     "metadata": {},
     "output_type": "execute_result"
    }
   ],
   "source": [
    "lungMetaDF.groupby('category').count()"
   ]
  },
  {
   "cell_type": "markdown",
   "metadata": {},
   "source": [
    "## lung cancer , not lung cancer RNA Seq distribution"
   ]
  },
  {
   "cell_type": "code",
   "execution_count": 15,
   "metadata": {},
   "outputs": [
    {
     "name": "stdout",
     "output_type": "stream",
     "text": [
      "(1410, 58581)\n",
      "<class 'pandas.core.series.Series'>\n",
      "5S_rRNA     -9.650574\n",
      "5_8S_rRNA   -9.965816\n",
      "7SK         -8.055540\n",
      "A1BG         3.845833\n",
      "A1BG-AS1     1.702645\n",
      "dtype: float64\n",
      "\n",
      " averageLungCancerRNASeq.shape:(58581,)\n",
      "count    58581.000000\n",
      "mean        -4.762634\n",
      "std          5.646704\n",
      "min         -9.966025\n",
      "25%         -9.844387\n",
      "50%         -7.472451\n",
      "75%          0.327303\n",
      "max         13.327464\n",
      "dtype: float64\n",
      "\n",
      "5S_rRNA     -9.250535\n",
      "5_8S_rRNA   -9.962646\n",
      "7SK         -7.578847\n",
      "A1BG         3.606846\n",
      "A1BG-AS1     1.114669\n",
      "dtype: float64\n",
      "\n",
      " averageNotLungCancerRNASeq.shape:(58581,)\n",
      "count    58581.000000\n",
      "mean        -4.973468\n",
      "std          5.416152\n",
      "min         -9.965897\n",
      "25%         -9.755005\n",
      "50%         -7.582815\n",
      "75%         -0.246305\n",
      "max         14.077398\n",
      "dtype: float64\n"
     ]
    }
   ],
   "source": [
    "lungCancerDF = X.loc[LungCancerRows, :] \n",
    "print(lungCancerDF.shape)\n",
    "rows = 1 # if the data is data frame rows=0 and cols = 1\n",
    "cols = 0\n",
    "averageLungCancerRNASeq = lungCancerDF.mean(axis=cols)\n",
    "print(type(averageLungCancerRNASeq))\n",
    "print(averageLungCancerRNASeq.head())\n",
    "print(\"\\n averageLungCancerRNASeq.shape:{}\".format(averageLungCancerRNASeq.shape))\n",
    "# print(\"\\n average Lung Cancer RNAS Seq.describe\".\\\n",
    "#       format( averageLungCancerRNASeq.describe() ))\n",
    "print(averageLungCancerRNASeq.describe())\n",
    "print()\n",
    "      \n",
    "# ~ is 'not' in pandas\n",
    "notLungCancerDF = X.loc[~LungCancerRows, :]\n",
    "averageNotLungCancerRNASeq = notLungCancerDF.mean(axis=cols)\n",
    "\n",
    "print(averageNotLungCancerRNASeq.head())\n",
    "print(\"\\n averageNotLungCancerRNASeq.shape:{}\".format(averageNotLungCancerRNASeq.shape))\n",
    "# print(\"\\n average Not Lung Cancer RNA Seq.describe\\n{}\".format(averageNotLungCancerRNASeq.describe() ))\n",
    "print(averageNotLungCancerRNASeq.describe())"
   ]
  },
  {
   "cell_type": "code",
   "execution_count": 21,
   "metadata": {},
   "outputs": [
    {
     "name": "stdout",
     "output_type": "stream",
     "text": [
      "xMin:-10.965896672979369 xMax:15.077398378111447\n",
      "ylimMin:0.0 ylimMax:4.43480495701924\n"
     ]
    },
    {
     "data": {
      "text/plain": [
       "<matplotlib.legend.Legend at 0x7faf99124e90>"
      ]
     },
     "execution_count": 21,
     "metadata": {},
     "output_type": "execute_result"
    },
    {
     "data": {
      "image/png": "[encoded data removed]",
      "text/plain": [
       "<Figure size 612x792 with 1 Axes>"
      ]
     },
     "metadata": {
      "needs_background": "light"
     },
     "output_type": "display_data"
    }
   ],
   "source": [
    "# FIXME: AEDWIP: ledge colors are easy to break, you need to know color and alpha\n",
    "\n",
    "# standard paper size is 8.5 inches x 11 inches\n",
    "pageWidthInInches  = 8.5\n",
    "pageHeightInInches = 11  \n",
    "fig = plt.figure( figsize=(pageWidthInInches, pageHeightInInches) )\n",
    "panel = mu.createPanel(fig, pageWidthInInches, pageHeightInInches, \n",
    "                       leftRelativeSize=0, \n",
    "                       bottomRelativeSize=0)\n",
    "numBins = 100\n",
    "VollmerBlue = (53, 106, 201)\n",
    "meanLungRNASeqNP = averageLungCancerRNASeq.to_numpy()\n",
    "# meanLungRNASeqNPLog10 = np.log10(meanLungRNASeqNP)\n",
    "lungCancerHist = muHistogram(panel, meanLungRNASeqNP, numBins, \n",
    "                             RGBTuple=VollmerBlue, alpha=0.5, semiLog=True,\n",
    "                            label='lung cancer')\n",
    "\n",
    "meanNotLungRNASeqNP = averageNotLungCancerRNASeq.to_numpy()\n",
    "# meanNotLungRNASeqNPLog10 = np.log10(meanNotLungRNASeqNP)\n",
    "notLungCancerHist = muHistogram(panel, meanNotLungRNASeqNP, numBins, \n",
    "                             RGBTuple=(255, 0, 0), alpha=0.5, semiLog=True,\n",
    "                               label='not lung cancer')\n",
    "\n",
    "xlimMin = np.min(meanNotLungRNASeqNP) - 1\n",
    "xlimMax = np.max(meanNotLungRNASeqNP) + 1\n",
    "print(\"xMin:{} xMax:{}\".format(xlimMin, xlimMax))\n",
    "panel.set_xlim(xlimMin,xlimMax)\n",
    "\n",
    "\n",
    "ylimMin = np.min(notLungCancerHist.binCounts)# - 2\n",
    "ylimMax = np.max(notLungCancerHist.binCounts) + 0.25 #+ 100\n",
    "print(\"ylimMin:{} ylimMax:{}\".format(ylimMin, ylimMax)) # max count base_10 15,304\n",
    "panel.set_ylim(ylimMin, ylimMax)\n",
    "\n",
    "panel.set_xlabel(\"log base ??? RNA Seq\", fontsize=10, fontweight='bold')\n",
    "panel.set_ylabel(\"log10( bin counts )\", fontsize=10, fontweight='bold')\n",
    "\n",
    "# TODO: AEDWIP move this into matplotlibUtilities.utilities\n",
    "# https://stackoverflow.com/questions/43872450/matplotlib-histogram-with-multiple-legend-entries\n",
    "handles = [ mplpatches.Rectangle((0,0),1,1,color=c, alpha=0.5) for c in [ (53/255, 106/255, 201/255), (255/255, 0, 0) ] ]\n",
    "labels= [\"lung cancer\",\"not lung cancer\"]\n",
    "panel.legend(handles, labels)"
   ]
  },
  {
   "cell_type": "code",
   "execution_count": null,
   "metadata": {},
   "outputs": [],
   "source": []
  },
  {
   "cell_type": "code",
   "execution_count": null,
   "metadata": {},
   "outputs": [],
   "source": []
  },
  {
   "cell_type": "code",
   "execution_count": null,
   "metadata": {},
   "outputs": [],
   "source": []
  },
  {
   "cell_type": "code",
   "execution_count": null,
   "metadata": {},
   "outputs": [],
   "source": []
  },
  {
   "cell_type": "code",
   "execution_count": null,
   "metadata": {},
   "outputs": [],
   "source": []
  },
  {
   "cell_type": "code",
   "execution_count": null,
   "metadata": {},
   "outputs": [],
   "source": [
    "haldksls fskd xsllungDF.shape"
   ]
  },
  {
   "cell_type": "code",
   "execution_count": null,
   "metadata": {},
   "outputs": [],
   "source": [
    "# standard paper size is 8.5 inches x 11 inches\n",
    "pageWidthInInches  = 10\n",
    "pageHeightInInches = 5  \n",
    "fig = plt.figure( figsize=(pageWidthInInches, pageHeightInInches) )\n",
    "panel = plt.gca()\n",
    "meanRNASeqNP = averageLungCancerRNASeq.to_numpy()\n",
    "panel.bar(meanRNASeqNP, 0.1, label='mean lung')\n",
    "\n"
   ]
  },
  {
   "cell_type": "code",
   "execution_count": null,
   "metadata": {},
   "outputs": [],
   "source": [
    "df = pd.DataFrame({\"A\":[1, 2, 3, 4, 5], \n",
    "                   \"B\":[1, 2, 3, 4, 5],\n",
    "                   }) \n",
    "\n",
    "rows = 0\n",
    "cols = 1\n",
    "df.mean(axis=cols) # no arg == axis = 0 3.0 = 15 / 3"
   ]
  },
  {
   "cell_type": "code",
   "execution_count": null,
   "metadata": {},
   "outputs": [],
   "source": [
    "print(LungCancerRows.head())\n",
    "print(type(LungCancerRows))\n",
    "print()\n",
    "\n",
    "print(\"~ is not in pandas\")\n",
    "print(~LungCancerRows.head())\n"
   ]
  }
 ],
 "metadata": {
  "kernelspec": {
   "display_name": "Python 3",
   "language": "python",
   "name": "python3"
  },
  "language_info": {
   "codemirror_mode": {
    "name": "ipython",
    "version": 3
   },
   "file_extension": ".py",
   "mimetype": "text/x-python",
   "name": "python",
   "nbconvert_exporter": "python",
   "pygments_lexer": "ipython3",
   "version": "3.7.6"
  },
  "toc": {
   "base_numbering": 1,
   "nav_menu": {},
   "number_sections": true,
   "sideBar": true,
   "skip_h1_title": false,
   "title_cell": "Table of Contents",
   "title_sidebar": "Contents",
   "toc_cell": false,
   "toc_position": {},
   "toc_section_display": true,
   "toc_window_display": false
  },
  "varInspector": {
   "cols": {
    "lenName": 16,
    "lenType": 16,
    "lenVar": 40
   },
   "kernels_config": {
    "python": {
     "delete_cmd_postfix": "",
     "delete_cmd_prefix": "del ",
     "library": "var_list.py",
     "varRefreshCmd": "print(var_dic_list())"
    },
    "r": {
     "delete_cmd_postfix": ") ",
     "delete_cmd_prefix": "rm(",
     "library": "var_list.r",
     "varRefreshCmd": "cat(var_dic_list()) "
    }
   },
   "types_to_exclude": [
    "module",
    "function",
    "builtin_function_or_method",
    "instance",
    "_Feature"
   ],
   "window_display": false
  }
 },
 "nbformat": 4,
 "nbformat_minor": 2
}
