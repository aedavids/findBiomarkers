{
 "cells": [
  {
   "cell_type": "markdown",
   "metadata": {},
   "source": [
    "# Lung Cancer Binary Classifier Model\n",
    "- Andrew E. Davidson\n",
    "- [aedavids@ucsc.edu](mailto:aedavids@edu?subject=lungCancerBinaryClassifier.ipynb)\n",
    "- ?? what is the attribution for the kim lab\n",
    "\n",
    "Use logistic regression to classify lung vs. 'not lung' from gene expression\n",
    "\n",
    "## Overview\n",
    "* lung cancer vs. normal classifier using logistic regression\n",
    "* model is save to disk $rootDir/models/logisticRegressionLungNotLung.h5\n",
    "* training set comprised of gene expression values from Xena data set. The data was randomly split into 80/20 train/test sets\n",
    "* surprisingly all example appear to be from people that are sick. Examples labeled as as normal does not imply the person was healthy. Notice figure 1 does not have a \"health class\". It might be very useful to create a data set that contains both health and sick people\n",
    "* model summary\n",
    "    ```\n",
    "    total data set size 19,126 example each with 58,581 features\n",
    "\n",
    "AEDWIP !!!!!! wrong stats\n",
    "    training set accuracy = 0.9994\n",
    "        test set accuracy = 0.9929\n",
    "\n",
    "    confusion matrix\n",
    "    [[1701   19]\n",
    "     [   8 2098]]\n",
    "    False positive rate: (predicting tumor while normal) 0.011\n",
    "    False negative rate: (predicting normal while tumor) 0.004\n",
    "    ```\n",
    "    \n",
    "TODO: explore example that are not classified correctly\n",
    "    \n",
    "see \n",
    "- [lungCancerClassifierExploration.ipynb](lungCancerClassifierExploration.ipynb)\n",
    "- [lungCancerClassifierEvaluation.ipynb](lungCancerClassifierEvaluation.ipynb)\n"
   ]
  },
  {
   "cell_type": "code",
   "execution_count": 1,
   "metadata": {},
   "outputs": [
    {
     "name": "stdout",
     "output_type": "stream",
     "text": [
      "[INFO <ipython-input-1-cb04d083fd9c>:8 - <module>()] using logging configuration file:../src/logging.test.ini.json\n"
     ]
    }
   ],
   "source": [
    "import pathlib as pl\n",
    "\n",
    "import logging\n",
    "from   setupLogging import setupLogging\n",
    "configFilePath = setupLogging( default_path=pl.Path('../src/logging.ini.json'))\n",
    "configFilePath = setupLogging( default_path=pl.Path('../src/logging.test.ini.json'))\n",
    "logger = logging.getLogger(\"notebook\")\n",
    "logger.info(\"using logging configuration file:{}\".format(configFilePath))\n",
    "\n",
    "from dataUtilities.lungCancerData import LungCancerData\n",
    "\n",
    "import matplotlib.pyplot as plt\n",
    "import os\n",
    "import numpy as np\n",
    "import pandas as pd\n",
    "\n",
    "import tensorflow as tf\n",
    "from tensorflow import keras\n",
    "\n",
    "from tensorflow.keras.callbacks import EarlyStopping, ModelCheckpoint, TensorBoard\n",
    "from tensorflow.keras.models import Sequential, Model\n",
    "\n",
    "from tensorflow.keras import layers\n",
    "from tensorflow.keras.layers import Activation, BatchNormalization, Dense, Input\n",
    "\n",
    "from tensorflow.keras import optimizers\n",
    "from tensorflow.keras.optimizers import Adam\n",
    "\n",
    "# fix random seed for reproducibility\n",
    "theMeaningOfLife = 42\n",
    "np.random.seed(theMeaningOfLife)"
   ]
  },
  {
   "cell_type": "markdown",
   "metadata": {},
   "source": [
    "# Load Data\n"
   ]
  },
  {
   "cell_type": "code",
   "execution_count": 5,
   "metadata": {},
   "outputs": [
    {
     "name": "stdout",
     "output_type": "stream",
     "text": [
      "[INFO lungCancerData.py:257 - loadTrainingData()] BEGIN\n",
      "[INFO lungCancerData.py:265 - loadTrainingData()] store.info():<class 'pandas.io.pytables.HDFStore'>\n",
      "File path: ../data/lungCancerData/machineLeaning.h5\n",
      "/XTestDF                 frame        (shape->[3826,58581]) \n",
      "/XTrainDF                frame        (shape->[15300,58581])\n",
      "/yTestSeries             series       (shape->[3826])       \n",
      "/yTrainSeries            series       (shape->[15300])      \n",
      "[INFO lungCancerData.py:266 - loadTrainingData()] store.keys():['/XTestDF', '/XTrainDF', '/yTestSeries', '/yTrainSeries']\n",
      "[INFO lungCancerData.py:272 - loadTrainingData()] (15300, 58581)\n",
      "[INFO lungCancerData.py:273 - loadTrainingData()] (15300,)\n",
      "[INFO lungCancerData.py:278 - loadTrainingData()] END\n",
      "[INFO lungCancerData.py:286 - loadTestData()] BEGIN\n",
      "[INFO lungCancerData.py:294 - loadTestData()] store.info():<class 'pandas.io.pytables.HDFStore'>\n",
      "File path: ../data/lungCancerData/machineLeaning.h5\n",
      "/XTestDF                 frame        (shape->[3826,58581]) \n",
      "/XTrainDF                frame        (shape->[15300,58581])\n",
      "/yTestSeries             series       (shape->[3826])       \n",
      "/yTrainSeries            series       (shape->[15300])      \n",
      "[INFO lungCancerData.py:295 - loadTestData()] store.keys():['/XTestDF', '/XTrainDF', '/yTestSeries', '/yTrainSeries']\n",
      "[INFO lungCancerData.py:302 - loadTestData()] (15300, 58581)\n",
      "[INFO lungCancerData.py:303 - loadTestData()] (15300,)\n",
      "[INFO lungCancerData.py:305 - loadTestData()] (3826, 58581)\n",
      "[INFO lungCancerData.py:306 - loadTestData()] (3826,)\n",
      "[INFO lungCancerData.py:308 - loadTestData()] END\n",
      "CPU times: user 14.3 s, sys: 7.36 s, total: 21.7 s\n",
      "Wall time: 21.8 s\n"
     ]
    }
   ],
   "source": [
    "%%time\n",
    "dataDir = pl.Path(\"../data\")\n",
    "TCGADataFile = pl.Path(\"tcga_target_gtex.h5\".format(dataDir))\n",
    "lcData = LungCancerData(dataDir, TCGADataFile)\n",
    "lcData.loadTrainingData(theMeaningOfLife)\n",
    "lcData.loadTestData(theMeaningOfLife)"
   ]
  },
  {
   "cell_type": "code",
   "execution_count": 6,
   "metadata": {},
   "outputs": [
    {
     "name": "stdout",
     "output_type": "stream",
     "text": [
      "(15300, 58581)\n",
      "(15300,)\n",
      "\n",
      "(3826, 58581)\n",
      "(3826,)\n"
     ]
    }
   ],
   "source": [
    "print(lcData.XTrainNP.shape)\n",
    "print(lcData.yTrainSeries.values.shape)\n",
    "print()\n",
    "print(lcData.XTestNP.shape)\n",
    "print(lcData.yTestSeries.values.shape)"
   ]
  },
  {
   "cell_type": "code",
   "execution_count": 7,
   "metadata": {},
   "outputs": [
    {
     "data": {
      "text/plain": [
       "<matplotlib.axes._subplots.AxesSubplot at 0x7fada85a68d0>"
      ]
     },
     "execution_count": 7,
     "metadata": {},
     "output_type": "execute_result"
    },
    {
     "data": {
      "image/png": "[encoded data removed]",
      "text/plain": [
       "<Figure size 432x288 with 1 Axes>"
      ]
     },
     "metadata": {
      "needs_background": "light"
     },
     "output_type": "display_data"
    }
   ],
   "source": [
    "# checking if class balance is maintained\n",
    "# AEDWIP do these graphs make sence?\n",
    "labels = {'train': (lcData.yTrainSeries), 'test': (lcData.yTestSeries)}\n",
    "label_df = pd.DataFrame(labels)\n",
    "label_df.plot.hist(stacked=True)"
   ]
  },
  {
   "cell_type": "markdown",
   "metadata": {},
   "source": [
    "## Train Classifier"
   ]
  },
  {
   "cell_type": "code",
   "execution_count": 8,
   "metadata": {},
   "outputs": [],
   "source": [
    "# this is a neural network with a single activation node\n",
    "def logisticRegression(input_dim=None, output_dim=None, lr=0.001):\n",
    "    '''\n",
    "    implement a neural network with a single activation node. Uses a\n",
    "    Adam optimizer with the binary_crossentropy function\n",
    "    \n",
    "    Includes a batch normalization preprocess step. normalizaton \n",
    "    typically reduces training time.\n",
    "    \n",
    "    arguments:\n",
    "        input_dim:\n",
    "           type int: the number of features in each sample\n",
    "        \n",
    "        outputDim: \n",
    "            type int the number of classes\n",
    "        \n",
    "        lr: \n",
    "            type float: scaling factor for adjusting weight. larger\n",
    "            values may train faster how ever can cause optimization \n",
    "            algorithm to diverge if to large. Use loss curver plot\n",
    "            to evaluate    \n",
    "    \n",
    "    return:\n",
    "        keras.models\n",
    "    '''\n",
    "    classify = [\n",
    "        Input(shape=(input_dim, )),\n",
    "\n",
    "        # TODO: Is Keras smart? only need to run preprocessing step\n",
    "        # once\n",
    "        BatchNormalization(),\n",
    "        Dense(output_dim),  # dot(input, kernel) + bias\n",
    "        Activation('sigmoid')\n",
    "    ]\n",
    "\n",
    "    model = Sequential(classify)\n",
    "\n",
    "    model.compile(\n",
    "        loss='binary_crossentropy',\n",
    "        optimizer=Adam(lr=lr),\n",
    "        metrics=['accuracy'])\n",
    "\n",
    "    return model"
   ]
  },
  {
   "cell_type": "code",
   "execution_count": 9,
   "metadata": {},
   "outputs": [
    {
     "name": "stdout",
     "output_type": "stream",
     "text": [
      "Train on 15300 samples\n",
      "Epoch 1/20\n",
      "14336/15300 [===========================>..] - ETA: 1s - loss: 0.7783 - accuracy: 0.7692[WARNING deprecation.py:506 - new_func()] From /Users/andrewdavidson/anaconda3/envs/findBiomarkers/lib/python3.7/site-packages/tensorflow_core/python/ops/resource_variable_ops.py:1786: calling BaseResourceVariable.__init__ (from tensorflow.python.ops.resource_variable_ops) with constraint is deprecated and will be removed in a future version.\n",
      "Instructions for updating:\n",
      "If using Keras pass *_constraint arguments to layers.\n",
      "[INFO builder_impl.py:775 - copy_assets_to_destination_dir()] Assets written to: ./models/logisticRegressionCancerNotCancer.chkPt/assets\n",
      "15300/15300 [==============================] - 24s 2ms/sample - loss: 0.7359 - accuracy: 0.7820\n",
      "Epoch 2/20\n",
      "14336/15300 [===========================>..] - ETA: 0s - loss: 0.0345 - accuracy: 0.9894[INFO builder_impl.py:775 - copy_assets_to_destination_dir()] Assets written to: ./models/logisticRegressionCancerNotCancer.chkPt/assets\n",
      "15300/15300 [==============================] - 9s 587us/sample - loss: 0.0339 - accuracy: 0.9897\n",
      "Epoch 3/20\n",
      "14336/15300 [===========================>..] - ETA: 0s - loss: 0.0098 - accuracy: 0.9968[INFO builder_impl.py:775 - copy_assets_to_destination_dir()] Assets written to: ./models/logisticRegressionCancerNotCancer.chkPt/assets\n",
      "15300/15300 [==============================] - 7s 439us/sample - loss: 0.0095 - accuracy: 0.9969\n",
      "Epoch 4/20\n",
      "14336/15300 [===========================>..] - ETA: 0s - loss: 0.0044 - accuracy: 0.9990[INFO builder_impl.py:775 - copy_assets_to_destination_dir()] Assets written to: ./models/logisticRegressionCancerNotCancer.chkPt/assets\n",
      "15300/15300 [==============================] - 7s 444us/sample - loss: 0.0042 - accuracy: 0.9990\n",
      "Epoch 5/20\n",
      "14336/15300 [===========================>..] - ETA: 0s - loss: 0.0031 - accuracy: 0.9997[INFO builder_impl.py:775 - copy_assets_to_destination_dir()] Assets written to: ./models/logisticRegressionCancerNotCancer.chkPt/assets\n",
      "15300/15300 [==============================] - 7s 441us/sample - loss: 0.0030 - accuracy: 0.9997\n",
      "Epoch 6/20\n",
      "14336/15300 [===========================>..] - ETA: 0s - loss: 0.0024 - accuracy: 0.9999[INFO builder_impl.py:775 - copy_assets_to_destination_dir()] Assets written to: ./models/logisticRegressionCancerNotCancer.chkPt/assets\n",
      "15300/15300 [==============================] - 6s 396us/sample - loss: 0.0023 - accuracy: 0.9999\n",
      "Epoch 7/20\n",
      "14336/15300 [===========================>..] - ETA: 0s - loss: 0.0022 - accuracy: 0.9999[INFO builder_impl.py:775 - copy_assets_to_destination_dir()] Assets written to: ./models/logisticRegressionCancerNotCancer.chkPt/assets\n",
      "15300/15300 [==============================] - 6s 414us/sample - loss: 0.0021 - accuracy: 0.9999\n",
      "Epoch 8/20\n",
      "14336/15300 [===========================>..] - ETA: 0s - loss: 0.0023 - accuracy: 0.9999[INFO builder_impl.py:775 - copy_assets_to_destination_dir()] Assets written to: ./models/logisticRegressionCancerNotCancer.chkPt/assets\n",
      "15300/15300 [==============================] - 7s 431us/sample - loss: 0.0022 - accuracy: 0.9999\n",
      "Epoch 9/20\n",
      "14336/15300 [===========================>..] - ETA: 0s - loss: 0.0020 - accuracy: 0.9999[INFO builder_impl.py:775 - copy_assets_to_destination_dir()] Assets written to: ./models/logisticRegressionCancerNotCancer.chkPt/assets\n",
      "15300/15300 [==============================] - 6s 407us/sample - loss: 0.0019 - accuracy: 0.9999\n",
      "Epoch 10/20\n",
      "14336/15300 [===========================>..] - ETA: 0s - loss: 0.0046 - accuracy: 0.9999[INFO builder_impl.py:775 - copy_assets_to_destination_dir()] Assets written to: ./models/logisticRegressionCancerNotCancer.chkPt/assets\n",
      "15300/15300 [==============================] - 7s 447us/sample - loss: 0.0043 - accuracy: 0.9999\n",
      "Epoch 11/20\n",
      "14336/15300 [===========================>..] - ETA: 0s - loss: 8.9512e-04 - accuracy: 0.9999[INFO builder_impl.py:775 - copy_assets_to_destination_dir()] Assets written to: ./models/logisticRegressionCancerNotCancer.chkPt/assets\n",
      "15300/15300 [==============================] - 6s 392us/sample - loss: 8.6661e-04 - accuracy: 0.9999\n",
      "Epoch 12/20\n",
      "14336/15300 [===========================>..] - ETA: 0s - loss: 0.0041 - accuracy: 0.9997[INFO builder_impl.py:775 - copy_assets_to_destination_dir()] Assets written to: ./models/logisticRegressionCancerNotCancer.chkPt/assets\n",
      "15300/15300 [==============================] - 7s 459us/sample - loss: 0.0039 - accuracy: 0.9997\n",
      "Epoch 13/20\n",
      "14336/15300 [===========================>..] - ETA: 0s - loss: 0.0087 - accuracy: 0.9998[INFO builder_impl.py:775 - copy_assets_to_destination_dir()] Assets written to: ./models/logisticRegressionCancerNotCancer.chkPt/assets\n",
      "15300/15300 [==============================] - 6s 406us/sample - loss: 0.0082 - accuracy: 0.9998\n",
      "CPU times: user 10min 54s, sys: 2min 49s, total: 13min 44s\n",
      "Wall time: 2min 5s\n"
     ]
    }
   ],
   "source": [
    "%%time\n",
    "modelName = \"logisticRegressionCancerNotCancer\"\n",
    "logisticRegressionModel = logisticRegression(\n",
    "    input_dim=lcData.XTrainNP.shape[1], output_dim=1)\n",
    "\n",
    "# https://keras.io/callbacks/\n",
    "checkPointPath = \"./models/{}.chkPt\".format(modelName)\n",
    "callbacks = [\n",
    "    # monitor valuse either 'acc' for accuracy or 'loss'\n",
    "    # 'val_loss' is loss on hold if valaidation_split is set\n",
    "    # 'loss' is loss on training\n",
    "    # same for 'acc' and 'val_acc'\n",
    "    EarlyStopping(monitor='loss', patience=2, verbose=0),\n",
    "    ModelCheckpoint(\n",
    "        checkPointPath, monitor='loss', save_best_only=False, verbose=0)\n",
    "    # FIXME: progbar generates run time error\n",
    "    #,ProgbarLogger(count_mode='samples', stateful_metrics=None)\n",
    "]\n",
    "\n",
    "history = logisticRegressionModel.fit(\n",
    "    lcData.XTrainNP,\n",
    "    lcData.yTrainSeries.values,\n",
    "    shuffle=None,  # we already shuffled\n",
    "    epochs=20,  #100\n",
    "    batch_size=1024,\n",
    "    # we already split the data\n",
    "    validation_split=0.0,\n",
    "    verbose=1,\n",
    "    callbacks=callbacks)"
   ]
  },
  {
   "cell_type": "code",
   "execution_count": 10,
   "metadata": {},
   "outputs": [
    {
     "name": "stdout",
     "output_type": "stream",
     "text": [
      "Model: \"sequential\"\n",
      "_________________________________________________________________\n",
      "Layer (type)                 Output Shape              Param #   \n",
      "=================================================================\n",
      "batch_normalization (BatchNo (None, 58581)             234324    \n",
      "_________________________________________________________________\n",
      "dense (Dense)                (None, 1)                 58582     \n",
      "_________________________________________________________________\n",
      "activation (Activation)      (None, 1)                 0         \n",
      "=================================================================\n",
      "Total params: 292,906\n",
      "Trainable params: 175,744\n",
      "Non-trainable params: 117,162\n",
      "_________________________________________________________________\n"
     ]
    }
   ],
   "source": [
    "logisticRegressionModel.summary()"
   ]
  },
  {
   "cell_type": "code",
   "execution_count": 11,
   "metadata": {
    "scrolled": true
   },
   "outputs": [
    {
     "name": "stdout",
     "output_type": "stream",
     "text": [
      "AEDWIP look at last training lost loss: 0.0068 - accuracy: 0.9999\n",
      "train\n",
      "Loss    : 70.4687\n",
      "Accuracy: 0.0737\n",
      "\n",
      "test\n",
      "Loss    : 70.5374\n",
      "Accuracy: 0.0737\n",
      "CPU times: user 35.5 s, sys: 1min 26s, total: 2min 1s\n",
      "Wall time: 56.4 s\n"
     ]
    }
   ],
   "source": [
    "%%time\n",
    "# evaluate() computes the loss based on the input you pass\n",
    "# predict() generates output predictions based on the input you pass it\n",
    "evalTrain = logisticRegressionModel.evaluate(lcData.XTrainNP, lcData.yTrainSeries.values, verbose=0)\n",
    "evalTest  = logisticRegressionModel.evaluate(lcData.XTestNP,  lcData.yTestSeries.values,  verbose=0)\n",
    "\n",
    "print(\"AEDWIP look at last training lost loss: 0.0068 - accuracy: 0.9999\")\n",
    "\n",
    "print(\"train\")\n",
    "print(\"Loss    : {:.4f}\".format(evalTrain[0]))\n",
    "print(\"Accuracy: {:.4f}\".format(evalTrain[1]))\n",
    "\n",
    "print(\"\\ntest\")\n",
    "print(\"Loss    : {:.4f}\".format(evalTest[0]))\n",
    "print(\"Accuracy: {:.4f}\".format(evalTest[1]))"
   ]
  },
  {
   "cell_type": "code",
   "execution_count": null,
   "metadata": {},
   "outputs": [],
   "source": []
  },
  {
   "cell_type": "code",
   "execution_count": 19,
   "metadata": {},
   "outputs": [
    {
     "name": "stdout",
     "output_type": "stream",
     "text": [
      "[[7.836662e-34]\n",
      " [2.584138e-27]\n",
      " [0.000000e+00]]\n",
      "[0, 0, 0]\n",
      "[[ 282    0]\n",
      " [3544    0]]\n",
      "False positive rate: (predicting tumor while normal) 0.0\n",
      "False negative rate: (predicting normal while tumor) 1.0\n"
     ]
    }
   ],
   "source": [
    "from sklearn.metrics import confusion_matrix\n",
    "\n",
    "yTestPredict = logisticRegressionModel.predict(lcData.XTestNP)\n",
    "print(yTestPredict[0:3])\n",
    "yTestPredict = [1 if p > 0.5 else 0 for p in yTestPredict]\n",
    "print(yTestPredict[0:3])\n",
    "\n",
    "# lcData.yTrainSeries.values\n",
    "yTest = lcData.yTestSeries.values\n",
    "print(confusion_matrix(yTest, yTestPredict))\n",
    "\n",
    "\n",
    "# confusion matrix  C is such that C_i,j  is equal to the number of observations \n",
    "# known to be in group i  and predicted to be in group j.\n",
    "tn, fp, fn, tp = confusion_matrix(yTest, yTestPredict).ravel()\n",
    "fpr = fp * 1.0 / (fp + tn)\n",
    "fnr = fn * 1.0 / (tp + fn)\n",
    "print(\"False positive rate: (predicting tumor while normal)\", fpr)\n",
    "print(\"False negative rate: (predicting normal while tumor)\", fnr)"
   ]
  },
  {
   "cell_type": "code",
   "execution_count": null,
   "metadata": {},
   "outputs": [],
   "source": []
  },
  {
   "cell_type": "code",
   "execution_count": 20,
   "metadata": {},
   "outputs": [
    {
     "data": {
      "image/png": "[encoded data removed]",
      "text/plain": [
       "<Figure size 432x288 with 1 Axes>"
      ]
     },
     "metadata": {
      "needs_background": "light"
     },
     "output_type": "display_data"
    },
    {
     "data": {
      "image/png": "[encoded data removed]",
      "text/plain": [
       "<Figure size 432x288 with 1 Axes>"
      ]
     },
     "metadata": {
      "needs_background": "light"
     },
     "output_type": "display_data"
    }
   ],
   "source": [
    "# summarize history for accuracy\n",
    "plt.plot(history.history['accuracy'])\n",
    "# plt.plot(history.history['val_acc'])\n",
    "plt.title('model accuracy')\n",
    "plt.ylabel('accuracy')\n",
    "plt.xlabel('epoch')\n",
    "plt.legend(['train', 'test'], loc='upper left')\n",
    "plt.show()\n",
    "# # summarize history for loss\n",
    "plt.plot(history.history['loss'])\n",
    "# plt.plot(history.history['val_loss'])\n",
    "plt.title('model loss')\n",
    "plt.ylabel('loss')\n",
    "plt.xlabel('epoch')\n",
    "plt.legend(['train', 'test'], loc='upper left')\n",
    "plt.show()"
   ]
  },
  {
   "cell_type": "code",
   "execution_count": 24,
   "metadata": {},
   "outputs": [
    {
     "name": "stdout",
     "output_type": "stream",
     "text": [
      "create modle directory:../models\n",
      "Saved ../models/logisticRegressionCancerNotCancer.h5 to disk\n"
     ]
    }
   ],
   "source": [
    "# import os\n",
    "# AEDWIP: FIXME: switch to PathLib it is OS independent\n",
    "modelRootDir = pl.Path(\"../models\")\n",
    "fullModelPath = pl.Path(\"{}/{}.h5\".format(modelRootDir, modelName))\n",
    "\n",
    "# if not os.path.exists(modelRootDir):\n",
    "if not modelRootDir.exists():\n",
    "    print(\"create modle directory:{}\".format(modelRootDir))\n",
    "    #os.makedirs(modelRootDir)\n",
    "    modelRootDir.mkdir()\n",
    "\n",
    "# if not os.path.isfile(fullModelPath):\n",
    "if not fullModelPath.exists():\n",
    "    logisticRegressionModel.save(fullModelPath)\n",
    "    print(\"Saved {} to disk\".format(fullModelPath))\n",
    "else:\n",
    "    print(\"ERROR: model was not save. files already exist {}\".format(\n",
    "        fullModelPath))"
   ]
  },
  {
   "cell_type": "code",
   "execution_count": null,
   "metadata": {},
   "outputs": [],
   "source": [
    "!pwd\n",
    "!ls -l $fullModelPath"
   ]
  },
  {
   "cell_type": "code",
   "execution_count": null,
   "metadata": {},
   "outputs": [],
   "source": []
  }
 ],
 "metadata": {
  "kernelspec": {
   "display_name": "Python 3",
   "language": "python",
   "name": "python3"
  },
  "language_info": {
   "codemirror_mode": {
    "name": "ipython",
    "version": 3
   },
   "file_extension": ".py",
   "mimetype": "text/x-python",
   "name": "python",
   "nbconvert_exporter": "python",
   "pygments_lexer": "ipython3",
   "version": "3.7.6"
  },
  "toc": {
   "base_numbering": 1,
   "nav_menu": {},
   "number_sections": true,
   "sideBar": true,
   "skip_h1_title": false,
   "title_cell": "Table of Contents",
   "title_sidebar": "Contents",
   "toc_cell": false,
   "toc_position": {},
   "toc_section_display": true,
   "toc_window_display": false
  },
  "varInspector": {
   "cols": {
    "lenName": 16,
    "lenType": 16,
    "lenVar": 40
   },
   "kernels_config": {
    "python": {
     "delete_cmd_postfix": "",
     "delete_cmd_prefix": "del ",
     "library": "var_list.py",
     "varRefreshCmd": "print(var_dic_list())"
    },
    "r": {
     "delete_cmd_postfix": ") ",
     "delete_cmd_prefix": "rm(",
     "library": "var_list.r",
     "varRefreshCmd": "cat(var_dic_list()) "
    }
   },
   "types_to_exclude": [
    "module",
    "function",
    "builtin_function_or_method",
    "instance",
    "_Feature"
   ],
   "window_display": false
  }
 },
 "nbformat": 4,
 "nbformat_minor": 2
}
