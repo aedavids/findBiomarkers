{
 "cells": [
  {
   "cell_type": "markdown",
   "metadata": {},
   "source": [
    "# Lung Cancer Binary Classifier exploration\n",
    "- Andrew E. Davidson\n",
    "- [aedavids@ucsc.edu](mailto:aedavids@edu?subject=lungCancerClassificationExploration.ipynb)\n",
    "- lab attribution\n",
    "\n",
    "\n",
    "gene expression values are log2(TPM+0.001) \n",
    "\n",
    "references:\n",
    "- [https://ucsc-xena.gitbook.io/project/public-data-we-host/tcga](https://ucsc-xena.gitbook.io/project/public-data-we-host/tcga)\n",
    "- [https://xenabrowser.net/datapages/?hub=https://toil.xenahubs.net:443](https://xenabrowser.net/datapages/?hub=https://toil.xenahubs.net:443)\n"
   ]
  },
  {
   "cell_type": "code",
   "execution_count": 1,
   "metadata": {},
   "outputs": [
    {
     "name": "stdout",
     "output_type": "stream",
     "text": [
      "[INFO <ipython-input-1-dd065039d2a0>:8 - <module>()] using logging configuration file:../src/logging.test.ini.json\n"
     ]
    }
   ],
   "source": [
    "import pathlib as pl\n",
    "\n",
    "import logging\n",
    "from   setupLogging import setupLogging\n",
    "#configFilePath = setupLogging( default_path=pl.Path('../src/logging.ini.json'))\n",
    "configFilePath = setupLogging( default_path=pl.Path('../src/logging.test.ini.json'))\n",
    "logger = logging.getLogger(\"notebook\")\n",
    "logger.info(\"using logging configuration file:{}\".format(configFilePath))\n",
    "\n",
    "from dataUtilities.TCGA_Target_GTex import TCGA_Target_GTex\n",
    "\n",
    "import matplotlib.pyplot as plt\n",
    "import matplotlib.patches as mplpatches\n",
    "\n",
    "from matplotlibUtilities.histogram import Histogram as muHistogram\n",
    "import matplotlibUtilities.utilities as mu\n",
    "import numpy as np\n",
    "import pandas as pd\n",
    "\n",
    "# fix random seed for reproducibility\n",
    "theMeaningOfLife = 42\n",
    "np.random.seed(theMeaningOfLife)"
   ]
  },
  {
   "cell_type": "markdown",
   "metadata": {},
   "source": [
    "## Load Data"
   ]
  },
  {
   "cell_type": "code",
   "execution_count": 2,
   "metadata": {},
   "outputs": [
    {
     "name": "stdout",
     "output_type": "stream",
     "text": [
      "[INFO utils.py:129 - _init_num_threads()] Note: NumExpr detected 16 cores but \"NUMEXPR_MAX_THREADS\" not set, so enforcing safe limit of 8.\n",
      "[INFO utils.py:141 - _init_num_threads()] NumExpr defaulting to 8 threads.\n"
     ]
    }
   ],
   "source": [
    "dataDir = pl.Path(\"../data\")\n",
    "if not dataDir.exists() :\n",
    "    dataDir.mkdir()\n",
    "    \n",
    "loader = TCGA_Target_GTex(dataDir)\n",
    "XDF, YDF = loader.loadTCGA_Target_GTex()    "
   ]
  },
  {
   "cell_type": "code",
   "execution_count": 3,
   "metadata": {},
   "outputs": [
    {
     "data": {
      "text/html": [
       "<div>\n",
       "<style scoped>\n",
       "    .dataframe tbody tr th:only-of-type {\n",
       "        vertical-align: middle;\n",
       "    }\n",
       "\n",
       "    .dataframe tbody tr th {\n",
       "        vertical-align: top;\n",
       "    }\n",
       "\n",
       "    .dataframe thead th {\n",
       "        text-align: right;\n",
       "    }\n",
       "</style>\n",
       "<table border=\"1\" class=\"dataframe\">\n",
       "  <thead>\n",
       "    <tr style=\"text-align: right;\">\n",
       "      <th>sample</th>\n",
       "      <th>ENSG00000000005.5</th>\n",
       "      <th>ENSG00000000419.12</th>\n",
       "      <th>ENSG00000000457.13</th>\n",
       "      <th>ENSG00000000460.16</th>\n",
       "    </tr>\n",
       "  </thead>\n",
       "  <tbody>\n",
       "    <tr>\n",
       "      <th>GTEX-S4Q7-0003-SM-3NM8M</th>\n",
       "      <td>-9.9658</td>\n",
       "      <td>5.6639</td>\n",
       "      <td>3.9051</td>\n",
       "      <td>3.0145</td>\n",
       "    </tr>\n",
       "    <tr>\n",
       "      <th>TCGA-19-1787-01</th>\n",
       "      <td>2.8974</td>\n",
       "      <td>5.2327</td>\n",
       "      <td>1.2333</td>\n",
       "      <td>2.9090</td>\n",
       "    </tr>\n",
       "    <tr>\n",
       "      <th>TCGA-S9-A7J2-01</th>\n",
       "      <td>-1.7809</td>\n",
       "      <td>4.6972</td>\n",
       "      <td>2.3366</td>\n",
       "      <td>1.5115</td>\n",
       "    </tr>\n",
       "    <tr>\n",
       "      <th>GTEX-QV31-1626-SM-2S1QC</th>\n",
       "      <td>-2.5479</td>\n",
       "      <td>5.2799</td>\n",
       "      <td>2.5238</td>\n",
       "      <td>0.9419</td>\n",
       "    </tr>\n",
       "    <tr>\n",
       "      <th>TCGA-G3-A3CH-11</th>\n",
       "      <td>-3.4580</td>\n",
       "      <td>4.3031</td>\n",
       "      <td>1.5064</td>\n",
       "      <td>-0.7588</td>\n",
       "    </tr>\n",
       "  </tbody>\n",
       "</table>\n",
       "</div>"
      ],
      "text/plain": [
       "sample                   ENSG00000000005.5  ENSG00000000419.12  \\\n",
       "GTEX-S4Q7-0003-SM-3NM8M            -9.9658              5.6639   \n",
       "TCGA-19-1787-01                     2.8974              5.2327   \n",
       "TCGA-S9-A7J2-01                    -1.7809              4.6972   \n",
       "GTEX-QV31-1626-SM-2S1QC            -2.5479              5.2799   \n",
       "TCGA-G3-A3CH-11                    -3.4580              4.3031   \n",
       "\n",
       "sample                   ENSG00000000457.13  ENSG00000000460.16  \n",
       "GTEX-S4Q7-0003-SM-3NM8M              3.9051              3.0145  \n",
       "TCGA-19-1787-01                      1.2333              2.9090  \n",
       "TCGA-S9-A7J2-01                      2.3366              1.5115  \n",
       "GTEX-QV31-1626-SM-2S1QC              2.5238              0.9419  \n",
       "TCGA-G3-A3CH-11                      1.5064             -0.7588  "
      ]
     },
     "execution_count": 3,
     "metadata": {},
     "output_type": "execute_result"
    }
   ],
   "source": [
    "XDF.head().iloc[:, 1:5]"
   ]
  },
  {
   "cell_type": "code",
   "execution_count": 4,
   "metadata": {},
   "outputs": [
    {
     "name": "stdout",
     "output_type": "stream",
     "text": [
      "XDF.shape:(19130, 60498)\n",
      "first 5 genes\n"
     ]
    },
    {
     "data": {
      "text/html": [
       "<div>\n",
       "<style scoped>\n",
       "    .dataframe tbody tr th:only-of-type {\n",
       "        vertical-align: middle;\n",
       "    }\n",
       "\n",
       "    .dataframe tbody tr th {\n",
       "        vertical-align: top;\n",
       "    }\n",
       "\n",
       "    .dataframe thead th {\n",
       "        text-align: right;\n",
       "    }\n",
       "</style>\n",
       "<table border=\"1\" class=\"dataframe\">\n",
       "  <thead>\n",
       "    <tr style=\"text-align: right;\">\n",
       "      <th>sample</th>\n",
       "      <th>ENSG00000000005.5</th>\n",
       "      <th>ENSG00000000419.12</th>\n",
       "      <th>ENSG00000000457.13</th>\n",
       "      <th>ENSG00000000460.16</th>\n",
       "    </tr>\n",
       "  </thead>\n",
       "  <tbody>\n",
       "    <tr>\n",
       "      <th>count</th>\n",
       "      <td>19130.000000</td>\n",
       "      <td>19130.000000</td>\n",
       "      <td>19130.000000</td>\n",
       "      <td>19130.000000</td>\n",
       "    </tr>\n",
       "    <tr>\n",
       "      <th>mean</th>\n",
       "      <td>-4.299505</td>\n",
       "      <td>5.000126</td>\n",
       "      <td>2.163272</td>\n",
       "      <td>1.581072</td>\n",
       "    </tr>\n",
       "    <tr>\n",
       "      <th>std</th>\n",
       "      <td>4.235453</td>\n",
       "      <td>1.034459</td>\n",
       "      <td>1.091871</td>\n",
       "      <td>1.422600</td>\n",
       "    </tr>\n",
       "    <tr>\n",
       "      <th>min</th>\n",
       "      <td>-9.965800</td>\n",
       "      <td>-9.965800</td>\n",
       "      <td>-9.965800</td>\n",
       "      <td>-9.965800</td>\n",
       "    </tr>\n",
       "    <tr>\n",
       "      <th>25%</th>\n",
       "      <td>-9.965800</td>\n",
       "      <td>4.679300</td>\n",
       "      <td>1.709700</td>\n",
       "      <td>0.816400</td>\n",
       "    </tr>\n",
       "    <tr>\n",
       "      <th>50%</th>\n",
       "      <td>-3.625900</td>\n",
       "      <td>5.098500</td>\n",
       "      <td>2.325100</td>\n",
       "      <td>1.585400</td>\n",
       "    </tr>\n",
       "    <tr>\n",
       "      <th>75%</th>\n",
       "      <td>-1.510500</td>\n",
       "      <td>5.485800</td>\n",
       "      <td>2.791000</td>\n",
       "      <td>2.533800</td>\n",
       "    </tr>\n",
       "    <tr>\n",
       "      <th>max</th>\n",
       "      <td>11.086200</td>\n",
       "      <td>8.698100</td>\n",
       "      <td>5.900900</td>\n",
       "      <td>6.364800</td>\n",
       "    </tr>\n",
       "  </tbody>\n",
       "</table>\n",
       "</div>"
      ],
      "text/plain": [
       "sample  ENSG00000000005.5  ENSG00000000419.12  ENSG00000000457.13  \\\n",
       "count        19130.000000        19130.000000        19130.000000   \n",
       "mean            -4.299505            5.000126            2.163272   \n",
       "std              4.235453            1.034459            1.091871   \n",
       "min             -9.965800           -9.965800           -9.965800   \n",
       "25%             -9.965800            4.679300            1.709700   \n",
       "50%             -3.625900            5.098500            2.325100   \n",
       "75%             -1.510500            5.485800            2.791000   \n",
       "max             11.086200            8.698100            5.900900   \n",
       "\n",
       "sample  ENSG00000000460.16  \n",
       "count         19130.000000  \n",
       "mean              1.581072  \n",
       "std               1.422600  \n",
       "min              -9.965800  \n",
       "25%               0.816400  \n",
       "50%               1.585400  \n",
       "75%               2.533800  \n",
       "max               6.364800  "
      ]
     },
     "execution_count": 4,
     "metadata": {},
     "output_type": "execute_result"
    }
   ],
   "source": [
    "print(\"XDF.shape:{}\".format(XDF.shape))\n",
    "first5GenesDf = XDF.iloc[:, 1:5]\n",
    "print(\"first 5 genes\")\n",
    "first5GenesDf.describe()"
   ]
  },
  {
   "cell_type": "markdown",
   "metadata": {},
   "source": [
    "## Explore meta data"
   ]
  },
  {
   "cell_type": "code",
   "execution_count": 5,
   "metadata": {},
   "outputs": [
    {
     "data": {
      "text/html": [
       "<div>\n",
       "<style scoped>\n",
       "    .dataframe tbody tr th:only-of-type {\n",
       "        vertical-align: middle;\n",
       "    }\n",
       "\n",
       "    .dataframe tbody tr th {\n",
       "        vertical-align: top;\n",
       "    }\n",
       "\n",
       "    .dataframe thead th {\n",
       "        text-align: right;\n",
       "    }\n",
       "</style>\n",
       "<table border=\"1\" class=\"dataframe\">\n",
       "  <thead>\n",
       "    <tr style=\"text-align: right;\">\n",
       "      <th></th>\n",
       "      <th>category</th>\n",
       "      <th>disease</th>\n",
       "      <th>primary_site</th>\n",
       "      <th>sample_type</th>\n",
       "      <th>gender</th>\n",
       "      <th>study</th>\n",
       "      <th>tumor_normal</th>\n",
       "    </tr>\n",
       "    <tr>\n",
       "      <th>id</th>\n",
       "      <th></th>\n",
       "      <th></th>\n",
       "      <th></th>\n",
       "      <th></th>\n",
       "      <th></th>\n",
       "      <th></th>\n",
       "      <th></th>\n",
       "    </tr>\n",
       "  </thead>\n",
       "  <tbody>\n",
       "    <tr>\n",
       "      <th>GTEX-1117F-0226-SM-5GZZ7</th>\n",
       "      <td>Adipose - Subcutaneous</td>\n",
       "      <td>Adipose - Subcutaneous</td>\n",
       "      <td>Adipose Tissue</td>\n",
       "      <td>Normal Tissue</td>\n",
       "      <td>Female</td>\n",
       "      <td>GTEX</td>\n",
       "      <td>Normal</td>\n",
       "    </tr>\n",
       "    <tr>\n",
       "      <th>GTEX-1117F-0426-SM-5EGHI</th>\n",
       "      <td>Muscle - Skeletal</td>\n",
       "      <td>Muscle - Skeletal</td>\n",
       "      <td>Muscle</td>\n",
       "      <td>Normal Tissue</td>\n",
       "      <td>Female</td>\n",
       "      <td>GTEX</td>\n",
       "      <td>Normal</td>\n",
       "    </tr>\n",
       "    <tr>\n",
       "      <th>GTEX-1117F-0526-SM-5EGHJ</th>\n",
       "      <td>Artery - Tibial</td>\n",
       "      <td>Artery - Tibial</td>\n",
       "      <td>Blood Vessel</td>\n",
       "      <td>Normal Tissue</td>\n",
       "      <td>Female</td>\n",
       "      <td>GTEX</td>\n",
       "      <td>Normal</td>\n",
       "    </tr>\n",
       "    <tr>\n",
       "      <th>GTEX-1117F-0626-SM-5N9CS</th>\n",
       "      <td>Artery - Coronary</td>\n",
       "      <td>Artery - Coronary</td>\n",
       "      <td>Blood Vessel</td>\n",
       "      <td>Normal Tissue</td>\n",
       "      <td>Female</td>\n",
       "      <td>GTEX</td>\n",
       "      <td>Normal</td>\n",
       "    </tr>\n",
       "    <tr>\n",
       "      <th>GTEX-1117F-0726-SM-5GIEN</th>\n",
       "      <td>Heart - Atrial Appendage</td>\n",
       "      <td>Heart - Atrial Appendage</td>\n",
       "      <td>Heart</td>\n",
       "      <td>Normal Tissue</td>\n",
       "      <td>Female</td>\n",
       "      <td>GTEX</td>\n",
       "      <td>Normal</td>\n",
       "    </tr>\n",
       "  </tbody>\n",
       "</table>\n",
       "</div>"
      ],
      "text/plain": [
       "                                          category                   disease  \\\n",
       "id                                                                             \n",
       "GTEX-1117F-0226-SM-5GZZ7    Adipose - Subcutaneous    Adipose - Subcutaneous   \n",
       "GTEX-1117F-0426-SM-5EGHI         Muscle - Skeletal         Muscle - Skeletal   \n",
       "GTEX-1117F-0526-SM-5EGHJ           Artery - Tibial           Artery - Tibial   \n",
       "GTEX-1117F-0626-SM-5N9CS         Artery - Coronary         Artery - Coronary   \n",
       "GTEX-1117F-0726-SM-5GIEN  Heart - Atrial Appendage  Heart - Atrial Appendage   \n",
       "\n",
       "                            primary_site    sample_type  gender study  \\\n",
       "id                                                                      \n",
       "GTEX-1117F-0226-SM-5GZZ7  Adipose Tissue  Normal Tissue  Female  GTEX   \n",
       "GTEX-1117F-0426-SM-5EGHI          Muscle  Normal Tissue  Female  GTEX   \n",
       "GTEX-1117F-0526-SM-5EGHJ    Blood Vessel  Normal Tissue  Female  GTEX   \n",
       "GTEX-1117F-0626-SM-5N9CS    Blood Vessel  Normal Tissue  Female  GTEX   \n",
       "GTEX-1117F-0726-SM-5GIEN           Heart  Normal Tissue  Female  GTEX   \n",
       "\n",
       "                         tumor_normal  \n",
       "id                                     \n",
       "GTEX-1117F-0226-SM-5GZZ7       Normal  \n",
       "GTEX-1117F-0426-SM-5EGHI       Normal  \n",
       "GTEX-1117F-0526-SM-5EGHJ       Normal  \n",
       "GTEX-1117F-0626-SM-5N9CS       Normal  \n",
       "GTEX-1117F-0726-SM-5GIEN       Normal  "
      ]
     },
     "execution_count": 5,
     "metadata": {},
     "output_type": "execute_result"
    }
   ],
   "source": [
    "YDF.head() #.iloc[:, 1:5]"
   ]
  },
  {
   "cell_type": "code",
   "execution_count": 6,
   "metadata": {},
   "outputs": [
    {
     "name": "stdout",
     "output_type": "stream",
     "text": [
      "YDF.shape:(19130, 7)\n"
     ]
    },
    {
     "data": {
      "text/html": [
       "<div>\n",
       "<style scoped>\n",
       "    .dataframe tbody tr th:only-of-type {\n",
       "        vertical-align: middle;\n",
       "    }\n",
       "\n",
       "    .dataframe tbody tr th {\n",
       "        vertical-align: top;\n",
       "    }\n",
       "\n",
       "    .dataframe thead th {\n",
       "        text-align: right;\n",
       "    }\n",
       "</style>\n",
       "<table border=\"1\" class=\"dataframe\">\n",
       "  <thead>\n",
       "    <tr style=\"text-align: right;\">\n",
       "      <th></th>\n",
       "      <th>category</th>\n",
       "      <th>disease</th>\n",
       "      <th>primary_site</th>\n",
       "      <th>sample_type</th>\n",
       "      <th>gender</th>\n",
       "      <th>study</th>\n",
       "      <th>tumor_normal</th>\n",
       "    </tr>\n",
       "  </thead>\n",
       "  <tbody>\n",
       "    <tr>\n",
       "      <th>count</th>\n",
       "      <td>19130</td>\n",
       "      <td>19130</td>\n",
       "      <td>19130</td>\n",
       "      <td>19130</td>\n",
       "      <td>19130</td>\n",
       "      <td>19130</td>\n",
       "      <td>19130</td>\n",
       "    </tr>\n",
       "    <tr>\n",
       "      <th>unique</th>\n",
       "      <td>93</td>\n",
       "      <td>93</td>\n",
       "      <td>47</td>\n",
       "      <td>16</td>\n",
       "      <td>3</td>\n",
       "      <td>3</td>\n",
       "      <td>2</td>\n",
       "    </tr>\n",
       "    <tr>\n",
       "      <th>top</th>\n",
       "      <td>Breast Invasive Carcinoma</td>\n",
       "      <td>Breast Invasive Carcinoma</td>\n",
       "      <td>Brain</td>\n",
       "      <td>Primary Tumor</td>\n",
       "      <td>Male</td>\n",
       "      <td>TCGA</td>\n",
       "      <td>Tumor</td>\n",
       "    </tr>\n",
       "    <tr>\n",
       "      <th>freq</th>\n",
       "      <td>1212</td>\n",
       "      <td>1212</td>\n",
       "      <td>1846</td>\n",
       "      <td>9185</td>\n",
       "      <td>10456</td>\n",
       "      <td>10534</td>\n",
       "      <td>10530</td>\n",
       "    </tr>\n",
       "  </tbody>\n",
       "</table>\n",
       "</div>"
      ],
      "text/plain": [
       "                         category                    disease primary_site  \\\n",
       "count                       19130                      19130        19130   \n",
       "unique                         93                         93           47   \n",
       "top     Breast Invasive Carcinoma  Breast Invasive Carcinoma        Brain   \n",
       "freq                         1212                       1212         1846   \n",
       "\n",
       "          sample_type gender  study tumor_normal  \n",
       "count           19130  19130  19130        19130  \n",
       "unique             16      3      3            2  \n",
       "top     Primary Tumor   Male   TCGA        Tumor  \n",
       "freq             9185  10456  10534        10530  "
      ]
     },
     "execution_count": 6,
     "metadata": {},
     "output_type": "execute_result"
    }
   ],
   "source": [
    "print(\"YDF.shape:{}\".format(YDF.shape))\n",
    "YDF.describe()"
   ]
  },
  {
   "cell_type": "markdown",
   "metadata": {},
   "source": [
    "### Explore the distrubtion of 'categories'\n",
    "what is the difference between category, disease, primary_site\tmeta data? Values seem like they are the same? Is there a bug in the data clean up pipeline?"
   ]
  },
  {
   "cell_type": "code",
   "execution_count": 7,
   "metadata": {},
   "outputs": [
    {
     "data": {
      "text/plain": [
       "Text(0.5, 1.0, 'Fig. 1 Category counts')"
      ]
     },
     "execution_count": 7,
     "metadata": {},
     "output_type": "execute_result"
    },
    {
     "data": {
      "image/png": "[encoded data removed]",
      "text/plain": [
       "<Figure size 360x1296 with 1 Axes>"
      ]
     },
     "metadata": {
      "needs_background": "light"
     },
     "output_type": "display_data"
    }
   ],
   "source": [
    "def plotCategoryCounts(df, colNameStr):\n",
    "    '''\n",
    "    TODO: make this more generic\n",
    "    argument \n",
    "        df: a pandas data frame \n",
    "        colNameStr: \n",
    "        \n",
    "    returns:\n",
    "        (fix, axis)\n",
    "    '''\n",
    "    # countDF is series\n",
    "    countDF = df[colNameStr].value_counts()\n",
    "    fig, ax = plt.subplots()\n",
    "    fig.set_size_inches(5, 18)\n",
    "    ax.barh(countDF.index, countDF)\n",
    "\n",
    "    return (fig, ax)\n",
    "\n",
    "\n",
    "fig, ax = plotCategoryCounts(YDF, \"category\")\n",
    "ax.set_title(\"Fig. 1 Category counts\")"
   ]
  },
  {
   "cell_type": "code",
   "execution_count": 8,
   "metadata": {},
   "outputs": [
    {
     "name": "stdout",
     "output_type": "stream",
     "text": [
      "<class 'numpy.ndarray'>\n"
     ]
    },
    {
     "data": {
      "text/plain": [
       "array(['Adipose - Subcutaneous', 'Muscle - Skeletal', 'Artery - Tibial',\n",
       "       'Artery - Coronary', 'Heart - Atrial Appendage',\n",
       "       'Adipose - Visceral (Omentum)', 'Ovary', 'Uterus',\n",
       "       'Breast - Mammary Tissue', 'Minor Salivary Gland',\n",
       "       'Brain - Cortex', 'Adrenal Gland', 'Thyroid', 'Lung', 'Pancreas',\n",
       "       'Esophagus - Muscularis', 'Esophagus - Mucosa', 'Stomach',\n",
       "       'Skin - Not Sun Exposed (Suprapubic)', 'Colon - Sigmoid',\n",
       "       'Small Intestine - Terminal Ileum', 'Colon - Transverse',\n",
       "       'Prostate', 'Testis', 'Skin - Sun Exposed (Lower Leg)',\n",
       "       'Nerve - Tibial', 'Heart - Left Ventricle', 'Spleen', 'Pituitary',\n",
       "       'Brain - Cerebellum', 'Cells - Transformed Fibroblasts',\n",
       "       'Whole Blood', 'Esophagus - Gastroesophageal Junction',\n",
       "       'Cells - Ebv-Transformed Lymphocytes', 'Artery - Aorta', 'Vagina',\n",
       "       'Liver', 'Brain - Substantia Nigra',\n",
       "       'Brain - Anterior Cingulate Cortex (Ba24)',\n",
       "       'Brain - Frontal Cortex (Ba9)', 'Brain - Cerebellar Hemisphere',\n",
       "       'Brain - Caudate (Basal Ganglia)',\n",
       "       'Brain - Nucleus Accumbens (Basal Ganglia)',\n",
       "       'Brain - Putamen (Basal Ganglia)', 'Brain - Hypothalamus',\n",
       "       'Kidney - Cortex', 'Brain - Hippocampus',\n",
       "       'Brain - Spinal Cord (Cervical C-1)', 'Brain - Amygdala',\n",
       "       'Bladder', 'Fallopian Tube', 'Cervix - Ectocervix',\n",
       "       'Cervix - Endocervix', 'Cells - Leukemia Cell Line (Cml)',\n",
       "       'Acute Lymphoblastic Leukemia', 'Acute Myeloid Leukemia',\n",
       "       'Acute Myeloid Leukemia, Induction Failure Subproject',\n",
       "       'Neuroblastoma', 'Wilms Tumor', 'Clear Cell Sarcoma Of The Kidney',\n",
       "       'Kidney, Rhabdoid Tumor', 'Glioblastoma Multiforme',\n",
       "       'Ovarian Serous Cystadenocarcinoma', 'Lung Adenocarcinoma',\n",
       "       'Lung Squamous Cell Carcinoma', 'Prostate Adenocarcinoma',\n",
       "       'Uterine Corpus Endometrioid Carcinoma',\n",
       "       'Bladder Urothelial Carcinoma', 'Testicular Germ Cell Tumor',\n",
       "       'Esophageal Carcinoma', 'Pancreatic Adenocarcinoma',\n",
       "       'Kidney Papillary Cell Carcinoma',\n",
       "       'Liver Hepatocellular Carcinoma', 'Cervical & Endocervical Cancer',\n",
       "       'Sarcoma', 'Breast Invasive Carcinoma', 'Thymoma', 'Mesothelioma',\n",
       "       'Colon Adenocarcinoma', 'Stomach Adenocarcinoma',\n",
       "       'Skin Cutaneous Melanoma', 'Cholangiocarcinoma',\n",
       "       'Kidney Clear Cell Carcinoma', 'Thyroid Carcinoma',\n",
       "       'Head & Neck Squamous Cell Carcinoma', 'Rectum Adenocarcinoma',\n",
       "       'Brain Lower Grade Glioma', 'Diffuse Large B-Cell Lymphoma',\n",
       "       'Kidney Chromophobe', 'Uterine Carcinosarcoma',\n",
       "       'Adrenocortical Cancer', 'Pheochromocytoma & Paraganglioma',\n",
       "       'Uveal Melanoma'], dtype=object)"
      ]
     },
     "execution_count": 8,
     "metadata": {},
     "output_type": "execute_result"
    }
   ],
   "source": [
    "uniqueCategoriesArray =  pd.unique(  YDF.loc[:, 'category' ] )\n",
    "print(type(uniqueCategoriesArray))\n",
    "uniqueCategoriesArray"
   ]
  },
  {
   "cell_type": "code",
   "execution_count": 9,
   "metadata": {},
   "outputs": [
    {
     "name": "stdout",
     "output_type": "stream",
     "text": [
      "<class 'numpy.ndarray'>\n"
     ]
    },
    {
     "data": {
      "text/plain": [
       "array(['Adipose - Subcutaneous', 'Muscle - Skeletal', 'Artery - Tibial',\n",
       "       'Artery - Coronary', 'Heart - Atrial Appendage',\n",
       "       'Adipose - Visceral (Omentum)', 'Ovary', 'Uterus',\n",
       "       'Breast - Mammary Tissue', 'Minor Salivary Gland',\n",
       "       'Brain - Cortex', 'Adrenal Gland', 'Thyroid', 'Lung', 'Pancreas',\n",
       "       'Esophagus - Muscularis', 'Esophagus - Mucosa', 'Stomach',\n",
       "       'Skin - Not Sun Exposed (Suprapubic)', 'Colon - Sigmoid',\n",
       "       'Small Intestine - Terminal Ileum', 'Colon - Transverse',\n",
       "       'Prostate', 'Testis', 'Skin - Sun Exposed (Lower Leg)',\n",
       "       'Nerve - Tibial', 'Heart - Left Ventricle', 'Spleen', 'Pituitary',\n",
       "       'Brain - Cerebellum', 'Cells - Transformed Fibroblasts',\n",
       "       'Whole Blood', 'Esophagus - Gastroesophageal Junction',\n",
       "       'Cells - Ebv-Transformed Lymphocytes', 'Artery - Aorta', 'Vagina',\n",
       "       'Liver', 'Brain - Substantia Nigra',\n",
       "       'Brain - Anterior Cingulate Cortex (Ba24)',\n",
       "       'Brain - Frontal Cortex (Ba9)', 'Brain - Cerebellar Hemisphere',\n",
       "       'Brain - Caudate (Basal Ganglia)',\n",
       "       'Brain - Nucleus Accumbens (Basal Ganglia)',\n",
       "       'Brain - Putamen (Basal Ganglia)', 'Brain - Hypothalamus',\n",
       "       'Kidney - Cortex', 'Brain - Hippocampus',\n",
       "       'Brain - Spinal Cord (Cervical C-1)', 'Brain - Amygdala',\n",
       "       'Bladder', 'Fallopian Tube', 'Cervix - Ectocervix',\n",
       "       'Cervix - Endocervix', 'Cells - Leukemia Cell Line (Cml)',\n",
       "       'Acute Lymphoblastic Leukemia', 'Acute Myeloid Leukemia',\n",
       "       'Acute Myeloid Leukemia, Induction Failure Subproject',\n",
       "       'Neuroblastoma', 'Wilms Tumor', 'Clear Cell Sarcoma Of The Kidney',\n",
       "       'Kidney, Rhabdoid Tumor', 'Glioblastoma Multiforme',\n",
       "       'Ovarian Serous Cystadenocarcinoma', 'Lung Adenocarcinoma',\n",
       "       'Lung Squamous Cell Carcinoma', 'Prostate Adenocarcinoma',\n",
       "       'Uterine Corpus Endometrioid Carcinoma',\n",
       "       'Bladder Urothelial Carcinoma', 'Testicular Germ Cell Tumor',\n",
       "       'Esophageal Carcinoma', 'Pancreatic Adenocarcinoma',\n",
       "       'Kidney Papillary Cell Carcinoma',\n",
       "       'Liver Hepatocellular Carcinoma', 'Cervical & Endocervical Cancer',\n",
       "       'Sarcoma', 'Breast Invasive Carcinoma', 'Thymoma', 'Mesothelioma',\n",
       "       'Colon Adenocarcinoma', 'Stomach Adenocarcinoma',\n",
       "       'Skin Cutaneous Melanoma', 'Cholangiocarcinoma',\n",
       "       'Kidney Clear Cell Carcinoma', 'Thyroid Carcinoma',\n",
       "       'Head & Neck Squamous Cell Carcinoma', 'Rectum Adenocarcinoma',\n",
       "       'Brain Lower Grade Glioma', 'Diffuse Large B-Cell Lymphoma',\n",
       "       'Kidney Chromophobe', 'Uterine Carcinosarcoma',\n",
       "       'Adrenocortical Cancer', 'Pheochromocytoma & Paraganglioma',\n",
       "       'Uveal Melanoma'], dtype=object)"
      ]
     },
     "execution_count": 9,
     "metadata": {},
     "output_type": "execute_result"
    }
   ],
   "source": [
    "uniquediseasesArray =  pd.unique(  YDF.loc[:, 'disease' ] )\n",
    "print(type(uniquediseasesArray))\n",
    "uniquediseasesArray"
   ]
  },
  {
   "cell_type": "code",
   "execution_count": 10,
   "metadata": {},
   "outputs": [
    {
     "name": "stdout",
     "output_type": "stream",
     "text": [
      "<class 'numpy.ndarray'>\n"
     ]
    },
    {
     "data": {
      "text/plain": [
       "array(['Adipose Tissue', 'Muscle', 'Blood Vessel', 'Heart', 'Ovary',\n",
       "       'Uterus', 'Breast', 'Salivary Gland', 'Brain', 'Adrenal Gland',\n",
       "       'Thyroid', 'Lung', 'Pancreas', 'Esophagus', 'Stomach', 'Skin',\n",
       "       'Colon', 'Small Intestine', 'Prostate', 'Testis', 'Nerve',\n",
       "       'Spleen', 'Pituitary', 'Blood', 'Vagina', 'Liver', 'Kidney',\n",
       "       'Bladder', 'Fallopian Tube', 'Cervix Uteri', 'nan', 'Bone Marrow',\n",
       "       'White blood cell', 'SympatheticÊNervous System', 'Endometrium',\n",
       "       'Cervix', 'Soft tissue,Bone', 'Thymus', 'Lining of body cavities',\n",
       "       'Bile duct', 'Thyroid Gland', 'Head and Neck region', 'Rectum',\n",
       "       'Lymphatic tissue', 'Adrenal gland', 'Paraganglia', 'Eye'],\n",
       "      dtype=object)"
      ]
     },
     "execution_count": 10,
     "metadata": {},
     "output_type": "execute_result"
    }
   ],
   "source": [
    "uniquePrimarySiteArray =  pd.unique(  YDF.loc[:, 'primary_site' ] )\n",
    "print(type(uniquePrimarySiteArray))\n",
    "uniquePrimarySiteArray"
   ]
  },
  {
   "cell_type": "markdown",
   "metadata": {},
   "source": [
    "### How many lung cancer samples are there?"
   ]
  },
  {
   "cell_type": "code",
   "execution_count": 11,
   "metadata": {},
   "outputs": [
    {
     "data": {
      "text/html": [
       "<div>\n",
       "<style scoped>\n",
       "    .dataframe tbody tr th:only-of-type {\n",
       "        vertical-align: middle;\n",
       "    }\n",
       "\n",
       "    .dataframe tbody tr th {\n",
       "        vertical-align: top;\n",
       "    }\n",
       "\n",
       "    .dataframe thead th {\n",
       "        text-align: right;\n",
       "    }\n",
       "</style>\n",
       "<table border=\"1\" class=\"dataframe\">\n",
       "  <thead>\n",
       "    <tr style=\"text-align: right;\">\n",
       "      <th></th>\n",
       "      <th>category</th>\n",
       "      <th>disease</th>\n",
       "      <th>primary_site</th>\n",
       "      <th>sample_type</th>\n",
       "      <th>gender</th>\n",
       "      <th>study</th>\n",
       "      <th>tumor_normal</th>\n",
       "    </tr>\n",
       "    <tr>\n",
       "      <th>id</th>\n",
       "      <th></th>\n",
       "      <th></th>\n",
       "      <th></th>\n",
       "      <th></th>\n",
       "      <th></th>\n",
       "      <th></th>\n",
       "      <th></th>\n",
       "    </tr>\n",
       "  </thead>\n",
       "  <tbody>\n",
       "    <tr>\n",
       "      <th>GTEX-111CU-0326-SM-5GZXO</th>\n",
       "      <td>Lung</td>\n",
       "      <td>Lung</td>\n",
       "      <td>Lung</td>\n",
       "      <td>Normal Tissue</td>\n",
       "      <td>Male</td>\n",
       "      <td>GTEX</td>\n",
       "      <td>Normal</td>\n",
       "    </tr>\n",
       "    <tr>\n",
       "      <th>GTEX-111FC-1126-SM-5GZWU</th>\n",
       "      <td>Lung</td>\n",
       "      <td>Lung</td>\n",
       "      <td>Lung</td>\n",
       "      <td>Normal Tissue</td>\n",
       "      <td>Male</td>\n",
       "      <td>GTEX</td>\n",
       "      <td>Normal</td>\n",
       "    </tr>\n",
       "    <tr>\n",
       "      <th>GTEX-111VG-0726-SM-5GIDC</th>\n",
       "      <td>Lung</td>\n",
       "      <td>Lung</td>\n",
       "      <td>Lung</td>\n",
       "      <td>Normal Tissue</td>\n",
       "      <td>Male</td>\n",
       "      <td>GTEX</td>\n",
       "      <td>Normal</td>\n",
       "    </tr>\n",
       "    <tr>\n",
       "      <th>GTEX-111YS-0626-SM-5GZXV</th>\n",
       "      <td>Lung</td>\n",
       "      <td>Lung</td>\n",
       "      <td>Lung</td>\n",
       "      <td>Normal Tissue</td>\n",
       "      <td>Male</td>\n",
       "      <td>GTEX</td>\n",
       "      <td>Normal</td>\n",
       "    </tr>\n",
       "    <tr>\n",
       "      <th>GTEX-1122O-0126-SM-5GICA</th>\n",
       "      <td>Lung</td>\n",
       "      <td>Lung</td>\n",
       "      <td>Lung</td>\n",
       "      <td>Normal Tissue</td>\n",
       "      <td>Female</td>\n",
       "      <td>GTEX</td>\n",
       "      <td>Normal</td>\n",
       "    </tr>\n",
       "    <tr>\n",
       "      <th>...</th>\n",
       "      <td>...</td>\n",
       "      <td>...</td>\n",
       "      <td>...</td>\n",
       "      <td>...</td>\n",
       "      <td>...</td>\n",
       "      <td>...</td>\n",
       "      <td>...</td>\n",
       "    </tr>\n",
       "    <tr>\n",
       "      <th>TCGA-O2-A52V-01</th>\n",
       "      <td>Lung Squamous Cell Carcinoma</td>\n",
       "      <td>Lung Squamous Cell Carcinoma</td>\n",
       "      <td>Lung</td>\n",
       "      <td>Primary Tumor</td>\n",
       "      <td>Female</td>\n",
       "      <td>TCGA</td>\n",
       "      <td>Tumor</td>\n",
       "    </tr>\n",
       "    <tr>\n",
       "      <th>TCGA-O2-A52W-01</th>\n",
       "      <td>Lung Squamous Cell Carcinoma</td>\n",
       "      <td>Lung Squamous Cell Carcinoma</td>\n",
       "      <td>Lung</td>\n",
       "      <td>Primary Tumor</td>\n",
       "      <td>Male</td>\n",
       "      <td>TCGA</td>\n",
       "      <td>Tumor</td>\n",
       "    </tr>\n",
       "    <tr>\n",
       "      <th>TCGA-O2-A5IB-01</th>\n",
       "      <td>Lung Squamous Cell Carcinoma</td>\n",
       "      <td>Lung Squamous Cell Carcinoma</td>\n",
       "      <td>Lung</td>\n",
       "      <td>Primary Tumor</td>\n",
       "      <td>Female</td>\n",
       "      <td>TCGA</td>\n",
       "      <td>Tumor</td>\n",
       "    </tr>\n",
       "    <tr>\n",
       "      <th>TCGA-S2-AA1A-01</th>\n",
       "      <td>Lung Adenocarcinoma</td>\n",
       "      <td>Lung Adenocarcinoma</td>\n",
       "      <td>Lung</td>\n",
       "      <td>Primary Tumor</td>\n",
       "      <td>Female</td>\n",
       "      <td>TCGA</td>\n",
       "      <td>Tumor</td>\n",
       "    </tr>\n",
       "    <tr>\n",
       "      <th>TCGA-XC-AA0X-01</th>\n",
       "      <td>Lung Squamous Cell Carcinoma</td>\n",
       "      <td>Lung Squamous Cell Carcinoma</td>\n",
       "      <td>Lung</td>\n",
       "      <td>Primary Tumor</td>\n",
       "      <td>Female</td>\n",
       "      <td>TCGA</td>\n",
       "      <td>Tumor</td>\n",
       "    </tr>\n",
       "  </tbody>\n",
       "</table>\n",
       "<p>1410 rows × 7 columns</p>\n",
       "</div>"
      ],
      "text/plain": [
       "                                              category  \\\n",
       "id                                                       \n",
       "GTEX-111CU-0326-SM-5GZXO                          Lung   \n",
       "GTEX-111FC-1126-SM-5GZWU                          Lung   \n",
       "GTEX-111VG-0726-SM-5GIDC                          Lung   \n",
       "GTEX-111YS-0626-SM-5GZXV                          Lung   \n",
       "GTEX-1122O-0126-SM-5GICA                          Lung   \n",
       "...                                                ...   \n",
       "TCGA-O2-A52V-01           Lung Squamous Cell Carcinoma   \n",
       "TCGA-O2-A52W-01           Lung Squamous Cell Carcinoma   \n",
       "TCGA-O2-A5IB-01           Lung Squamous Cell Carcinoma   \n",
       "TCGA-S2-AA1A-01                    Lung Adenocarcinoma   \n",
       "TCGA-XC-AA0X-01           Lung Squamous Cell Carcinoma   \n",
       "\n",
       "                                               disease primary_site  \\\n",
       "id                                                                    \n",
       "GTEX-111CU-0326-SM-5GZXO                          Lung         Lung   \n",
       "GTEX-111FC-1126-SM-5GZWU                          Lung         Lung   \n",
       "GTEX-111VG-0726-SM-5GIDC                          Lung         Lung   \n",
       "GTEX-111YS-0626-SM-5GZXV                          Lung         Lung   \n",
       "GTEX-1122O-0126-SM-5GICA                          Lung         Lung   \n",
       "...                                                ...          ...   \n",
       "TCGA-O2-A52V-01           Lung Squamous Cell Carcinoma         Lung   \n",
       "TCGA-O2-A52W-01           Lung Squamous Cell Carcinoma         Lung   \n",
       "TCGA-O2-A5IB-01           Lung Squamous Cell Carcinoma         Lung   \n",
       "TCGA-S2-AA1A-01                    Lung Adenocarcinoma         Lung   \n",
       "TCGA-XC-AA0X-01           Lung Squamous Cell Carcinoma         Lung   \n",
       "\n",
       "                            sample_type  gender study tumor_normal  \n",
       "id                                                                  \n",
       "GTEX-111CU-0326-SM-5GZXO  Normal Tissue    Male  GTEX       Normal  \n",
       "GTEX-111FC-1126-SM-5GZWU  Normal Tissue    Male  GTEX       Normal  \n",
       "GTEX-111VG-0726-SM-5GIDC  Normal Tissue    Male  GTEX       Normal  \n",
       "GTEX-111YS-0626-SM-5GZXV  Normal Tissue    Male  GTEX       Normal  \n",
       "GTEX-1122O-0126-SM-5GICA  Normal Tissue  Female  GTEX       Normal  \n",
       "...                                 ...     ...   ...          ...  \n",
       "TCGA-O2-A52V-01           Primary Tumor  Female  TCGA        Tumor  \n",
       "TCGA-O2-A52W-01           Primary Tumor    Male  TCGA        Tumor  \n",
       "TCGA-O2-A5IB-01           Primary Tumor  Female  TCGA        Tumor  \n",
       "TCGA-S2-AA1A-01           Primary Tumor  Female  TCGA        Tumor  \n",
       "TCGA-XC-AA0X-01           Primary Tumor  Female  TCGA        Tumor  \n",
       "\n",
       "[1410 rows x 7 columns]"
      ]
     },
     "execution_count": 11,
     "metadata": {},
     "output_type": "execute_result"
    }
   ],
   "source": [
    "LungCancerRows = YDF['primary_site'].str.contains('un', case=False)\n",
    "lungMetaDF = YDF.loc[LungCancerRows, :] \n",
    "lungMetaDF"
   ]
  },
  {
   "cell_type": "markdown",
   "metadata": {},
   "source": [
    "### How any examples are there for each kind of lung cancer"
   ]
  },
  {
   "cell_type": "code",
   "execution_count": 12,
   "metadata": {},
   "outputs": [
    {
     "data": {
      "text/html": [
       "<div>\n",
       "<style scoped>\n",
       "    .dataframe tbody tr th:only-of-type {\n",
       "        vertical-align: middle;\n",
       "    }\n",
       "\n",
       "    .dataframe tbody tr th {\n",
       "        vertical-align: top;\n",
       "    }\n",
       "\n",
       "    .dataframe thead th {\n",
       "        text-align: right;\n",
       "    }\n",
       "</style>\n",
       "<table border=\"1\" class=\"dataframe\">\n",
       "  <thead>\n",
       "    <tr style=\"text-align: right;\">\n",
       "      <th></th>\n",
       "      <th>disease</th>\n",
       "      <th>primary_site</th>\n",
       "      <th>sample_type</th>\n",
       "      <th>gender</th>\n",
       "      <th>study</th>\n",
       "      <th>tumor_normal</th>\n",
       "    </tr>\n",
       "    <tr>\n",
       "      <th>category</th>\n",
       "      <th></th>\n",
       "      <th></th>\n",
       "      <th></th>\n",
       "      <th></th>\n",
       "      <th></th>\n",
       "      <th></th>\n",
       "    </tr>\n",
       "  </thead>\n",
       "  <tbody>\n",
       "    <tr>\n",
       "      <th>Lung</th>\n",
       "      <td>288</td>\n",
       "      <td>288</td>\n",
       "      <td>288</td>\n",
       "      <td>288</td>\n",
       "      <td>288</td>\n",
       "      <td>288</td>\n",
       "    </tr>\n",
       "    <tr>\n",
       "      <th>Lung Adenocarcinoma</th>\n",
       "      <td>574</td>\n",
       "      <td>574</td>\n",
       "      <td>574</td>\n",
       "      <td>574</td>\n",
       "      <td>574</td>\n",
       "      <td>574</td>\n",
       "    </tr>\n",
       "    <tr>\n",
       "      <th>Lung Squamous Cell Carcinoma</th>\n",
       "      <td>548</td>\n",
       "      <td>548</td>\n",
       "      <td>548</td>\n",
       "      <td>548</td>\n",
       "      <td>548</td>\n",
       "      <td>548</td>\n",
       "    </tr>\n",
       "  </tbody>\n",
       "</table>\n",
       "</div>"
      ],
      "text/plain": [
       "                              disease  primary_site  sample_type  gender  \\\n",
       "category                                                                   \n",
       "Lung                              288           288          288     288   \n",
       "Lung Adenocarcinoma               574           574          574     574   \n",
       "Lung Squamous Cell Carcinoma      548           548          548     548   \n",
       "\n",
       "                              study  tumor_normal  \n",
       "category                                           \n",
       "Lung                            288           288  \n",
       "Lung Adenocarcinoma             574           574  \n",
       "Lung Squamous Cell Carcinoma    548           548  "
      ]
     },
     "execution_count": 12,
     "metadata": {},
     "output_type": "execute_result"
    }
   ],
   "source": [
    "lungMetaDF.groupby('category').count()"
   ]
  },
  {
   "cell_type": "markdown",
   "metadata": {},
   "source": [
    "## lung cancer , not lung cancer RNA Seq distribution"
   ]
  },
  {
   "cell_type": "code",
   "execution_count": 13,
   "metadata": {},
   "outputs": [
    {
     "name": "stdout",
     "output_type": "stream",
     "text": [
      "(1410, 60498)\n",
      "<class 'pandas.core.series.Series'>\n",
      "sample\n",
      "ENSG00000000003.14    3.619024\n",
      "ENSG00000000005.5    -4.292961\n",
      "ENSG00000000419.12    4.977786\n",
      "ENSG00000000457.13    2.148156\n",
      "ENSG00000000460.16    1.558658\n",
      "dtype: float32\n",
      "\n",
      " averageLungCancerRNASeq.shape:(60498,)\n",
      "count    60498.000000\n",
      "mean        -5.128656\n",
      "std          5.405312\n",
      "min         -9.965819\n",
      "25%         -9.813991\n",
      "50%         -7.874546\n",
      "75%         -0.508669\n",
      "max         14.010634\n",
      "dtype: float64\n",
      "\n",
      "sample\n",
      "ENSG00000000003.14    3.742239\n",
      "ENSG00000000005.5    -4.299937\n",
      "ENSG00000000419.12    5.001886\n",
      "ENSG00000000457.13    2.164459\n",
      "ENSG00000000460.16    1.582848\n",
      "dtype: float32\n",
      "\n",
      " averageNotLungCancerRNASeq.shape:(60498,)\n",
      "count    60498.000000\n",
      "mean        -5.102002\n",
      "std          5.410504\n",
      "min         -9.967390\n",
      "25%         -9.800651\n",
      "50%         -7.837829\n",
      "75%         -0.464622\n",
      "max         14.023088\n",
      "dtype: float64\n"
     ]
    }
   ],
   "source": [
    "lungCancerDF = XDF.loc[LungCancerRows.to_numpy(), :] \n",
    "print(lungCancerDF.shape)\n",
    "rows = 1 # if the data is data frame rows=0 and cols = 1\n",
    "cols = 0\n",
    "averageLungCancerRNASeq = lungCancerDF.mean(axis=cols)\n",
    "print(type(averageLungCancerRNASeq))\n",
    "print(averageLungCancerRNASeq.head())\n",
    "print(\"\\n averageLungCancerRNASeq.shape:{}\".format(averageLungCancerRNASeq.shape))\n",
    "# print(\"\\n average Lung Cancer RNAS Seq.describe\".\\\n",
    "#       format( averageLungCancerRNASeq.describe() ))\n",
    "print(averageLungCancerRNASeq.describe())\n",
    "print()\n",
    "      \n",
    "# ~ is 'not' in pandas\n",
    "notLungCancerDF = XDF.loc[ np.logical_not( LungCancerRows.to_numpy() ), :]\n",
    "averageNotLungCancerRNASeq = notLungCancerDF.mean(axis=cols)\n",
    "\n",
    "print(averageNotLungCancerRNASeq.head())\n",
    "print(\"\\n averageNotLungCancerRNASeq.shape:{}\".format(averageNotLungCancerRNASeq.shape))\n",
    "# print(\"\\n average Not Lung Cancer RNA Seq.describe\\n{}\".format(averageNotLungCancerRNASeq.describe() ))\n",
    "print(averageNotLungCancerRNASeq.describe())"
   ]
  },
  {
   "cell_type": "code",
   "execution_count": 15,
   "metadata": {
    "scrolled": false
   },
   "outputs": [
    {
     "name": "stdout",
     "output_type": "stream",
     "text": [
      "xMin:-10.967390060424805 xMax:15.023087501525879\n",
      "ylimMin:1.0 ylimMax:14.298486873992337\n"
     ]
    },
    {
     "data": {
      "text/plain": [
       "<matplotlib.axes._axes.Axes at 0x7fb7090fae90>"
      ]
     },
     "execution_count": 15,
     "metadata": {},
     "output_type": "execute_result"
    },
    {
     "data": {
      "image/png": "[encoded data removed]",
      "text/plain": [
       "<Figure size 612x792 with 1 Axes>"
      ]
     },
     "metadata": {
      "needs_background": "light"
     },
     "output_type": "display_data"
    }
   ],
   "source": [
    "# FIXME: AEDWIP: ledge colors are easy to break, you need to know color and alpha\n",
    "\n",
    "# standard paper size is 8.5 inches x 11 inches\n",
    "pageWidthInInches  = 8.5\n",
    "pageHeightInInches = 11  \n",
    "fig = plt.figure( figsize=(pageWidthInInches, pageHeightInInches) )\n",
    "panel = mu.createPanel(fig, pageWidthInInches, pageHeightInInches, \n",
    "                       leftRelativeSize=0, \n",
    "                       bottomRelativeSize=0)\n",
    "numBins = 100\n",
    "#VollmerBlue = (53, 106, 201)\n",
    "cancerColor = (0, 0, 255)\n",
    "alpha = 0.2\n",
    "meanLungRNASeqNP = averageLungCancerRNASeq.to_numpy()\n",
    "# meanLungRNASeqNPLog10 = np.log10(meanLungRNASeqNP)\n",
    "lungCancerHist = muHistogram(panel, meanLungRNASeqNP, numBins, \n",
    "                             RGBTuple=cancerColor, alpha=alpha, scale=True,\n",
    "                            label='lung cancer')\n",
    "\n",
    "\n",
    "meanNotLungRNASeqNP = averageNotLungCancerRNASeq.to_numpy()\n",
    "# meanNotLungRNASeqNPLog10 = np.log10(meanNotLungRNASeqNP)\n",
    "notCancerColor = (255, 0, 0)\n",
    "notLungCancerHist = muHistogram(panel, meanNotLungRNASeqNP, numBins, \n",
    "                             RGBTuple=notCancerColor, alpha=alpha, scale=True,\n",
    "                               label='not lung cancer')\n",
    "\n",
    "xlimMin = np.min(meanNotLungRNASeqNP) - 1\n",
    "xlimMax = np.max(meanNotLungRNASeqNP) + 1\n",
    "print(\"xMin:{} xMax:{}\".format(xlimMin, xlimMax))\n",
    "panel.set_xlim(xlimMin,xlimMax)\n",
    "\n",
    "\n",
    "ylimMin = np.min(notLungCancerHist.binCounts)# - 2\n",
    "ylimMax = np.max(notLungCancerHist.binCounts) + 0.25 #+ 100\n",
    "print(\"ylimMin:{} ylimMax:{}\".format(ylimMin, ylimMax)) # max count base_10 15,304\n",
    "panel.set_ylim(ylimMin, ylimMax)\n",
    "\n",
    "panel.set_xlabel(\"log base ??? RNA Seq\", fontsize=10, fontweight='bold')\n",
    "panel.set_ylabel(\"log2( bin counts )\", fontsize=10, fontweight='bold')\n",
    "\n",
    "colorMapTuples = [cancerColor,   notCancerColor]\n",
    "labels         = [\"lung cancer\",\"not lung cancer\"]\n",
    "mu.addLegend(panel, colorMapTuples, labels, alpha=alpha)"
   ]
  },
  {
   "cell_type": "code",
   "execution_count": null,
   "metadata": {},
   "outputs": [],
   "source": []
  },
  {
   "cell_type": "code",
   "execution_count": null,
   "metadata": {},
   "outputs": [],
   "source": []
  },
  {
   "cell_type": "code",
   "execution_count": null,
   "metadata": {},
   "outputs": [],
   "source": []
  },
  {
   "cell_type": "code",
   "execution_count": null,
   "metadata": {},
   "outputs": [],
   "source": []
  },
  {
   "cell_type": "code",
   "execution_count": null,
   "metadata": {},
   "outputs": [],
   "source": []
  },
  {
   "cell_type": "code",
   "execution_count": null,
   "metadata": {},
   "outputs": [],
   "source": [
    "haldksls fskd xsllungDF.shape"
   ]
  },
  {
   "cell_type": "code",
   "execution_count": null,
   "metadata": {},
   "outputs": [],
   "source": [
    "# standard paper size is 8.5 inches x 11 inches\n",
    "pageWidthInInches  = 10\n",
    "pageHeightInInches = 5  \n",
    "fig = plt.figure( figsize=(pageWidthInInches, pageHeightInInches) )\n",
    "panel = plt.gca()\n",
    "meanRNASeqNP = averageLungCancerRNASeq.to_numpy()\n",
    "panel.bar(meanRNASeqNP, 0.1, label='mean lung')\n",
    "\n"
   ]
  },
  {
   "cell_type": "code",
   "execution_count": null,
   "metadata": {},
   "outputs": [],
   "source": [
    "df = pd.DataFrame({\"A\":[1, 2, 3, 4, 5], \n",
    "                   \"B\":[1, 2, 3, 4, 5],\n",
    "                   }) \n",
    "\n",
    "rows = 0\n",
    "cols = 1\n",
    "df.mean(axis=cols) # no arg == axis = 0 3.0 = 15 / 3"
   ]
  },
  {
   "cell_type": "code",
   "execution_count": null,
   "metadata": {},
   "outputs": [],
   "source": [
    "print(LungCancerRows.head())\n",
    "print(type(LungCancerRows))\n",
    "print()\n",
    "\n",
    "print(\"~ is not in pandas\")\n",
    "print(~LungCancerRows.head())\n"
   ]
  }
 ],
 "metadata": {
  "kernelspec": {
   "display_name": "Python 3",
   "language": "python",
   "name": "python3"
  },
  "language_info": {
   "codemirror_mode": {
    "name": "ipython",
    "version": 3
   },
   "file_extension": ".py",
   "mimetype": "text/x-python",
   "name": "python",
   "nbconvert_exporter": "python",
   "pygments_lexer": "ipython3",
   "version": "3.7.6"
  },
  "toc": {
   "base_numbering": 1,
   "nav_menu": {},
   "number_sections": true,
   "sideBar": true,
   "skip_h1_title": false,
   "title_cell": "Table of Contents",
   "title_sidebar": "Contents",
   "toc_cell": false,
   "toc_position": {},
   "toc_section_display": true,
   "toc_window_display": false
  },
  "varInspector": {
   "cols": {
    "lenName": 16,
    "lenType": 16,
    "lenVar": 40
   },
   "kernels_config": {
    "python": {
     "delete_cmd_postfix": "",
     "delete_cmd_prefix": "del ",
     "library": "var_list.py",
     "varRefreshCmd": "print(var_dic_list())"
    },
    "r": {
     "delete_cmd_postfix": ") ",
     "delete_cmd_prefix": "rm(",
     "library": "var_list.r",
     "varRefreshCmd": "cat(var_dic_list()) "
    }
   },
   "types_to_exclude": [
    "module",
    "function",
    "builtin_function_or_method",
    "instance",
    "_Feature"
   ],
   "window_display": false
  }
 },
 "nbformat": 4,
 "nbformat_minor": 2
}
