{
 "cells": [
  {
   "cell_type": "code",
   "execution_count": 1,
   "metadata": {},
   "outputs": [
    {
     "name": "stdout",
     "output_type": "stream",
     "text": [
      "[INFO <ipython-input-1-d92058dc4b4b>:8 - <module>()] using logging configuration file:../src/logging.test.ini.json\n"
     ]
    }
   ],
   "source": [
    "import pathlib as pl\n",
    "\n",
    "import logging\n",
    "from   setupLogging import setupLogging\n",
    "configFilePath = setupLogging( default_path=pl.Path('../src/logging.ini.json'))\n",
    "configFilePath = setupLogging( default_path=pl.Path('../src/logging.test.ini.json'))\n",
    "logger = logging.getLogger(\"notebook\")\n",
    "logger.info(\"using logging configuration file:{}\".format(configFilePath))\n",
    "\n",
    "from dataUtilities.TCGA_Target_GTex import TCGA_Target_GTex\n",
    "\n",
    "dataDir = pl.Path(\"../data\")\n",
    "if not dataDir.exists() :\n",
    "    dataDir.mkdir()"
   ]
  },
  {
   "cell_type": "code",
   "execution_count": 2,
   "metadata": {},
   "outputs": [
    {
     "name": "stdout",
     "output_type": "stream",
     "text": [
      "TcgaTargetGTEX_phenotype.txt.gz    tcga_target_gtex.h5\r\n",
      "TcgaTargetGtex_rsem_gene_tpm.gz    tcga_target_gtex.h5.save\r\n",
      "TcgaTargetGtex_rsem_gene_tpm.h5    tcga_target_gtex.h5.treeHouse.save\r\n",
      "\u001b[34mlungCancerData\u001b[m\u001b[m\r\n"
     ]
    }
   ],
   "source": [
    "!ls $dataDir"
   ]
  },
  {
   "cell_type": "code",
   "execution_count": null,
   "metadata": {},
   "outputs": [],
   "source": []
  },
  {
   "cell_type": "code",
   "execution_count": 3,
   "metadata": {},
   "outputs": [
    {
     "name": "stdout",
     "output_type": "stream",
     "text": [
      "[INFO utils.py:129 - _init_num_threads()] Note: NumExpr detected 16 cores but \"NUMEXPR_MAX_THREADS\" not set, so enforcing safe limit of 8.\n",
      "[INFO utils.py:141 - _init_num_threads()] NumExpr defaulting to 8 threads.\n",
      "CPU times: user 10.9 s, sys: 3.23 s, total: 14.1 s\n",
      "Wall time: 14.1 s\n"
     ]
    },
    {
     "data": {
      "text/plain": [
       "(sample                    ENSG00000000003.14  ENSG00000000005.5  \\\n",
       " GTEX-S4Q7-0003-SM-3NM8M              -2.4659            -9.9658   \n",
       " TCGA-19-1787-01                       5.5438             2.8974   \n",
       " TCGA-S9-A7J2-01                       5.3709            -1.7809   \n",
       " GTEX-QV31-1626-SM-2S1QC               2.6090            -2.5479   \n",
       " TCGA-G3-A3CH-11                       5.6571            -3.4580   \n",
       " ...                                      ...                ...   \n",
       " GTEX-11ZTS-3326-SM-5LU9Y              5.8215            -1.5951   \n",
       " GTEX-VJYA-0726-SM-4KL1T               4.8115            -9.9658   \n",
       " GTEX-ZA64-2126-SM-5Q5A8               4.9860             3.3647   \n",
       " GTEX-Q2AG-2826-SM-2HMJQ               0.6880            -9.9658   \n",
       " GTEX-XV7Q-0426-SM-4BRVN               2.6693            -9.9658   \n",
       " \n",
       " sample                    ENSG00000000419.12  ENSG00000000457.13  \\\n",
       " GTEX-S4Q7-0003-SM-3NM8M               5.6639              3.9051   \n",
       " TCGA-19-1787-01                       5.2327              1.2333   \n",
       " TCGA-S9-A7J2-01                       4.6972              2.3366   \n",
       " GTEX-QV31-1626-SM-2S1QC               5.2799              2.5238   \n",
       " TCGA-G3-A3CH-11                       4.3031              1.5064   \n",
       " ...                                      ...                 ...   \n",
       " GTEX-11ZTS-3326-SM-5LU9Y              4.6118              1.7185   \n",
       " GTEX-VJYA-0726-SM-4KL1T               5.3100              2.5756   \n",
       " GTEX-ZA64-2126-SM-5Q5A8               5.5488              2.8877   \n",
       " GTEX-Q2AG-2826-SM-2HMJQ               4.6422              2.7679   \n",
       " GTEX-XV7Q-0426-SM-4BRVN               5.0449              2.5288   \n",
       " \n",
       " sample                    ENSG00000000460.16  ENSG00000000938.12  \\\n",
       " GTEX-S4Q7-0003-SM-3NM8M               3.0145              6.8638   \n",
       " TCGA-19-1787-01                       2.9090              2.7826   \n",
       " TCGA-S9-A7J2-01                       1.5115              1.5514   \n",
       " GTEX-QV31-1626-SM-2S1QC               0.9419              2.3193   \n",
       " TCGA-G3-A3CH-11                      -0.7588              1.9527   \n",
       " ...                                      ...                 ...   \n",
       " GTEX-11ZTS-3326-SM-5LU9Y              1.1833              1.8160   \n",
       " GTEX-VJYA-0726-SM-4KL1T               1.3511              2.1345   \n",
       " GTEX-ZA64-2126-SM-5Q5A8               1.8444              3.7783   \n",
       " GTEX-Q2AG-2826-SM-2HMJQ               2.6738              1.4859   \n",
       " GTEX-XV7Q-0426-SM-4BRVN               1.3511              8.3898   \n",
       " \n",
       " sample                    ENSG00000000971.15  ENSG00000001036.13  \\\n",
       " GTEX-S4Q7-0003-SM-3NM8M              -1.5951              3.5411   \n",
       " TCGA-19-1787-01                       2.6418              5.5898   \n",
       " TCGA-S9-A7J2-01                       1.1447              3.4034   \n",
       " GTEX-QV31-1626-SM-2S1QC               7.7735              4.4758   \n",
       " TCGA-G3-A3CH-11                       8.6320              4.5104   \n",
       " ...                                      ...                 ...   \n",
       " GTEX-11ZTS-3326-SM-5LU9Y              5.7536              3.5274   \n",
       " GTEX-VJYA-0726-SM-4KL1T               4.1946              3.0393   \n",
       " GTEX-ZA64-2126-SM-5Q5A8               7.4630              4.8156   \n",
       " GTEX-Q2AG-2826-SM-2HMJQ               1.5902              3.0234   \n",
       " GTEX-XV7Q-0426-SM-4BRVN               5.2001              4.8832   \n",
       " \n",
       " sample                    ENSG00000001084.10  ENSG00000001167.14  ...  \\\n",
       " GTEX-S4Q7-0003-SM-3NM8M               3.5098              4.5205  ...   \n",
       " TCGA-19-1787-01                       3.6289              3.2541  ...   \n",
       " TCGA-S9-A7J2-01                       5.4673              4.4634  ...   \n",
       " GTEX-QV31-1626-SM-2S1QC               3.9892              2.3337  ...   \n",
       " TCGA-G3-A3CH-11                       4.5349              1.3567  ...   \n",
       " ...                                      ...                 ...  ...   \n",
       " GTEX-11ZTS-3326-SM-5LU9Y              2.6918              3.5224  ...   \n",
       " GTEX-VJYA-0726-SM-4KL1T               4.4404              3.3134  ...   \n",
       " GTEX-ZA64-2126-SM-5Q5A8               3.9108              3.0550  ...   \n",
       " GTEX-Q2AG-2826-SM-2HMJQ               4.2095              3.4661  ...   \n",
       " GTEX-XV7Q-0426-SM-4BRVN               2.5036              3.9127  ...   \n",
       " \n",
       " sample                    ENSGR0000263980.5  ENSGR0000264510.5  \\\n",
       " GTEX-S4Q7-0003-SM-3NM8M             -9.9658            -9.9658   \n",
       " TCGA-19-1787-01                     -9.9658            -9.9658   \n",
       " TCGA-S9-A7J2-01                     -9.9658            -9.9658   \n",
       " GTEX-QV31-1626-SM-2S1QC             -9.9658            -9.9658   \n",
       " TCGA-G3-A3CH-11                     -9.9658            -9.9658   \n",
       " ...                                     ...                ...   \n",
       " GTEX-11ZTS-3326-SM-5LU9Y            -9.9658            -9.9658   \n",
       " GTEX-VJYA-0726-SM-4KL1T             -9.9658            -9.9658   \n",
       " GTEX-ZA64-2126-SM-5Q5A8             -9.9658            -9.9658   \n",
       " GTEX-Q2AG-2826-SM-2HMJQ             -9.9658            -9.9658   \n",
       " GTEX-XV7Q-0426-SM-4BRVN             -9.9658            -9.9658   \n",
       " \n",
       " sample                    ENSGR0000264819.5  ENSGR0000265658.5  \\\n",
       " GTEX-S4Q7-0003-SM-3NM8M             -9.9658            -9.9658   \n",
       " TCGA-19-1787-01                     -9.9658            -9.9658   \n",
       " TCGA-S9-A7J2-01                     -9.9658            -9.9658   \n",
       " GTEX-QV31-1626-SM-2S1QC             -9.9658            -9.9658   \n",
       " TCGA-G3-A3CH-11                     -9.9658            -9.9658   \n",
       " ...                                     ...                ...   \n",
       " GTEX-11ZTS-3326-SM-5LU9Y            -9.9658            -9.9658   \n",
       " GTEX-VJYA-0726-SM-4KL1T             -9.9658            -9.9658   \n",
       " GTEX-ZA64-2126-SM-5Q5A8             -9.9658            -9.9658   \n",
       " GTEX-Q2AG-2826-SM-2HMJQ             -9.9658            -9.9658   \n",
       " GTEX-XV7Q-0426-SM-4BRVN             -9.9658            -9.9658   \n",
       " \n",
       " sample                    ENSGR0000270726.5  ENSGR0000275287.4  \\\n",
       " GTEX-S4Q7-0003-SM-3NM8M             -9.9658            -9.9658   \n",
       " TCGA-19-1787-01                     -9.9658            -9.9658   \n",
       " TCGA-S9-A7J2-01                     -9.9658            -9.9658   \n",
       " GTEX-QV31-1626-SM-2S1QC             -9.9658            -9.9658   \n",
       " TCGA-G3-A3CH-11                     -9.9658            -9.9658   \n",
       " ...                                     ...                ...   \n",
       " GTEX-11ZTS-3326-SM-5LU9Y            -9.9658            -9.9658   \n",
       " GTEX-VJYA-0726-SM-4KL1T             -9.9658            -9.9658   \n",
       " GTEX-ZA64-2126-SM-5Q5A8             -9.9658            -9.9658   \n",
       " GTEX-Q2AG-2826-SM-2HMJQ             -9.9658            -9.9658   \n",
       " GTEX-XV7Q-0426-SM-4BRVN             -9.9658            -9.9658   \n",
       " \n",
       " sample                    ENSGR0000276543.4  ENSGR0000277120.4  \\\n",
       " GTEX-S4Q7-0003-SM-3NM8M             -9.9658            -9.9658   \n",
       " TCGA-19-1787-01                     -9.9658            -9.9658   \n",
       " TCGA-S9-A7J2-01                     -9.9658            -9.9658   \n",
       " GTEX-QV31-1626-SM-2S1QC             -9.9658            -9.9658   \n",
       " TCGA-G3-A3CH-11                     -9.9658            -9.9658   \n",
       " ...                                     ...                ...   \n",
       " GTEX-11ZTS-3326-SM-5LU9Y            -9.9658            -9.9658   \n",
       " GTEX-VJYA-0726-SM-4KL1T             -9.9658            -9.9658   \n",
       " GTEX-ZA64-2126-SM-5Q5A8             -9.9658            -9.9658   \n",
       " GTEX-Q2AG-2826-SM-2HMJQ             -9.9658            -9.9658   \n",
       " GTEX-XV7Q-0426-SM-4BRVN             -9.9658            -9.9658   \n",
       " \n",
       " sample                    ENSGR0000280767.2  ENSGR0000281849.2  \n",
       " GTEX-S4Q7-0003-SM-3NM8M             -9.9658            -9.9658  \n",
       " TCGA-19-1787-01                     -9.9658            -9.9658  \n",
       " TCGA-S9-A7J2-01                     -9.9658            -9.9658  \n",
       " GTEX-QV31-1626-SM-2S1QC             -9.9658            -9.9658  \n",
       " TCGA-G3-A3CH-11                     -9.9658            -9.9658  \n",
       " ...                                     ...                ...  \n",
       " GTEX-11ZTS-3326-SM-5LU9Y            -9.9658            -9.9658  \n",
       " GTEX-VJYA-0726-SM-4KL1T             -9.9658            -9.9658  \n",
       " GTEX-ZA64-2126-SM-5Q5A8             -9.9658            -9.9658  \n",
       " GTEX-Q2AG-2826-SM-2HMJQ             -9.9658            -9.9658  \n",
       " GTEX-XV7Q-0426-SM-4BRVN             -9.9658            -9.9658  \n",
       " \n",
       " [19130 rows x 60498 columns],\n",
       "                                                 category  \\\n",
       " id                                                         \n",
       " GTEX-1117F-0226-SM-5GZZ7          Adipose - Subcutaneous   \n",
       " GTEX-1117F-0426-SM-5EGHI               Muscle - Skeletal   \n",
       " GTEX-1117F-0526-SM-5EGHJ                 Artery - Tibial   \n",
       " GTEX-1117F-0626-SM-5N9CS               Artery - Coronary   \n",
       " GTEX-1117F-0726-SM-5GIEN        Heart - Atrial Appendage   \n",
       " ...                                                  ...   \n",
       " TCGA-ZS-A9CG-01           Liver Hepatocellular Carcinoma   \n",
       " TCGA-ZT-A8OM-01                                  Thymoma   \n",
       " TCGA-ZU-A8S4-01                       Cholangiocarcinoma   \n",
       " TCGA-ZU-A8S4-11                       Cholangiocarcinoma   \n",
       " TCGA-ZX-AA5X-01           Cervical & Endocervical Cancer   \n",
       " \n",
       "                                                  disease    primary_site  \\\n",
       " id                                                                         \n",
       " GTEX-1117F-0226-SM-5GZZ7          Adipose - Subcutaneous  Adipose Tissue   \n",
       " GTEX-1117F-0426-SM-5EGHI               Muscle - Skeletal          Muscle   \n",
       " GTEX-1117F-0526-SM-5EGHJ                 Artery - Tibial    Blood Vessel   \n",
       " GTEX-1117F-0626-SM-5N9CS               Artery - Coronary    Blood Vessel   \n",
       " GTEX-1117F-0726-SM-5GIEN        Heart - Atrial Appendage           Heart   \n",
       " ...                                                  ...             ...   \n",
       " TCGA-ZS-A9CG-01           Liver Hepatocellular Carcinoma           Liver   \n",
       " TCGA-ZT-A8OM-01                                  Thymoma          Thymus   \n",
       " TCGA-ZU-A8S4-01                       Cholangiocarcinoma       Bile duct   \n",
       " TCGA-ZU-A8S4-11                       Cholangiocarcinoma       Bile duct   \n",
       " TCGA-ZX-AA5X-01           Cervical & Endocervical Cancer          Cervix   \n",
       " \n",
       "                                   sample_type  gender study tumor_normal  \n",
       " id                                                                        \n",
       " GTEX-1117F-0226-SM-5GZZ7        Normal Tissue  Female  GTEX       Normal  \n",
       " GTEX-1117F-0426-SM-5EGHI        Normal Tissue  Female  GTEX       Normal  \n",
       " GTEX-1117F-0526-SM-5EGHJ        Normal Tissue  Female  GTEX       Normal  \n",
       " GTEX-1117F-0626-SM-5N9CS        Normal Tissue  Female  GTEX       Normal  \n",
       " GTEX-1117F-0726-SM-5GIEN        Normal Tissue  Female  GTEX       Normal  \n",
       " ...                                       ...     ...   ...          ...  \n",
       " TCGA-ZS-A9CG-01                 Primary Tumor    Male  TCGA        Tumor  \n",
       " TCGA-ZT-A8OM-01                 Primary Tumor  Female  TCGA        Tumor  \n",
       " TCGA-ZU-A8S4-01                 Primary Tumor    Male  TCGA        Tumor  \n",
       " TCGA-ZU-A8S4-11           Solid Tissue Normal    Male  TCGA       Normal  \n",
       " TCGA-ZX-AA5X-01                 Primary Tumor  Female  TCGA        Tumor  \n",
       " \n",
       " [19130 rows x 7 columns])"
      ]
     },
     "execution_count": 3,
     "metadata": {},
     "output_type": "execute_result"
    }
   ],
   "source": [
    "%%time\n",
    "loader = TCGA_Target_GTex(dataDir)\n",
    "XDF, YDF = loader.loadTCGA_Target_GTex()"
   ]
  },
  {
   "cell_type": "code",
   "execution_count": 4,
   "metadata": {},
   "outputs": [
    {
     "name": "stdout",
     "output_type": "stream",
     "text": [
      "CPU times: user 13.1 s, sys: 3.52 s, total: 16.7 s\n",
      "Wall time: 16.7 s\n"
     ]
    }
   ],
   "source": [
    "%%time\n",
    "XDF, YDF = loader.loadTCGA_Target_GTex()"
   ]
  },
  {
   "cell_type": "code",
   "execution_count": 5,
   "metadata": {},
   "outputs": [
    {
     "name": "stdout",
     "output_type": "stream",
     "text": [
      "(19130, 60498)\n",
      "(19130, 7)\n"
     ]
    }
   ],
   "source": [
    "print(XDF.shape)\n",
    "print(YDF.shape)"
   ]
  }
 ],
 "metadata": {
  "kernelspec": {
   "display_name": "Python 3",
   "language": "python",
   "name": "python3"
  },
  "language_info": {
   "codemirror_mode": {
    "name": "ipython",
    "version": 3
   },
   "file_extension": ".py",
   "mimetype": "text/x-python",
   "name": "python",
   "nbconvert_exporter": "python",
   "pygments_lexer": "ipython3",
   "version": "3.7.6"
  },
  "varInspector": {
   "cols": {
    "lenName": 16,
    "lenType": 16,
    "lenVar": 40
   },
   "kernels_config": {
    "python": {
     "delete_cmd_postfix": "",
     "delete_cmd_prefix": "del ",
     "library": "var_list.py",
     "varRefreshCmd": "print(var_dic_list())"
    },
    "r": {
     "delete_cmd_postfix": ") ",
     "delete_cmd_prefix": "rm(",
     "library": "var_list.r",
     "varRefreshCmd": "cat(var_dic_list()) "
    }
   },
   "types_to_exclude": [
    "module",
    "function",
    "builtin_function_or_method",
    "instance",
    "_Feature"
   ],
   "window_display": false
  }
 },
 "nbformat": 4,
 "nbformat_minor": 4
}
