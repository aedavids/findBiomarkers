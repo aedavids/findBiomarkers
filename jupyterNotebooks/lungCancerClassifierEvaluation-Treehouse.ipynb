{
 "cells": [
  {
   "cell_type": "markdown",
   "metadata": {
    "colab_type": "text",
    "id": "ocEO8IYXCZj4"
   },
   "source": [
    "# Simple Tumor/normal Classifier Evaluation\n",
    "\n",
    "- BME 230A class project winter 2019\n",
    "- Andrew E. Davidson\n",
    "- [aedavids@ucsc.edu](mailto:aedavids@edu?subject=SimpleModel.ipynb)\n",
    "\n",
    "Given a trained classifier with high accuracy, reverse engineer the model's features to identify genes that maximal activate and compare them with known cancer causing genes. \n",
    "\n",
    "## Overview:\n",
    "\n",
    "The output layer of our model implements the sigmoid function show in Figure 1. We want to identify genes that push the value of z towards the the far right or left of Figure 1 \n",
    "\n",
    "Based on equation (1) we can identify these genes by calculating their over all contribution to the value of z. The contribution is calculated as \n",
    "the mean value for each gene multiplied by its corresponding weight from our trained model \n",
    "\n",
    "Neural Network Activation Unit Equation \n",
    "\n",
    "$$ eq(1)\\ z\\ =\\ W^{ T }x $$\n",
    "\n",
    "$$ eq(2)\\ sigmoid\\ activation\\ (z) =\\frac { { 1 } }{ { 1 }+e^{ - z} } $$\n",
    "\n",
    "## Results:\n",
    "figure 2. \"Gene Contribution Distribution shows that as we might expect most genes are ignored by our model\" \n",
    "\n",
    "we used a Z score threshold of 3 to identify genes that unusually large contribution to the value input into the sigmoid function. We use the term 'promoter' for genes that increase the sigmoid input value and the term 'inhibitor' for genes that decrease this input value.\n",
    "\n",
    "<span style=\"color:red\">TODO:</span> modify findLargestContributors() so that it returns sorted results\n",
    "\n",
    "```\n",
    "number normal promoters:211\n",
    "normal promoter[0:3]:Index(['ABCA10', 'ABCA6', 'ABCA8']\n",
    "\n",
    "number normal inhibitor:262\n",
    "normal inhibitor[0:3]:Index([['AC000089.3'], ['AC005255.3'], ['AC006386.1']\n",
    "\n",
    "number tumor promoters:270\n",
    "['AC000089.3', 'AC005255.3', 'AC006386.1']\n",
    "\n",
    "number tumor inhibitor:218\n",
    "['ABCA10'], ['ABCA6'], ['ABCA8']\n",
    "```\n",
    "\n",
    "<span style=\"color:red\">TODO:</span> confirm these genes know releation to cancer\n",
    "\n",
    "reference:\n",
    "- [simpleModel.ipynb](simpleModel.ipynb)\n",
    "- [https://github.com/AEDWIP/BME-230a.git](https://github.com/AEDWIP/BME-230a.git)"
   ]
  },
  {
   "cell_type": "code",
   "execution_count": null,
   "metadata": {},
   "outputs": [],
   "source": [
    "aedwip use data/tcga_target_gtex.h5.treeHouse.save"
   ]
  },
  {
   "cell_type": "code",
   "execution_count": 1,
   "metadata": {},
   "outputs": [
    {
     "data": {
      "text/plain": [
       "<Figure size 640x480 with 1 Axes>"
      ]
     },
     "metadata": {},
     "output_type": "display_data"
    }
   ],
   "source": [
    "import matplotlib.pyplot as plt\n",
    "import numpy as np\n",
    "\n",
    "\n",
    "def sigma(x):\n",
    "    return 1 / (1 + np.exp(-x))\n",
    "\n",
    "\n",
    "X = np.linspace(-8, 8, 100)\n",
    "plt.plot(X, sigma(X), 'b')\n",
    "plt.xlabel('z Axis')\n",
    "plt.ylabel('activation state')\n",
    "plt.title('Fig. 1 Sigmoid Function')\n",
    "plt.grid()\n",
    "plt.text(4, 0.8, r'$\\sigma(z)=\\frac{1}{1+e^{-z}}$', fontsize=16)\n",
    "plt.savefig('images/simpleModelEvaluationFig1.png')\n",
    "plt.show()"
   ]
  },
  {
   "cell_type": "code",
   "execution_count": 2,
   "metadata": {
    "colab": {},
    "colab_type": "code",
    "id": "idsL7tUcCZj5"
   },
   "outputs": [
    {
     "name": "stderr",
     "output_type": "stream",
     "text": [
      "Using TensorFlow backend.\n"
     ]
    },
    {
     "name": "stdout",
     "output_type": "stream",
     "text": [
      "keras version should be Keras==2.1.6, new version can not save and restore models\n",
      "keras version:2.1.6\n"
     ]
    }
   ],
   "source": [
    "import keras\n",
    "print(\n",
    "    \"keras version should be Keras==2.1.6, new version can not save and restore models\"\n",
    ")\n",
    "print(\"keras version:{}\".format(keras.__version__))\n",
    "\n",
    "import matplotlib.pyplot as plt\n",
    "import numpy as np\n",
    "import pandas as pd\n",
    "import tensorflow as tf\n",
    "import sys\n",
    "\n",
    "# fix random seed for reproducibility\n",
    "theMeaningOfLife = 42\n",
    "np.random.seed(theMeaningOfLife)"
   ]
  },
  {
   "cell_type": "code",
   "execution_count": 3,
   "metadata": {},
   "outputs": [
    {
     "name": "stdout",
     "output_type": "stream",
     "text": [
      "/home/ubuntu/BME-230a\r\n"
     ]
    }
   ],
   "source": [
    "# add path to our local modules\n",
    "# assume they are in the same directory we launched the juypter server in\n",
    "# /home/ubuntu/BME-230a\n",
    "!pwd\n",
    "localModuleDir = \".\"\n",
    "sys.path.append(localModuleDir)\n",
    "from loadData import loadTumorNormalData"
   ]
  },
  {
   "cell_type": "code",
   "execution_count": 4,
   "metadata": {},
   "outputs": [
    {
     "name": "stdout",
     "output_type": "stream",
     "text": [
      "sourceDataFilePath:/bme-230a-ebs/data/tcga_target_gtex.h5\n",
      "CPU times: user 1.24 s, sys: 5.98 s, total: 7.23 s\n",
      "Wall time: 7.24 s\n"
     ]
    }
   ],
   "source": [
    "%%time\n",
    "\n",
    "rootDir = \"/bme-230a-ebs\"\n",
    "XTrainDF, yTrainSeries, _, _ = loadTumorNormalData(rootDir)\n",
    "yTrainDF = pd.DataFrame(yTrainSeries)\n",
    "yTrainSeries = None  # clean up memory"
   ]
  },
  {
   "cell_type": "code",
   "execution_count": 5,
   "metadata": {},
   "outputs": [
    {
     "name": "stdout",
     "output_type": "stream",
     "text": [
      "XTrainDF.shape:(15300, 58581)\n"
     ]
    },
    {
     "data": {
      "text/html": [
       "<div>\n",
       "<style scoped>\n",
       "    .dataframe tbody tr th:only-of-type {\n",
       "        vertical-align: middle;\n",
       "    }\n",
       "\n",
       "    .dataframe tbody tr th {\n",
       "        vertical-align: top;\n",
       "    }\n",
       "\n",
       "    .dataframe thead th {\n",
       "        text-align: right;\n",
       "    }\n",
       "</style>\n",
       "<table border=\"1\" class=\"dataframe\">\n",
       "  <thead>\n",
       "    <tr style=\"text-align: right;\">\n",
       "      <th></th>\n",
       "      <th>5S_rRNA</th>\n",
       "      <th>5_8S_rRNA</th>\n",
       "      <th>7SK</th>\n",
       "    </tr>\n",
       "  </thead>\n",
       "  <tbody>\n",
       "    <tr>\n",
       "      <th>0</th>\n",
       "      <td>-9.966041</td>\n",
       "      <td>-9.965816</td>\n",
       "      <td>-0.687321</td>\n",
       "    </tr>\n",
       "    <tr>\n",
       "      <th>1</th>\n",
       "      <td>-9.966041</td>\n",
       "      <td>-9.965816</td>\n",
       "      <td>-9.965881</td>\n",
       "    </tr>\n",
       "    <tr>\n",
       "      <th>2</th>\n",
       "      <td>-9.966041</td>\n",
       "      <td>-9.965816</td>\n",
       "      <td>-9.965881</td>\n",
       "    </tr>\n",
       "  </tbody>\n",
       "</table>\n",
       "</div>"
      ],
      "text/plain": [
       "    5S_rRNA  5_8S_rRNA       7SK\n",
       "0 -9.966041  -9.965816 -0.687321\n",
       "1 -9.966041  -9.965816 -9.965881\n",
       "2 -9.966041  -9.965816 -9.965881"
      ]
     },
     "execution_count": 5,
     "metadata": {},
     "output_type": "execute_result"
    }
   ],
   "source": [
    "print(\"XTrainDF.shape:{}\".format(XTrainDF.shape))\n",
    "XTrainDF.iloc[0:3, 0:3]"
   ]
  },
  {
   "cell_type": "markdown",
   "metadata": {},
   "source": [
    "# Load trained model"
   ]
  },
  {
   "cell_type": "code",
   "execution_count": 6,
   "metadata": {
    "colab": {
     "base_uri": "https://localhost:8080/",
     "height": 302
    },
    "colab_type": "code",
    "executionInfo": {
     "elapsed": 2590,
     "status": "ok",
     "timestamp": 1552177556484,
     "user": {
      "displayName": "Andy Davidson",
      "photoUrl": "https://lh4.googleusercontent.com/-gB9HZ-hNWHs/AAAAAAAAAAI/AAAAAAAABR8/h1ExrxwAg0k/s64/photo.jpg",
      "userId": "01376457533882295996"
     },
     "user_tz": 480
    },
    "id": "P8GME6wXCZj8",
    "outputId": "e724f980-760a-4d37-f129-e6bc1989f941"
   },
   "outputs": [
    {
     "name": "stdout",
     "output_type": "stream",
     "text": [
      "fullModelPath:/bme-230a-ebs/models/logisticRegressionTumorNormal.h5\n",
      "_________________________________________________________________\n",
      "Layer (type)                 Output Shape              Param #   \n",
      "=================================================================\n",
      "input_1 (InputLayer)         (None, 58581)             0         \n",
      "_________________________________________________________________\n",
      "batch_normalization_1 (Batch (None, 58581)             234324    \n",
      "_________________________________________________________________\n",
      "dense_1 (Dense)              (None, 1)                 58582     \n",
      "_________________________________________________________________\n",
      "activation_1 (Activation)    (None, 1)                 0         \n",
      "=================================================================\n",
      "Total params: 292,906\n",
      "Trainable params: 175,744\n",
      "Non-trainable params: 117,162\n",
      "_________________________________________________________________\n",
      "model.optimizer:<keras.optimizers.Adam object at 0x7ff337171080>\n",
      "CPU times: user 660 ms, sys: 16 ms, total: 676 ms\n",
      "Wall time: 683 ms\n"
     ]
    }
   ],
   "source": [
    "%%time\n",
    "\n",
    "from keras.models import load_model\n",
    "modelName = \"logisticRegressionTumorNormal\"\n",
    "modelRootDir = \"{}/models\".format(rootDir)\n",
    "fullModelPath = \"{}/{}.h5\".format(modelRootDir, modelName)\n",
    "print(\"fullModelPath:{}\".format(fullModelPath))\n",
    "\n",
    "model = load_model(fullModelPath)\n",
    "model.summary()\n",
    "#model.get_weights()\n",
    "print(\"model.optimizer:{}\".format(model.optimizer))"
   ]
  },
  {
   "cell_type": "markdown",
   "metadata": {
    "colab_type": "text",
    "id": "-GREOhTUCZkE"
   },
   "source": [
    "## Start Evaluation"
   ]
  },
  {
   "cell_type": "code",
   "execution_count": 7,
   "metadata": {
    "colab": {},
    "colab_type": "code",
    "id": "NB3joVY_CZkF"
   },
   "outputs": [
    {
     "name": "stdout",
     "output_type": "stream",
     "text": [
      "normalizedXTrain.shape:(15300, 58581)\n",
      "type(normalizedXTrain):<class 'numpy.ndarray'>\n",
      "CPU times: user 19.9 s, sys: 820 ms, total: 20.7 s\n",
      "Wall time: 6.61 s\n"
     ]
    }
   ],
   "source": [
    "%%time\n",
    "# preprocess training set. I.E. apply batch normalization\n",
    "\n",
    "# https://keras.io/getting-started/faq/#how-can-i-obtain-the-output-of-an-intermediate-layer\n",
    "# We want to identify how much each feature contributes to Z the value\n",
    "# passed to the activation layer its important that we use the\n",
    "# batch_normalization layer from our logistic regression model\n",
    "# else we will potentially scale the data to a distribution with a\n",
    "# different mean and variance\n",
    "\n",
    "from keras.models import Model\n",
    "\n",
    "layerName = \"batch_normalization_1\"\n",
    "normalizationModel = Model(\n",
    "    inputs=model.input, outputs=model.get_layer(layerName).output)\n",
    "\n",
    "normalizedXTrain = normalizationModel.predict(XTrainDF)\n",
    "\n",
    "print(\"normalizedXTrain.shape:{}\".format(XTrainDF.shape))\n",
    "print(\"type(normalizedXTrain):{}\".format(type(normalizedXTrain)))"
   ]
  },
  {
   "cell_type": "code",
   "execution_count": 8,
   "metadata": {
    "colab": {},
    "colab_type": "code",
    "id": "fmNbtZwFCZkH"
   },
   "outputs": [
    {
     "name": "stdout",
     "output_type": "stream",
     "text": [
      "    5S_rRNA  5_8S_rRNA       7SK    A1BG  A1BG-AS1\n",
      "0 -9.966041  -9.965816 -0.687321  2.7487    0.6425\n",
      "1 -9.966041  -9.965816 -9.965881  1.7489    0.4552\n",
      "2 -9.966041  -9.965816 -9.965881  3.1393   -0.5332\n",
      "3 -9.966041  -9.965816 -9.965881  1.8957    0.3346\n",
      "4 -9.966041  -9.965816 -9.965881  6.1639    2.7951\n",
      "\n",
      "[[-0.22988081 -0.01822662  1.7637036  -0.44150555 -0.3327798 ]\n",
      " [-0.22988081 -0.01822662 -0.59104776 -0.9400776  -0.45402288]\n",
      " [-0.22988081 -0.01822662 -0.59104776 -0.24672425 -1.0938346 ]\n",
      " [-0.22988081 -0.01822662 -0.59104776 -0.8668726  -0.53208977]\n",
      " [-0.22988081 -0.01822662 -0.59104776  1.2615584   1.0606427 ]]\n"
     ]
    }
   ],
   "source": [
    "# make sure batch normalization was applied\n",
    "print(XTrainDF.iloc[0:5, 0:5])\n",
    "print()\n",
    "print(normalizedXTrain[0:5, 0:5])"
   ]
  },
  {
   "cell_type": "code",
   "execution_count": 9,
   "metadata": {
    "colab": {},
    "colab_type": "code",
    "id": "wwKdOl8jCZkP"
   },
   "outputs": [
    {
     "name": "stdout",
     "output_type": "stream",
     "text": [
      "CPU times: user 2.2 s, sys: 684 ms, total: 2.88 s\n",
      "Wall time: 2.88 s\n"
     ]
    }
   ],
   "source": [
    "%%time\n",
    "# create a new dataFrame that combines our features with out labels\n",
    "# the index for XTrainDF are integers\n",
    "# the index for yTrainDF GTEX values e.g. GTEX-ZQG8-2426-SM-57WEE\n",
    "normalizedXTrainDF = pd.DataFrame(normalizedXTrain, columns=XTrainDF.columns)\n",
    "\n",
    "evalTrainDF = pd.concat(\n",
    "    [normalizedXTrainDF, yTrainDF.reset_index(drop=True)], axis=1)\n",
    "\n",
    "yTrainDF = None  # clean up memory\n",
    "normalizedXTrainDF = None  # clean up memory\n",
    "XTrainDF = None  # clean up memory"
   ]
  },
  {
   "cell_type": "code",
   "execution_count": 10,
   "metadata": {
    "colab": {},
    "colab_type": "code",
    "id": "8FRF-sAQCZkS"
   },
   "outputs": [
    {
     "name": "stdout",
     "output_type": "stream",
     "text": [
      "\n",
      "key:normal\n",
      "      gene1  gene2\n",
      "min     1.0   11.0\n",
      "max     3.0   33.0\n",
      "mean    2.0   22.0\n",
      "\n",
      "key:tumor\n",
      "      gene1  gene2\n",
      "min     2.0   22.0\n",
      "max     4.0   44.0\n",
      "mean    3.0   33.0\n",
      "\n"
     ]
    }
   ],
   "source": [
    "def calcStats(df, categoryColName, listOfAggFunctions):\n",
    "    '''\n",
    "    # https://stackoverflow.com/a/14734627/4586180\n",
    "    1. groups rows by category\n",
    "    2. applies the aggregate functions to each group\n",
    "    \n",
    "    arguments:\n",
    "        df:\n",
    "            dataframe\n",
    "            \n",
    "        categoryColName:\n",
    "            a string identifying the column to group by\n",
    "            \n",
    "        listOfAggFunctions:\n",
    "            a list of string names of the aggrate function to run\n",
    "    \n",
    "    returns\n",
    "        a dictionary. \n",
    "            The key will be the classes in the col identified by \n",
    "            categoryColName the value will be a dataframe with the \n",
    "            aggragate values\n",
    "        \n",
    "    '''\n",
    "    ret = dict()\n",
    "    grouped = df.groupby(categoryColName)\n",
    "    for key, group in grouped:\n",
    "        stats = group.agg(listOfAggFunctions)\n",
    "        ret[key] = stats\n",
    "\n",
    "    return ret\n",
    "\n",
    "\n",
    "# small example that explains what calcStats() does\n",
    "tn = pd.Series([\"normal\", \"tumor\", \"normal\", \"tumor\"], dtype=\"category\")\n",
    "df = pd.DataFrame({\n",
    "    \"gene1\": [1, 2, 3, 4],\n",
    "    \"gene2\": [11, 22, 33, 44],\n",
    "    \"tumorNormal\": tn\n",
    "})\n",
    "\n",
    "ret = calcStats(\n",
    "    df=df,\n",
    "    categoryColName=\"tumorNormal\",\n",
    "    listOfAggFunctions=['min', 'max', 'mean'])\n",
    "print()\n",
    "for key in ret.keys():\n",
    "    print(\"key:{}\\n{}\\n\".format(key, ret[key]))"
   ]
  },
  {
   "cell_type": "code",
   "execution_count": 11,
   "metadata": {
    "colab": {},
    "colab_type": "code",
    "id": "pp6wqLQgCZkV"
   },
   "outputs": [
    {
     "name": "stdout",
     "output_type": "stream",
     "text": [
      "CPU times: user 1min 13s, sys: 1.04 s, total: 1min 14s\n",
      "Wall time: 1min 14s\n"
     ]
    }
   ],
   "source": [
    "%%time\n",
    "# for each class, calculate the mean value for each gene\n",
    "statsTrainDict = calcStats(\n",
    "    df=evalTrainDF,\n",
    "    categoryColName=\"tumor_normal_value\",\n",
    "    listOfAggFunctions=['min', 'max', 'std', 'mean'])\n",
    "\n",
    "evalTrainDF = None  # clean up memory"
   ]
  },
  {
   "cell_type": "code",
   "execution_count": 12,
   "metadata": {
    "colab": {},
    "colab_type": "code",
    "id": "K-Y0DcfkCZkX"
   },
   "outputs": [],
   "source": [
    "# the keys are '0' and '1'\n",
    "# AEDWIP make sure '0' is normal\n",
    "normalTrainDF = statsTrainDict[0]\n",
    "tumorTrainDF = statsTrainDict[1]"
   ]
  },
  {
   "cell_type": "code",
   "execution_count": 13,
   "metadata": {},
   "outputs": [
    {
     "name": "stdout",
     "output_type": "stream",
     "text": [
      "       5S_rRNA  5_8S_rRNA       7SK\n",
      "min  -0.229881  -0.018227 -0.591048\n",
      "max   5.554085  68.242981  2.793821\n",
      "std   1.095459   0.823155  1.058787\n",
      "mean  0.045072  -0.008299  0.078371\n",
      "       5S_rRNA  5_8S_rRNA       7SK\n",
      "min  -0.229881  -0.018227 -0.591048\n",
      "max   5.313530  62.844032  3.639656\n",
      "std   0.903769   1.123332  0.936904\n",
      "mean -0.040709   0.002942 -0.066870\n"
     ]
    }
   ],
   "source": [
    "print(normalTrainDF.iloc[:, 0:3])\n",
    "print(tumorTrainDF.iloc[:, 0:3])"
   ]
  },
  {
   "cell_type": "code",
   "execution_count": 14,
   "metadata": {
    "colab": {},
    "colab_type": "code",
    "id": "K-Y0DcfkCZkX"
   },
   "outputs": [
    {
     "name": "stdout",
     "output_type": "stream",
     "text": [
      "normalTrainDF.shape:(4, 58582)\n",
      " tumorTrainDF.shape:(4, 58582)\n"
     ]
    }
   ],
   "source": [
    "print(\"normalTrainDF.shape:{}\".format(normalTrainDF.shape))\n",
    "print(\" tumorTrainDF.shape:{}\".format(tumorTrainDF.shape))\n",
    "statsTrainDict = None  # clean up memory"
   ]
  },
  {
   "cell_type": "code",
   "execution_count": 15,
   "metadata": {
    "colab": {},
    "colab_type": "code",
    "id": "rS8A3FaPCZka"
   },
   "outputs": [
    {
     "name": "stdout",
     "output_type": "stream",
     "text": [
      "       5S_rRNA  5_8S_rRNA       7SK\n",
      "min  -0.229881  -0.018227 -0.591048\n",
      "max   5.554085  68.242981  2.793821\n",
      "std   1.095459   0.823155  1.058787\n",
      "mean  0.045072  -0.008299  0.078371\n",
      "\n",
      "        uc_338  yR211F11.2  tumor_normal_value\n",
      "min  -2.407152   -0.343138                 0.0\n",
      "max   1.358855    4.646954                 0.0\n",
      "std   0.827600    0.876538                 0.0\n",
      "mean  0.304978   -0.090254                 0.0\n"
     ]
    }
   ],
   "source": [
    "print(normalTrainDF.iloc[0:4, 0:3])\n",
    "last3ColLabels = normalTrainDF.columns[-3:]\n",
    "print()\n",
    "print(normalTrainDF.iloc[0:4, :].loc[:, last3ColLabels])"
   ]
  },
  {
   "cell_type": "markdown",
   "metadata": {},
   "source": [
    "### calculate gene contributions to z , the input to sigmoid function\n",
    "for each gene multiplying the mean expresion value by the dense layer weight"
   ]
  },
  {
   "cell_type": "code",
   "execution_count": 16,
   "metadata": {
    "colab": {},
    "colab_type": "code",
    "id": "M8I3dE3ECZke"
   },
   "outputs": [
    {
     "name": "stdout",
     "output_type": "stream",
     "text": [
      "coeficients.shape:(58581, 1)\n"
     ]
    }
   ],
   "source": [
    "denseLayer = model.get_layer('dense_1')\n",
    "weights = denseLayer.get_weights()\n",
    "\n",
    "# weights[1] is the bias term\n",
    "coeficients = weights[0]\n",
    "print(\"coeficients.shape:{}\".format(coeficients.shape))"
   ]
  },
  {
   "cell_type": "code",
   "execution_count": 17,
   "metadata": {
    "colab": {},
    "colab_type": "code",
    "id": "8WU0x7AgCZkh"
   },
   "outputs": [],
   "source": [
    "# select all the gene col lables. The last col is tumor_normal_value\n",
    "trainFeatureCols = normalTrainDF.columns[:-1]\n",
    "normalTrainMeansSeries = normalTrainDF.loc['mean', trainFeatureCols]\n",
    "#normalTrainDF = None # clear memory\n",
    "\n",
    "tumorTrainMeansSeries = tumorTrainDF.loc['mean', trainFeatureCols]\n",
    "#tumorTrainDF = None # clear memory"
   ]
  },
  {
   "cell_type": "code",
   "execution_count": 18,
   "metadata": {
    "colab": {},
    "colab_type": "code",
    "id": "eUKPx006CZkk"
   },
   "outputs": [],
   "source": [
    "# https://pandas.pydata.org/pandas-docs/stable/reference/api/pandas.Series.multiply.html\n",
    "# element wise multiplication\n",
    "normalTrainMeansValues = normalTrainMeansSeries.values\n",
    "normalTrainMeansSeries = None  # clean memory\n",
    "tumorTrainMeansValues = tumorTrainMeansSeries.values\n",
    "tumorTrainMeansSeries = None  # clean memory\n",
    "\n",
    "# np.multiple multiply with shapes (58581,) * (58581, 1) exhasts memory\n",
    "s = normalTrainMeansValues.shape\n",
    "normalTrainMeansValues = np.reshape(normalTrainMeansValues, (s[0], 1))\n",
    "\n",
    "t = tumorTrainMeansValues.shape\n",
    "tumorTrainMeansValues = np.reshape(tumorTrainMeansValues, (t[0], 1))"
   ]
  },
  {
   "cell_type": "code",
   "execution_count": 19,
   "metadata": {},
   "outputs": [
    {
     "name": "stdout",
     "output_type": "stream",
     "text": [
      "[671]\n",
      "[1312]\n"
     ]
    }
   ],
   "source": [
    "# confirm the means between tumors and normal examples are different\n",
    "print(sum(normalTrainMeansValues - tumorTrainMeansValues > 0.8))\n",
    "print(sum(normalTrainMeansValues - tumorTrainMeansValues < -0.8))"
   ]
  },
  {
   "cell_type": "code",
   "execution_count": 20,
   "metadata": {
    "colab": {},
    "colab_type": "code",
    "id": "eUKPx006CZkk"
   },
   "outputs": [],
   "source": [
    "# np.multiply does element wise\n",
    "normalContribution = np.multiply(normalTrainMeansValues, coeficients)\n",
    "tumorContribution = np.multiply(tumorTrainMeansValues, coeficients)"
   ]
  },
  {
   "cell_type": "code",
   "execution_count": 21,
   "metadata": {
    "colab": {},
    "colab_type": "code",
    "id": "zwbWWR6VCZkq"
   },
   "outputs": [
    {
     "data": {
      "image/png": "[encoded data removed]",
      "text/plain": [
       "<Figure size 720x360 with 1 Axes>"
      ]
     },
     "metadata": {},
     "output_type": "display_data"
    }
   ],
   "source": [
    "fig = plt.gcf()\n",
    "ax = plt.gca()\n",
    "fig.set_size_inches(10, 5)\n",
    "\n",
    "# use arrange for float value\n",
    "data = normalContribution\n",
    "stepSize = (max(data) - min(data)) / 20\n",
    "bins = np.arange(min(data), max(data), stepSize)\n",
    "plt.hist(\n",
    "    normalContribution, bins=bins, alpha=0.4, color=['red'], label='normal')\n",
    "\n",
    "data = tumorContribution\n",
    "stepSize = (max(data) - min(data)) / 20\n",
    "bins = np.arange(min(data), max(data), stepSize)\n",
    "plt.hist(\n",
    "    tumorContribution, bins=bins, alpha=0.4, color=['blue'], label='tumor')\n",
    "\n",
    "plt.legend(loc='upper right')\n",
    "fig = plt.gcf()\n",
    "size = fig.get_size_inches() * fig.dpi  # size in pixels\n",
    "plt.title(\"Fig 2. Gene Contribution Distribution\")\n",
    "plt.xlabel(\"average gene contribution\")\n",
    "plt.ylabel(\"gene counts\")\n",
    "plt.savefig('images/simpleModelEvaluationFig2.png')\n",
    "\n",
    "plt.show()"
   ]
  },
  {
   "cell_type": "code",
   "execution_count": 22,
   "metadata": {
    "colab": {},
    "colab_type": "code",
    "id": "t3z0FsYcCZku"
   },
   "outputs": [
    {
     "name": "stdout",
     "output_type": "stream",
     "text": [
      "normalMean:-0.0004977333614630867 , normalStd:0.0013488136170243747\n",
      "tumorMean:0.0004074101422154019 , tumorStd:0.001089048058297039\n"
     ]
    }
   ],
   "source": [
    "# calculate describtive stats across all the gene average contributions\n",
    "normalStd = np.std(normalContribution)\n",
    "normalMean = np.mean(normalContribution)\n",
    "tumorStd = np.std(tumorContribution)\n",
    "tumorMean = np.mean(tumorContribution)\n",
    "print(\"normalMean:{} , normalStd:{}\".format(normalMean, normalStd))\n",
    "print(\"tumorMean:{} , tumorStd:{}\".format(tumorMean, tumorStd))"
   ]
  },
  {
   "cell_type": "code",
   "execution_count": 23,
   "metadata": {},
   "outputs": [],
   "source": [
    "def findLargestContributors(df, featureCols, zThreshold):\n",
    "    '''\n",
    "    uses z score to indentify genes that make unsually large contributions\n",
    "    \n",
    "    arguments:\n",
    "        threshold: the z score threshold\n",
    "    \n",
    "    returns: {\"promoters\":promoterGenes, \"inhibitor\":inhibitGenes}\n",
    "        where promoterGenes and inhibitorGenes are list of Hugo names\n",
    "        \n",
    "    TODO: return in sort order\n",
    "    '''\n",
    "    meanSeries = df.loc[\"mean\", featureCols]\n",
    "\n",
    "    from scipy.stats import zscore\n",
    "    meanZScores = zscore(meanSeries)  # numpy array\n",
    "\n",
    "    # argwhere returns a array of [row, idx]\n",
    "    promoterIdx = np.argwhere(meanZScores > zThreshold)\n",
    "\n",
    "    flatPromoterIdx = promoterIdx.flatten()\n",
    "    promoterGenes = featureCols[flatPromoterIdx]\n",
    "\n",
    "    inhibitorIdx = np.argwhere(meanZScores < zThreshold * -1.0)\n",
    "    flatInhibitorIdx = inhibitorIdx.flatten()\n",
    "    inhibitorGenes = featureCols[inhibitorIdx]\n",
    "\n",
    "    ret = {\"promoters\": promoterGenes, \"inhibitor\": inhibitorGenes}\n",
    "    return ret"
   ]
  },
  {
   "cell_type": "code",
   "execution_count": 24,
   "metadata": {},
   "outputs": [
    {
     "name": "stdout",
     "output_type": "stream",
     "text": [
      "number normal promoters:211\n",
      "normal promoter[0:3]:Index(['ABCA10', 'ABCA6', 'ABCA8'], dtype='object')\n",
      "number normal inhibitor:262\n",
      "normal inhibitor[0:3]:Index([['AC000089.3'], ['AC005255.3'], ['AC006386.1']], dtype='object')\n"
     ]
    }
   ],
   "source": [
    "zThreshold = 3\n",
    "normalContributors = findLargestContributors(normalTrainDF, trainFeatureCols,\n",
    "                                             zThreshold)\n",
    "print(\"number normal promoters:{}\".format(\n",
    "    len(normalContributors[\"promoters\"])))\n",
    "\n",
    "print(\"normal promoter[0:3]:{}\"\n",
    "      .format(normalContributors[\"promoters\"][0:3]))\n",
    "\n",
    "print(\"number normal inhibitor:{}\".format(\n",
    "    len(normalContributors[\"inhibitor\"])))\n",
    "\n",
    "print(\"normal inhibitor[0:3]:{}\"\n",
    "      .format(normalContributors[\"inhibitor\"][0:3]))"
   ]
  },
  {
   "cell_type": "code",
   "execution_count": 25,
   "metadata": {},
   "outputs": [
    {
     "name": "stdout",
     "output_type": "stream",
     "text": [
      "number tumor promoters:270\n",
      "tumor promoter[0:3]:Index(['AC000089.3', 'AC005255.3', 'AC006386.1'], dtype='object')\n",
      "number tumor inhibitor:218\n",
      "tumor inhibitor[0:3]:Index([['ABCA10'], ['ABCA6'], ['ABCA8']], dtype='object')\n"
     ]
    }
   ],
   "source": [
    "tumorContributors = findLargestContributors(tumorTrainDF, \n",
    "                                            trainFeatureCols, zThreshold)\n",
    "print(\"number tumor promoters:{}\"\n",
    "      .format(len(tumorContributors[\"promoters\"])))\n",
    "\n",
    "print(\"tumor promoter[0:3]:{}\"\n",
    "      .format(tumorContributors[\"promoters\"][0:3]))\n",
    "\n",
    "print(\"number tumor inhibitor:{}\"\n",
    "      .format(len(tumorContributors[\"inhibitor\"])))\n",
    "\n",
    "print(\"tumor inhibitor[0:3]:{}\"\n",
    "      .format(tumorContributors[\"inhibitor\"][0:3]))"
   ]
  },
  {
   "cell_type": "code",
   "execution_count": null,
   "metadata": {},
   "outputs": [],
   "source": []
  }
 ],
 "metadata": {
  "colab": {
   "collapsed_sections": [],
   "name": "simpleModelFeatureSelection.ipynb",
   "provenance": [],
   "version": "0.3.2"
  },
  "kernelspec": {
   "display_name": "Python 3",
   "language": "python",
   "name": "python3"
  },
  "language_info": {
   "codemirror_mode": {
    "name": "ipython",
    "version": 3
   },
   "file_extension": ".py",
   "mimetype": "text/x-python",
   "name": "python",
   "nbconvert_exporter": "python",
   "pygments_lexer": "ipython3",
   "version": "3.7.6"
  },
  "toc": {
   "base_numbering": 1,
   "nav_menu": {},
   "number_sections": true,
   "sideBar": true,
   "skip_h1_title": false,
   "title_cell": "Table of Contents",
   "title_sidebar": "Contents",
   "toc_cell": false,
   "toc_position": {},
   "toc_section_display": true,
   "toc_window_display": false
  },
  "varInspector": {
   "cols": {
    "lenName": 16,
    "lenType": 16,
    "lenVar": 40
   },
   "kernels_config": {
    "python": {
     "delete_cmd_postfix": "",
     "delete_cmd_prefix": "del ",
     "library": "var_list.py",
     "varRefreshCmd": "print(var_dic_list())"
    },
    "r": {
     "delete_cmd_postfix": ") ",
     "delete_cmd_prefix": "rm(",
     "library": "var_list.r",
     "varRefreshCmd": "cat(var_dic_list()) "
    }
   },
   "types_to_exclude": [
    "module",
    "function",
    "builtin_function_or_method",
    "instance",
    "_Feature"
   ],
   "window_display": false
  }
 },
 "nbformat": 4,
 "nbformat_minor": 1
}
