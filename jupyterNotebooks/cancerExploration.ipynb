{
 "cells": [
  {
   "cell_type": "markdown",
   "metadata": {},
   "source": [
    "# Disease Classifier\n",
    "- Andrew E. Davidson\n",
    "- [aedavids@ucsc.edu](mailto:aedavids@edu?subject=lungCancerBinaryClassifier.ipynb)\n",
    "- ?? what is the attribution for the Kim lab\n",
    "\n",
    "## Overview\n",
    "We do not have enough lung cancer examples to train a binary classifier. The model did not \n",
    "learning anything. simply predicting all example to be 'not lung cancer' will have about 93% \n",
    "accuracy. Work around train  multinomial classifier on the category label.  "
   ]
  },
  {
   "cell_type": "code",
   "execution_count": 1,
   "metadata": {},
   "outputs": [
    {
     "name": "stdout",
     "output_type": "stream",
     "text": [
      "[INFO <ipython-input-1-bf4d12904823>:8 - <module>()] using logging configuration file:../src/logging.test.ini.json\n"
     ]
    }
   ],
   "source": [
    "import pathlib as pl\n",
    "\n",
    "import logging\n",
    "from   setupLogging import setupLogging\n",
    "configFilePath = setupLogging( default_path=pl.Path('../src/logging.ini.json'))\n",
    "configFilePath = setupLogging( default_path=pl.Path('../src/logging.test.ini.json'))\n",
    "logger = logging.getLogger(\"notebook\")\n",
    "logger.info(\"using logging configuration file:{}\".format(configFilePath))\n",
    "\n",
    "from dataUtilities.TCGA_Target_GTex import TCGA_Target_GTex\n",
    "\n",
    "import matplotlib.pyplot as plt\n",
    "# import matplotlib.patches as mplpatches\n",
    "\n",
    "from matplotlibUtilities.histogram import Histogram as muHistogram\n",
    "import matplotlibUtilities.utilities as mu\n",
    "import numpy as np\n",
    "import pandas as pd\n",
    "\n",
    "# https://songhuiming.github.io/pages/2017/04/02/jupyter-and-pandas-display/\n",
    "# display(HTML(' <span style=\"color:red\">the title is: <h1>Hello, world!</h1> </span>  '))\n",
    "from IPython.display import display, HTML\n",
    "\n",
    "# fix random seed for reproducibility\n",
    "theMeaningOfLife = 42\n",
    "np.random.seed(theMeaningOfLife)"
   ]
  },
  {
   "cell_type": "markdown",
   "metadata": {},
   "source": [
    "## Load Data"
   ]
  },
  {
   "cell_type": "code",
   "execution_count": 2,
   "metadata": {},
   "outputs": [
    {
     "name": "stdout",
     "output_type": "stream",
     "text": [
      "[INFO utils.py:129 - _init_num_threads()] Note: NumExpr detected 16 cores but \"NUMEXPR_MAX_THREADS\" not set, so enforcing safe limit of 8.\n",
      "[INFO utils.py:141 - _init_num_threads()] NumExpr defaulting to 8 threads.\n"
     ]
    }
   ],
   "source": [
    "dataDir = pl.Path(\"../data\")\n",
    "if not dataDir.exists() :\n",
    "    dataDir.mkdir()\n",
    "    \n",
    "loader = TCGA_Target_GTex(dataDir)\n",
    "# the first time you run will be slow, downloads data, and creates a tidy data set\n",
    "XDF, YDF = loader.loadTCGA_Target_GTex()   "
   ]
  },
  {
   "cell_type": "code",
   "execution_count": 3,
   "metadata": {},
   "outputs": [
    {
     "name": "stdout",
     "output_type": "stream",
     "text": [
      "YDF.columns\n",
      "Index(['category', 'disease', 'primary_site', 'sample_type', 'gender', 'study',\n",
      "       'tumor_normal'],\n",
      "      dtype='object')\n"
     ]
    }
   ],
   "source": [
    "print(\"YDF.columns\\n{}\".format(YDF.columns))"
   ]
  },
  {
   "cell_type": "code",
   "execution_count": 4,
   "metadata": {},
   "outputs": [
    {
     "data": {
      "text/plain": [
       "Breast Invasive Carcinoma              1212\n",
       "Kidney Clear Cell Carcinoma             603\n",
       "Lung Adenocarcinoma                     574\n",
       "Thyroid Carcinoma                       571\n",
       "Head & Neck Squamous Cell Carcinoma     564\n",
       "                                       ... \n",
       "Bladder                                   9\n",
       "Cervix - Ectocervix                       6\n",
       "Fallopian Tube                            5\n",
       "Kidney, Rhabdoid Tumor                    5\n",
       "Cervix - Endocervix                       4\n",
       "Name: category, Length: 93, dtype: int64"
      ]
     },
     "execution_count": 4,
     "metadata": {},
     "output_type": "execute_result"
    }
   ],
   "source": [
    "diseaseCountsSeries = YDF.loc[ :, 'category' ].value_counts()\n",
    "diseaseCountsSeries"
   ]
  },
  {
   "cell_type": "markdown",
   "metadata": {},
   "source": [
    "### <span style=\"color:red\">AEDWIP: data?</span>\n",
    "Should we drop categories that do not have many example, like Bladder?\n",
    "\n",
    "All the GTEX example where known to be normal. Where biopsy from people being screen for cancer?\n",
    "\n",
    "Should we lump LungCancerRows ?\n",
    "\n",
    "what do the 'category', 'disease', and 'primary site' mean?"
   ]
  },
  {
   "cell_type": "code",
   "execution_count": 5,
   "metadata": {},
   "outputs": [
    {
     "name": "stdout",
     "output_type": "stream",
     "text": [
      "for lung relelated examples, are the primary_site and category features the same:? True\n",
      "for lung relelated examples, are the category  and disease features the same:? True\n",
      "number of diffs:0\n"
     ]
    }
   ],
   "source": [
    "lungCancerPSRowsSeries     = YDF['primary_site'].str.contains('lun', case=False)\n",
    "lungCancerCatRowsSeries    = YDF['category'    ].str.contains('lun', case=False)\n",
    "lungCancerDieaseRowsSeries = YDF['disease'     ].str.contains('lun', case=False)\n",
    "\n",
    "print(\"for lung relelated examples, are the primary_site and category features the same:? {}\"\\\n",
    "      .format(pd.Series.equals(lungCancerPSRowsSeries, lungCancerCatRowsSeries) ))\n",
    "\n",
    "print(\"for lung relelated examples, are the category  and disease features the same:? {}\"\\\n",
    "      .format(pd.Series.equals(lungCancerCatRowsSeries, lungCancerDieaseRowsSeries) ))\n",
    "\n",
    "def numDiffs(df1, df2):\n",
    "    d = lungCancerPSRowsSeries == lungCancerCatRowsSeries\n",
    "    numSame = d.sum()\n",
    "    n = lungCancerPSRowsSeries.size\n",
    "    numDiff = n - numSame\n",
    "    return numDiff\n",
    "    \n",
    "d = numDiffs( lungCancerPSRowsSeries, lungCancerCatRowsSeries )\n",
    "print(\"number of diffs:{}\".format(d))\n",
    "\n",
    "# use short names\n",
    "lungCancerPSRowsSeries = None\n",
    "lungCancerRows = lungCancerCatRowsSeries\n",
    "lungCancerCatRowsSeries = None"
   ]
  },
  {
   "cell_type": "code",
   "execution_count": 6,
   "metadata": {},
   "outputs": [
    {
     "data": {
      "text/html": [
       "<div>\n",
       "<style scoped>\n",
       "    .dataframe tbody tr th:only-of-type {\n",
       "        vertical-align: middle;\n",
       "    }\n",
       "\n",
       "    .dataframe tbody tr th {\n",
       "        vertical-align: top;\n",
       "    }\n",
       "\n",
       "    .dataframe thead th {\n",
       "        text-align: right;\n",
       "    }\n",
       "</style>\n",
       "<table border=\"1\" class=\"dataframe\">\n",
       "  <thead>\n",
       "    <tr style=\"text-align: right;\">\n",
       "      <th></th>\n",
       "      <th>category</th>\n",
       "      <th>disease</th>\n",
       "      <th>primary_site</th>\n",
       "      <th>sample_type</th>\n",
       "      <th>gender</th>\n",
       "      <th>study</th>\n",
       "      <th>tumor_normal</th>\n",
       "    </tr>\n",
       "    <tr>\n",
       "      <th>id</th>\n",
       "      <th></th>\n",
       "      <th></th>\n",
       "      <th></th>\n",
       "      <th></th>\n",
       "      <th></th>\n",
       "      <th></th>\n",
       "      <th></th>\n",
       "    </tr>\n",
       "  </thead>\n",
       "  <tbody>\n",
       "    <tr>\n",
       "      <th>GTEX-111CU-0326-SM-5GZXO</th>\n",
       "      <td>Lung</td>\n",
       "      <td>Lung</td>\n",
       "      <td>Lung</td>\n",
       "      <td>Normal Tissue</td>\n",
       "      <td>Male</td>\n",
       "      <td>GTEX</td>\n",
       "      <td>Normal</td>\n",
       "    </tr>\n",
       "    <tr>\n",
       "      <th>GTEX-111FC-1126-SM-5GZWU</th>\n",
       "      <td>Lung</td>\n",
       "      <td>Lung</td>\n",
       "      <td>Lung</td>\n",
       "      <td>Normal Tissue</td>\n",
       "      <td>Male</td>\n",
       "      <td>GTEX</td>\n",
       "      <td>Normal</td>\n",
       "    </tr>\n",
       "    <tr>\n",
       "      <th>GTEX-111VG-0726-SM-5GIDC</th>\n",
       "      <td>Lung</td>\n",
       "      <td>Lung</td>\n",
       "      <td>Lung</td>\n",
       "      <td>Normal Tissue</td>\n",
       "      <td>Male</td>\n",
       "      <td>GTEX</td>\n",
       "      <td>Normal</td>\n",
       "    </tr>\n",
       "    <tr>\n",
       "      <th>GTEX-111YS-0626-SM-5GZXV</th>\n",
       "      <td>Lung</td>\n",
       "      <td>Lung</td>\n",
       "      <td>Lung</td>\n",
       "      <td>Normal Tissue</td>\n",
       "      <td>Male</td>\n",
       "      <td>GTEX</td>\n",
       "      <td>Normal</td>\n",
       "    </tr>\n",
       "    <tr>\n",
       "      <th>GTEX-1122O-0126-SM-5GICA</th>\n",
       "      <td>Lung</td>\n",
       "      <td>Lung</td>\n",
       "      <td>Lung</td>\n",
       "      <td>Normal Tissue</td>\n",
       "      <td>Female</td>\n",
       "      <td>GTEX</td>\n",
       "      <td>Normal</td>\n",
       "    </tr>\n",
       "    <tr>\n",
       "      <th>...</th>\n",
       "      <td>...</td>\n",
       "      <td>...</td>\n",
       "      <td>...</td>\n",
       "      <td>...</td>\n",
       "      <td>...</td>\n",
       "      <td>...</td>\n",
       "      <td>...</td>\n",
       "    </tr>\n",
       "    <tr>\n",
       "      <th>TCGA-O2-A52V-01</th>\n",
       "      <td>Lung Squamous Cell Carcinoma</td>\n",
       "      <td>Lung Squamous Cell Carcinoma</td>\n",
       "      <td>Lung</td>\n",
       "      <td>Primary Tumor</td>\n",
       "      <td>Female</td>\n",
       "      <td>TCGA</td>\n",
       "      <td>Tumor</td>\n",
       "    </tr>\n",
       "    <tr>\n",
       "      <th>TCGA-O2-A52W-01</th>\n",
       "      <td>Lung Squamous Cell Carcinoma</td>\n",
       "      <td>Lung Squamous Cell Carcinoma</td>\n",
       "      <td>Lung</td>\n",
       "      <td>Primary Tumor</td>\n",
       "      <td>Male</td>\n",
       "      <td>TCGA</td>\n",
       "      <td>Tumor</td>\n",
       "    </tr>\n",
       "    <tr>\n",
       "      <th>TCGA-O2-A5IB-01</th>\n",
       "      <td>Lung Squamous Cell Carcinoma</td>\n",
       "      <td>Lung Squamous Cell Carcinoma</td>\n",
       "      <td>Lung</td>\n",
       "      <td>Primary Tumor</td>\n",
       "      <td>Female</td>\n",
       "      <td>TCGA</td>\n",
       "      <td>Tumor</td>\n",
       "    </tr>\n",
       "    <tr>\n",
       "      <th>TCGA-S2-AA1A-01</th>\n",
       "      <td>Lung Adenocarcinoma</td>\n",
       "      <td>Lung Adenocarcinoma</td>\n",
       "      <td>Lung</td>\n",
       "      <td>Primary Tumor</td>\n",
       "      <td>Female</td>\n",
       "      <td>TCGA</td>\n",
       "      <td>Tumor</td>\n",
       "    </tr>\n",
       "    <tr>\n",
       "      <th>TCGA-XC-AA0X-01</th>\n",
       "      <td>Lung Squamous Cell Carcinoma</td>\n",
       "      <td>Lung Squamous Cell Carcinoma</td>\n",
       "      <td>Lung</td>\n",
       "      <td>Primary Tumor</td>\n",
       "      <td>Female</td>\n",
       "      <td>TCGA</td>\n",
       "      <td>Tumor</td>\n",
       "    </tr>\n",
       "  </tbody>\n",
       "</table>\n",
       "<p>1410 rows × 7 columns</p>\n",
       "</div>"
      ],
      "text/plain": [
       "                                              category  \\\n",
       "id                                                       \n",
       "GTEX-111CU-0326-SM-5GZXO                          Lung   \n",
       "GTEX-111FC-1126-SM-5GZWU                          Lung   \n",
       "GTEX-111VG-0726-SM-5GIDC                          Lung   \n",
       "GTEX-111YS-0626-SM-5GZXV                          Lung   \n",
       "GTEX-1122O-0126-SM-5GICA                          Lung   \n",
       "...                                                ...   \n",
       "TCGA-O2-A52V-01           Lung Squamous Cell Carcinoma   \n",
       "TCGA-O2-A52W-01           Lung Squamous Cell Carcinoma   \n",
       "TCGA-O2-A5IB-01           Lung Squamous Cell Carcinoma   \n",
       "TCGA-S2-AA1A-01                    Lung Adenocarcinoma   \n",
       "TCGA-XC-AA0X-01           Lung Squamous Cell Carcinoma   \n",
       "\n",
       "                                               disease primary_site  \\\n",
       "id                                                                    \n",
       "GTEX-111CU-0326-SM-5GZXO                          Lung         Lung   \n",
       "GTEX-111FC-1126-SM-5GZWU                          Lung         Lung   \n",
       "GTEX-111VG-0726-SM-5GIDC                          Lung         Lung   \n",
       "GTEX-111YS-0626-SM-5GZXV                          Lung         Lung   \n",
       "GTEX-1122O-0126-SM-5GICA                          Lung         Lung   \n",
       "...                                                ...          ...   \n",
       "TCGA-O2-A52V-01           Lung Squamous Cell Carcinoma         Lung   \n",
       "TCGA-O2-A52W-01           Lung Squamous Cell Carcinoma         Lung   \n",
       "TCGA-O2-A5IB-01           Lung Squamous Cell Carcinoma         Lung   \n",
       "TCGA-S2-AA1A-01                    Lung Adenocarcinoma         Lung   \n",
       "TCGA-XC-AA0X-01           Lung Squamous Cell Carcinoma         Lung   \n",
       "\n",
       "                            sample_type  gender study tumor_normal  \n",
       "id                                                                  \n",
       "GTEX-111CU-0326-SM-5GZXO  Normal Tissue    Male  GTEX       Normal  \n",
       "GTEX-111FC-1126-SM-5GZWU  Normal Tissue    Male  GTEX       Normal  \n",
       "GTEX-111VG-0726-SM-5GIDC  Normal Tissue    Male  GTEX       Normal  \n",
       "GTEX-111YS-0626-SM-5GZXV  Normal Tissue    Male  GTEX       Normal  \n",
       "GTEX-1122O-0126-SM-5GICA  Normal Tissue  Female  GTEX       Normal  \n",
       "...                                 ...     ...   ...          ...  \n",
       "TCGA-O2-A52V-01           Primary Tumor  Female  TCGA        Tumor  \n",
       "TCGA-O2-A52W-01           Primary Tumor    Male  TCGA        Tumor  \n",
       "TCGA-O2-A5IB-01           Primary Tumor  Female  TCGA        Tumor  \n",
       "TCGA-S2-AA1A-01           Primary Tumor  Female  TCGA        Tumor  \n",
       "TCGA-XC-AA0X-01           Primary Tumor  Female  TCGA        Tumor  \n",
       "\n",
       "[1410 rows x 7 columns]"
      ]
     },
     "execution_count": 6,
     "metadata": {},
     "output_type": "execute_result"
    }
   ],
   "source": [
    "# Do categories contain normal and cancer examples\n",
    "lungMetaDF = YDF[lungCancerRows]\n",
    "lungMetaDF"
   ]
  },
  {
   "cell_type": "code",
   "execution_count": 7,
   "metadata": {},
   "outputs": [
    {
     "name": "stdout",
     "output_type": "stream",
     "text": [
      "<class 'pandas.core.frame.DataFrame'>\n",
      "Index(['disease', 'primary_site', 'sample_type', 'gender', 'study',\n",
      "       'tumor_normal'],\n",
      "      dtype='object')\n",
      "Index(['Lung', 'Lung Adenocarcinoma', 'Lung Squamous Cell Carcinoma'], dtype='object', name='category')\n",
      "[[288 288 288 288 288 288]\n",
      " [574 574 574 574 574 574]\n",
      " [548 548 548 548 548 548]]\n",
      "[288 574 548]\n"
     ]
    }
   ],
   "source": [
    "c = lungMetaDF.groupby('category').count()\n",
    "print(type(c))\n",
    "print(c.columns)\n",
    "print(c.index)\n",
    "print(c.values)\n",
    "print(c.iloc[:, 0].values)"
   ]
  },
  {
   "cell_type": "code",
   "execution_count": 8,
   "metadata": {},
   "outputs": [
    {
     "data": {
      "image/png": "[encoded data removed]",
      "text/plain": [
       "<Figure size 864x360 with 1 Axes>"
      ]
     },
     "metadata": {
      "needs_background": "light"
     },
     "output_type": "display_data"
    }
   ],
   "source": [
    "   figureWidthInInches = 12\n",
    "figureHeightInInches = 5\n",
    "fig = plt.figure(figsize=(figureWidthInInches,figureHeightInInches))\n",
    "\n",
    "panelWidthInInches = figureWidthInInches\n",
    "panelHeightInInches = figureHeightInInches\n",
    "leftRelativeSize = 0\n",
    "bottomRelativeSize = 1\n",
    "panel = mu.createPanel(fig, panelWidthInInches, panelHeightInInches,\n",
    "                leftRelativeSize, bottomRelativeSize)\n",
    "    \n",
    "barNames = YDF.groupby('category')['disease'].count().index.to_numpy()\n",
    "barHeights = YDF.groupby('category')['disease'].count().to_numpy()\n",
    "xticksIdxList = [i for  i,str in enumerate(barNames) if 'Lung' in str ]\n",
    "\n",
    "mu.fancyBarGraph(panel, barHeights, barNames, xticksIdxList)\n",
    "\n",
    "panel.set_xlabel(\"Disease Categories\")\n",
    "panel.set_ylabel(\"Counts\")\n",
    "panel.text(60, 1500, \"categories contain normal and cancer examples\")\n",
    "    \n",
    "plt.show()"
   ]
  },
  {
   "cell_type": "markdown",
   "metadata": {},
   "source": [
    "### Data Summary\n",
    "- 93 different disease categories\n",
    "- many only have a few examples\n"
   ]
  },
  {
   "cell_type": "markdown",
   "metadata": {},
   "source": [
    "### <span style=\"color:red\">not all disease categories have normal and cancer examples</span>\n",
    "only 25 shared categories"
   ]
  },
  {
   "cell_type": "code",
   "execution_count": 9,
   "metadata": {},
   "outputs": [
    {
     "name": "stdout",
     "output_type": "stream",
     "text": [
      "[318 197 128 207 118]\n",
      "['Adipose - Subcutaneous' 'Adipose - Visceral (Omentum)' 'Adrenal Gland'\n",
      " 'Artery - Aorta' 'Artery - Coronary']\n",
      "80\n"
     ]
    }
   ],
   "source": [
    "# YDF.loc[ YDF['tumor_normal'] == 'Normal']\n",
    "normalDF = YDF.loc[ YDF['tumor_normal'] == 'Normal']\n",
    "normalDiseaseCounts = normalDF.groupby('category')['disease'].count().to_numpy()\n",
    "print(normalDiseaseCounts[0:5])\n",
    "normalBarNames = normalDF.groupby('category')['disease'].count().index.to_numpy()\n",
    "print(normalBarNames[0:5])\n",
    "print(len(normalBarNames))"
   ]
  },
  {
   "cell_type": "code",
   "execution_count": 10,
   "metadata": {},
   "outputs": [
    {
     "name": "stdout",
     "output_type": "stream",
     "text": [
      "[194 369  32  77 407]\n",
      "['Acute Lymphoblastic Leukemia' 'Acute Myeloid Leukemia'\n",
      " 'Acute Myeloid Leukemia, Induction Failure Subproject'\n",
      " 'Adrenocortical Cancer' 'Bladder Urothelial Carcinoma']\n",
      "38\n"
     ]
    }
   ],
   "source": [
    "tumorDF = YDF.loc[ YDF['tumor_normal'] == 'Tumor']\n",
    "tumorDiseaseCounts = tumorDF.groupby('category')['disease'].count().to_numpy()\n",
    "print(tumorDiseaseCounts[0:5])\n",
    "tumorBarNames = tumorDF.groupby('category')['disease'].count().index.to_numpy()\n",
    "print(tumorBarNames[0:5])\n",
    "print(len(tumorBarNames))"
   ]
  },
  {
   "cell_type": "code",
   "execution_count": 11,
   "metadata": {},
   "outputs": [
    {
     "name": "stdout",
     "output_type": "stream",
     "text": [
      "25\n"
     ]
    },
    {
     "data": {
      "text/plain": [
       "array(['Bladder Urothelial Carcinoma', 'Breast Invasive Carcinoma',\n",
       "       'Cervical & Endocervical Cancer', 'Cholangiocarcinoma',\n",
       "       'Colon Adenocarcinoma', 'Esophageal Carcinoma',\n",
       "       'Glioblastoma Multiforme', 'Head & Neck Squamous Cell Carcinoma',\n",
       "       'Kidney Chromophobe', 'Kidney Clear Cell Carcinoma',\n",
       "       'Kidney Papillary Cell Carcinoma',\n",
       "       'Liver Hepatocellular Carcinoma', 'Lung Adenocarcinoma',\n",
       "       'Lung Squamous Cell Carcinoma', 'Pancreatic Adenocarcinoma',\n",
       "       'Pheochromocytoma & Paraganglioma', 'Prostate Adenocarcinoma',\n",
       "       'Rectum Adenocarcinoma', 'Sarcoma', 'Skin Cutaneous Melanoma',\n",
       "       'Stomach Adenocarcinoma', 'Thymoma', 'Thyroid Carcinoma',\n",
       "       'Uterine Corpus Endometrioid Carcinoma', 'Wilms Tumor'],\n",
       "      dtype=object)"
      ]
     },
     "execution_count": 11,
     "metadata": {},
     "output_type": "execute_result"
    }
   ],
   "source": [
    "sharedDiseaseTypes = np.intersect1d(normalBarNames, tumorBarNames)\n",
    "print(len(sharedDiseaseTypes))\n",
    "sharedDiseaseTypes"
   ]
  },
  {
   "cell_type": "code",
   "execution_count": 12,
   "metadata": {},
   "outputs": [],
   "source": [
    "# select data set\n",
    "def selectSharedData(df, sharedDiseaseTypes):\n",
    "    shareDiseaseDFRows = df['disease'].isin(sharedDiseaseTypes)\n",
    "    sharedDF = df.loc[ shareDiseaseDFRows]\n",
    "    sharedBarNames = sharedDF.groupby('category')['disease'].count().index.to_numpy()\n",
    "    sharedBarHeights = sharedDF.groupby('category')['disease'].count().to_numpy()\n",
    "    sharedXticksIdxList = [i for  i,str in enumerate(sharedBarNames) if 'Lung' in str ]\n",
    "    return (sharedDF, sharedBarNames, sharedBarHeights, sharedXticksIdxList)\n",
    "\n",
    "tumorBarPlotData = selectSharedData(tumorDF, sharedDiseaseTypes)\n",
    "normalBarPlotData = selectSharedData(normalDF, sharedDiseaseTypes)"
   ]
  },
  {
   "cell_type": "code",
   "execution_count": 15,
   "metadata": {},
   "outputs": [
    {
     "data": {
      "image/png": "[encoded data removed]",
      "text/plain": [
       "<Figure size 720x360 with 1 Axes>"
      ]
     },
     "metadata": {
      "needs_background": "light"
     },
     "output_type": "display_data"
    }
   ],
   "source": [
    "figureWidthInInches = 10\n",
    "figureHeightInInches = 5\n",
    "fig = plt.figure(figsize=(figureWidthInInches,figureHeightInInches))\n",
    "\n",
    "panelWidthInInches = figureWidthInInches\n",
    "panelHeightInInches = figureHeightInInches\n",
    "leftRelativeSize = 0\n",
    "bottomRelativeSize = 1\n",
    "panel = mu.createPanel(fig, panelWidthInInches, panelHeightInInches,\n",
    "                leftRelativeSize, bottomRelativeSize)\n",
    "  \n",
    "normalColor = (255,0,0)\n",
    "alpha = 0.3\n",
    "nDF, sharedNBarNames, sharedNBarHeights, sharedNXticksIdxList = normalBarPlotData\n",
    "# display all desease names\n",
    "xticksIdxList = list(range(len(sharedNBarNames)))\n",
    "mu.fancyBarGraph(panel, sharedNBarHeights, sharedNBarNames, xticksIdxList,\n",
    "             RGBTuple=normalColor, alpha=alpha)\n",
    "\n",
    "tumorColor = (0,0,255)\n",
    "sharedTDF, sharedTBarNames, sharedTBarHeights, sharedTrXticksIdxList = tumorBarPlotData\n",
    "mu.fancyBarGraph(panel, sharedTBarHeights, sharedTBarNames, RGBTuple=tumorColor, alpha=alpha)\n",
    "\n",
    "panel.set_xlabel(\"Disease Categories\")\n",
    "panel.set_ylabel(\"Counts\")\n",
    "#panel.text(60, 1500, \"Diseases with both normal and tumor examples\")\n",
    "panel.set_title(\"Diseases with both normal and tumor examples\")\n",
    "\n",
    "colorMapTuples = [normalColor, tumorColor]\n",
    "labels         = ['normal',    'tumor']\n",
    "mu.addLegend(panel, colorMapTuples, labels, alpha=alpha)\n",
    "    \n",
    "plt.show()"
   ]
  },
  {
   "cell_type": "code",
   "execution_count": null,
   "metadata": {},
   "outputs": [],
   "source": []
  }
 ],
 "metadata": {
  "kernelspec": {
   "display_name": "Python 3",
   "language": "python",
   "name": "python3"
  },
  "language_info": {
   "codemirror_mode": {
    "name": "ipython",
    "version": 3
   },
   "file_extension": ".py",
   "mimetype": "text/x-python",
   "name": "python",
   "nbconvert_exporter": "python",
   "pygments_lexer": "ipython3",
   "version": "3.7.6"
  },
  "varInspector": {
   "cols": {
    "lenName": 16,
    "lenType": 16,
    "lenVar": 40
   },
   "kernels_config": {
    "python": {
     "delete_cmd_postfix": "",
     "delete_cmd_prefix": "del ",
     "library": "var_list.py",
     "varRefreshCmd": "print(var_dic_list())"
    },
    "r": {
     "delete_cmd_postfix": ") ",
     "delete_cmd_prefix": "rm(",
     "library": "var_list.r",
     "varRefreshCmd": "cat(var_dic_list()) "
    }
   },
   "types_to_exclude": [
    "module",
    "function",
    "builtin_function_or_method",
    "instance",
    "_Feature"
   ],
   "window_display": false
  }
 },
 "nbformat": 4,
 "nbformat_minor": 4
}
